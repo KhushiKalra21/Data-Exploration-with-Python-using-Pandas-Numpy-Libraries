{
 "cells": [
  {
   "cell_type": "markdown",
   "id": "00844408-d235-4fed-96d4-45fdbac5177e",
   "metadata": {},
   "source": [
    "### PROJECT INFORMATION\n",
    "\n",
    "DEVP Group project (Group 3)\n",
    "\n",
    "Vandana Jain - 055058, Khushi Kalra - 055021\n",
    "#### \"Enhancing Global Trade Efficiency: A Comprehensive Analysis of Markets, Products, and Logistics\""
   ]
  },
  {
   "cell_type": "markdown",
   "id": "a42d5e43-ae27-453f-9e62-cfb496db3bf0",
   "metadata": {},
   "source": [
    "### DESCRIPTION OF DATA\n",
    "\n",
    "###### Data Source & Size: \n",
    "The dataset, available on Kaggle, consists of information related to imports and exports, encompassing 15,000 observations. https://www.kaggle.com/datasets/chakilamvishwas/imports-exports-15000\n",
    "###### Data Type: \n",
    "This is a cross-sectional dataset, capturing a snapshot of import and export data.\n",
    "###### Data Dimensions: \n",
    "Number of Variables: 11 variables, Number of Observations: 15,000 observations.\n",
    "###### Data Variable Types: \n",
    "1. Text - 2 variables (Country Names, Commodity Descriptions).\n",
    "2. Number - 9 variables [Integer: 4 variables (Year, Product Codes), Decimal: 5 variables (Import/Export Values, Quantities)]\n",
    "###### Data Variable Categories: \n",
    "1. Index - Product Code, Year.\n",
    "2. Categorical Nominal: Country, Product Type.\n",
    "3. Categorical Ordinal: Product Classification (if hierarchical).\n",
    "4. Non-Categorical: Import/Export Values, Quantities (continuous numeric data)."
   ]
  },
  {
   "cell_type": "markdown",
   "id": "afb00ec2-77b5-4fc3-8022-a1017ec98477",
   "metadata": {},
   "source": [
    "### PROJECT OBJECTIVES\n",
    "1. Find the most ordered type of product.\n",
    "2. Find the country having the highest number of exports and imports.\n",
    "3. Find the most preferred shipping method\n",
    "4. Countries with the most numbers of orders\n",
    "5. Find the country with the highest total transaction value\n",
    "6. Find the product that is imported/exported the most by quantity\n",
    "7. Find the product category that has the highest total value of transactions\n",
    "8. Find the most frequent product imported/exported per country\n",
    "9. Find How does the average transaction value vary by product category\n",
    "10. Find customer has made the most transaction\n",
    "11. Find the total transaction quantity by product\n",
    "12. Find the most common product category handled by each port\n",
    "13. Find how does transaction value vary by country and import/export type"
   ]
  },
  {
   "cell_type": "markdown",
   "id": "b61d49e4-b867-4add-94d7-c775ecfdd00b",
   "metadata": {},
   "source": [
    "### PROBLEM STATEMENT\n",
    "Despite the world becoming more interconnected through globalization, countries still face trade imbalances due to shifting market demands, changing policies, and global events. Understanding the patterns behind these trade activities is crucial for making informed decisions. By analyzing a dataset of imports and exports, we aim to identify key factors driving these imbalances and develop insights into future global trade developments.\n"
   ]
  },
  {
   "cell_type": "markdown",
   "id": "092e1374-2d1d-4f06-9fe8-ed33152625fd",
   "metadata": {},
   "source": [
    "### OBSERVATIONS\n",
    "1. The dataset lists a wide variety of products traded across multiple countries, with categories such as machinery, electronics, clothing, and furniture. Machinery and electronics consistently have higher import/export quantities and values, making them key contributors to trade volume.\n",
    "___\n",
    "\n",
    "2. Countries such as Colombia, Turkey, Finland, and Christmas Island are frequently involved in transactions in the dataset, with Colombia showing a high volume of exports. This suggests that these countries are key players in international trade.\n",
    "___\n",
    "\n",
    "3. While the dataset does not explicitly mention shipping methods, based on product types (e.g., machinery, electronics), it’s likely that air freight and sea freight are commonly used for high-value goods. High-frequency trading countries like Colombia and Turkey are likely dependent on cost-effective but fast shipping options for large, high-value items.\n",
    "____\n",
    "\n",
    "4. Based on the transactional values and quantities in the dataset, machinery and electronics emerge as dominant categories, with electronics being heavily imported and machinery frequently exported. Quantities for these items are consistently higher compared to other categories.\n",
    "____\n",
    "\n",
    "5. The dataset shows a variety of payment terms, with Net 30 being one of the most common, followed by Prepaid and Cash on Delivery options.\n",
    "_____\n",
    "\n",
    "6. Countries like Colombia, Turkey, and Finland show high transaction values. For instance, Colombia is involved in a significant number of export transactions, particularly for high-value goods like machinery and electronics.\n",
    "_____\n",
    "\n",
    "7. Colombia: Frequent exports of machinery.\n",
    "   Turkey: Significant imports of electronics.\n",
    "   Finland: Active in both electronics and furniture trades.\n",
    "_____\n",
    "\n",
    "8. Machinery and electronics have higher average transaction values compared to other categories like clothing and furniture.\n",
    "_____\n",
    "\n",
    "9. The dataset includes numerous transaction IDs, but a detailed lookup shows that a few key customers are involved in repeated transactions for high-value items like machinery and electronics. Customers in countries like Colombia and Turkey appear repeatedly in the transaction logs, often engaging in high-volume orders.\n",
    "______\n",
    "\n",
    "10. Different ports specialize in different types of products depending on the import/export profiles of the country. For eg. Ports in Turkey handle electronics the most, while ports in Colombia focus on machinery.\n",
    "_____\n",
    "\n",
    "11. The variation in transaction value depends on the type of product being traded and the specific import/export relationships between countries. Export values from Colombia and Turkey are significantly higher for machinery and electronics, while imports into countries like Finland show higher transaction values for electronics.\n",
    "____\n"
   ]
  },
  {
   "cell_type": "markdown",
   "id": "75a55cf6-eb7e-4b8e-b28a-037dabec9af4",
   "metadata": {},
   "source": [
    "### MANAGERIAL INSIGHTS | RECOMMENDATIONS\n",
    "1. Identifying the most frequently ordered product type can help companies focus on optimizing supply chains for these products. This can lead to improved logistics planning, better stocking practices, and efficient resource allocation.\n",
    "###### Managerial Action: \n",
    "Prioritize product inventory and ensure that supply chain partnerships for the most ordered products are strong and efficient. The company should prioritize building partnerships with manufacturers or suppliers in these high-demand categories, ensuring timely and efficient restocking to meet international demand. Additionally, negotiating bulk deals for machinery and electronics imports may improve cost-efficiency. Set up inventory alerts and stock level monitoring systems to ensure popular products are always in stock.\n",
    "___\n",
    "\n",
    "2. Understanding which countries dominate imports and exports will provide valuable information on key trade partners. This helps in assessing which regions are critical for business success and where demand or supply shocks may impact operations.\n",
    "###### Managerial Action: \n",
    "Strengthen relationships with countries that contribute most to trade activities. Consider diversifying suppliers or markets if there is over-reliance on certain regions. Focusing on markets like Colombia and Turkey, where both imports and exports are prominent, can lead to better business growth, especially since these countries demonstrate both the capacity and demand for international trade. The company should develop targeted marketing campaigns and strategic partnerships in these regions, offering tailored solutions such as localized shipping options, promotional pricing for repeat orders, or establishing regional distribution centers to speed up delivery times and reduce shipping costs.\n",
    "___\n",
    "\n",
    "3. Knowing the most preferred shipping method helps companies streamline logistics, ensuring they use the most cost-effective and timely methods. This could also indicate trends in certain regions where particular methods are preferred. Choosing the appropriate shipping method based on product value and trade frequency is critical for controlling costs. Air freight may be faster but more expensive, while sea freight offers cost savings for larger shipments at the expense of longer delivery times.\n",
    "###### Managerial Action: \n",
    "Optimize logistics operations based on the most popular shipping method. This can lead to reduced costs and faster delivery times. Conduct a cost-benefit analysis for the different shipping methods to identify the most efficient for various product categories. For high-value, urgent items (e.g., electronics), air freight may be suitable, while bulk items like machinery can benefit from cost-effective sea freight. Negotiate rates with shipping companies based on high-volume shipping routes.\n",
    "____\n",
    "\n",
    "4. Countries with the highest transaction values likely represent the most profitable markets. Companies should ensure they have robust strategies to penetrate and maintain a competitive edge in these regions. Focusing efforts on these markets can maximize profitability, as they are likely to have more established infrastructure and demand for high-value goods.\n",
    "###### Managerial Action: \n",
    "Focus marketing and sales efforts on high-value countries to maximize profit. Explore opportunities for further investment or partnership in these regions. Prioritize efforts in regions with the highest transaction values, including setting up localized hubs or distribution centers in or near these regions to reduce delivery times and shipping costs. Engaging in trade agreements with local suppliers or distributors in these high-value markets could also enhance trade flow and profitability.\n",
    "____\n",
    "\n",
    "5. The products that dominate trade by quantity and value are often the economic drivers of the business. Focusing on these products can lead to optimized procurement and production strategies. These products are critical in maintaining global supply chains, and their high transaction values indicate their strategic importance in international trade. Businesses dealing in these products have the potential for higher revenue and repeat transactions.\n",
    "###### Managerial Action:\n",
    "Ensure that production, procurement, and distribution strategies are aligned to focus on these high-demand, high-value products. Negotiate better contracts with suppliers for these key products. Develop a specialized supply chain management strategy for electronics and machinery that minimizes stockouts and maintains competitive pricing. This could involve partnering with multiple suppliers to ensure a continuous supply of high-demand goods and using predictive analytics to forecast demand fluctuations.\n",
    "_____\n",
    "\n",
    "6. Different countries might demand specific products. Recognizing these patterns can help tailor marketing strategies and product offerings to suit regional demands better. Adjust product offerings and marketing messages accordingly to cater to regional preferences and maximize sales.\n",
    "###### Managerial Action: \n",
    "Customize product offerings and marketing strategies to suit regional preferences. Use localized campaigns to meet the specific needs of high-demand products in each country. Explore the potential to expand into complementary product categories in each market to capture additional customer segments.\n",
    "_____\n",
    "\n",
    "7. Analyzing how transaction value varies by product category can reveal which categories have high-value margins. This insight allows for targeted pricing and product management strategies. Adjust pricing strategies based on the transaction values of products in different countries. For example, since Colombia has higher export transaction values for machinery, there may be room to increase prices slightly without affecting demand.\n",
    "###### Managerial Action:\n",
    "Focus on high-value categories by improving product quality, increasing production, or enhancing marketing efforts. Optimize pricing strategies to maximize profits in these categories. Conduct pricing analysis for machinery exports to Colombia and electronics imports to Finland to identify opportunities for optimized pricing. Implement dynamic pricing models that account for demand, transaction size, and shipping costs to maintain competitiveness.\n",
    "\n",
    "_____\n",
    "\n",
    "8. Understanding which customers make the most transactions can help identify key accounts. These customers may require dedicated account managers or personalized services to maintain their loyalty. Identify and nurture relationships with the customers that generate the most transactions, especially in high-value goods like machinery and electronics. Offer loyalty programs or exclusive discounts to retain these key customers.\n",
    "###### Managerial Action: \n",
    "Develop customer retention strategies and offer incentives for repeat customers. Consider implementing loyalty programs for high-transaction customers. Implement a loyalty program offering discounts or rebates for frequent customers, particularly those in Colombia and Turkey, who order large volumes of machinery or electronics. Regularly assess customer buying behavior and provide tailored offers based on transaction history to encourage repeat purchases.\n",
    "_____\n",
    "\n",
    "9.  Identifying which products are commonly handled by specific ports can improve logistics efficiency. Ports that specialize in certain product types might offer faster processing and lower costs. Tailor logistics and warehousing strategies based on the most common product category handled by each port to reduce delays and improve supply chain efficiency.\n",
    "###### Managerial Action: \n",
    "Leverage port-specific expertise to reduce shipping times and costs. Ensure that ports handling high-demand products are prioritized in logistics planning. Set up specialized warehousing solutions near ports that frequently handle electronics, ensuring faster customs clearance and transport to local distributors. Use machinery-focused ports as primary export hubs to consolidate shipments and reduce transportation costs.\n",
    "______\n",
    "\n",
    "10. Different countries and trade types (import/export) may have varying transaction values. This can indicate where companies should focus trade efforts for maximum profitability.\n",
    "###### Managerial Action:\n",
    "Focus on regions and trade types that offer the highest returns. Develop tailored strategies for each trade type to ensure maximum profitability. Work with trade experts to identify tax breaks, subsidies, or trade agreements that may reduce costs or provide financial incentives for machinery exports and electronics imports. Leverage these benefits to offer competitive pricing and expand market share in key regions. Implement machine learning algorithms to forecast future demand based on seasonality, market trends, and transaction patterns. Use these predictions to optimize production and shipping schedules, reducing lead times and improving customer satisfaction.\n",
    "_____\n",
    "\n",
    "11. Net 30 terms are favorable for businesses needing time to process payments, but offering prepaid discounts can help the company manage cash flow more effectively. Prepaid transactions ensure immediate cash inflow, reducing the risk of bad debt.\n",
    "###### Managerial Action:\n",
    "The company could offer early payment incentives, such as a 2-3% discount for paying invoices within 10 days, which would improve cash flow. At the same time, offering extended Net 60 terms to reliable customers could encourage larger orders. Monitoring customer payment patterns will help in identifying which customers are most likely to benefit from these tailored payment plans.\n",
    "____\n",
    "\n",
    "\n",
    "#### Overall Managerial Recommendation:\n",
    "1. Global Trade Strategy: Based on insights from this data, managers should develop country-specific trade strategies, optimize product offerings, and strengthen relationships with key trading partners.\n",
    "2. Risk Management: Diversify trading partners and focus on countries/products that contribute most to profitability. This reduces the risk of over-dependence on a single market or product.\n",
    "3. Operational Efficiency: Streamline logistics by focusing on preferred shipping methods, port expertise, and high-demand products to ensure cost-effective and timely deliveries.\n",
    "4. Product Strategy and Demand Forecasting: Invest in machinery and electronics categories, given their dominance in international trade and their high quantities and transaction values. Use data to anticipate demand spikes for these products and align production/supply accordingly.\n",
    "5. Regional Focus for Growth: Concentrate resources on countries like Colombia and Turkey, where frequent and high-value trade occurs. Strengthen marketing and partnerships tailored to these regions to grow market share.\n",
    "6. Shipping Method and Cost Efficiency: For high-value items like electronics, use air freight for faster delivery. For bulkier or less time-sensitive goods like machinery, leverage sea freight to save on costs. Implement multi-modal shipping solutions to balance cost and speed based on product categories and shipping destinations.\n",
    "7. Leverage Payment Flexibility: Provide flexible payment terms like Net 30 for trusted partners but offer prepaid discounts to improve immediate cash inflow. Incentivize early payments to better manage cash flow, particularly in high-volume trading countries."
   ]
  },
  {
   "cell_type": "code",
   "execution_count": 3,
   "id": "d0df8fb6-4b03-499a-ad1a-d9a6f9bd12cc",
   "metadata": {},
   "outputs": [],
   "source": [
    "# Import Relevant Python Libraries.\n",
    "\n",
    "import os \n",
    "import pandas as pd"
   ]
  },
  {
   "cell_type": "code",
   "execution_count": 5,
   "id": "04584baf-0ee6-447d-bb88-8226d55a96a2",
   "metadata": {},
   "outputs": [
    {
     "name": "stdout",
     "output_type": "stream",
     "text": [
      "                             Transaction_ID           Country    Product  \\\n",
      "0      e3e70682-c209-4cac-a29f-6fbed82c07cd          Colombia   describe   \n",
      "1      f728b4fa-4248-4e3a-8a5d-2f346baa9455             Chile  president   \n",
      "2      eb1167b3-67a9-4378-bc65-c1e582e2e662            Turkey        far   \n",
      "3      f7c1bd87-4da5-4709-9471-3d60c8a70639  Christmas Island     agency   \n",
      "4      e443df78-9558-467f-9ba9-1faf7a024204           Finland     policy   \n",
      "...                                     ...               ...        ...   \n",
      "14995  48df15a8-0823-4964-8c16-eddf2756f382  Marshall Islands        not   \n",
      "14996  31106617-94a6-4646-a001-5e7bd45abc26           Bermuda        air   \n",
      "14997  ee485839-fbde-4ced-af18-d98f5e863081          Tanzania       show   \n",
      "14998  5acd54aa-ec8c-4055-be8b-a447861a471c            Tuvalu         TV   \n",
      "14999  5cc039d0-a052-41fd-bfbb-c9f60c4565ac   North Macedonia       year   \n",
      "\n",
      "      Import_Export  Quantity    Value        Date     Category  \\\n",
      "0            Export      1979  9506.57  07-12-2023    Machinery   \n",
      "1            Export      5763  7100.91  04-04-2023     Clothing   \n",
      "2            Import      5740  2450.34  21-08-2024  Electronics   \n",
      "3            Export      2592  7226.42  09-05-2022    Furniture   \n",
      "4            Export      2622  2817.29  03-04-2023  Electronics   \n",
      "...             ...       ...      ...         ...          ...   \n",
      "14995        Export      2860  2055.19  09-07-2024    Furniture   \n",
      "14996        Export      2443  6407.06  18-06-2024    Furniture   \n",
      "14997        Export      1702  9918.29  30-04-2020         Toys   \n",
      "14998        Export      8108  9288.57  29-04-2021     Clothing   \n",
      "14999        Import      5635   561.33  25-12-2019     Clothing   \n",
      "\n",
      "                     Port  Customs_Code   Weight Shipping_Method  \\\n",
      "0              Robertbury        620537  4248.65             Air   \n",
      "1                Shahport        927600  4340.81             Air   \n",
      "2        South Joshuatown        299258  4538.41             Air   \n",
      "3                Adamfort        996084  4886.14             Air   \n",
      "4               Juliebury        555981  4406.74             Air   \n",
      "...                   ...           ...      ...             ...   \n",
      "14995     South Karenfort        393463  4120.35            Land   \n",
      "14996         Jeffreyside        484143  1832.71             Air   \n",
      "14997  North Meganborough        354935  4203.52            Land   \n",
      "14998           Villafurt        234296  1597.72            Land   \n",
      "14999           West Gary        766709  2913.82             Air   \n",
      "\n",
      "                              Supplier        Customer  Invoice_Number  \\\n",
      "0      Garrison, Hubbard and Hendricks       Seth Hall        21000294   \n",
      "1                            Webb-Mack   Kimberly Ryan        88738432   \n",
      "2            Mendez, Jones and Johnson      Ryan Silva        89922099   \n",
      "3                      Schroeder-Smith      Jacob Gray        63216265   \n",
      "4                        Zimmerman LLC    Amy Stephens        94600248   \n",
      "...                                ...             ...             ...   \n",
      "14995                      Smith-Lewis   Darlene Davis        29605073   \n",
      "14996                      Jones Group      John Ramos        39044695   \n",
      "14997                    Barnes-Romero  Rebecca Phelps        78492040   \n",
      "14998       Smith, Allison and Bennett     Scott Yates        20799602   \n",
      "14999                    Fleming-Miles    Steven Young        79237293   \n",
      "\n",
      "          Payment_Terms  \n",
      "0      Cash on Delivery  \n",
      "1               Prepaid  \n",
      "2               Prepaid  \n",
      "3                Net 60  \n",
      "4      Cash on Delivery  \n",
      "...                 ...  \n",
      "14995            Net 60  \n",
      "14996  Cash on Delivery  \n",
      "14997            Net 30  \n",
      "14998  Cash on Delivery  \n",
      "14999            Net 30  \n",
      "\n",
      "[15000 rows x 16 columns]\n"
     ]
    }
   ],
   "source": [
    "# Load the Data.\n",
    "\n",
    "file_path = (\"C:\\\\Users\\\\khush\\\\OneDrive\\\\Desktop\\\\Project Dataset.csv\")\n",
    "\n",
    "\n",
    "if os.path.exists(file_path):\n",
    "   \n",
    "    df = pd.read_csv(file_path)\n",
    "    print(df)\n",
    "else:\n",
    "    print(\"File does not exist\")"
   ]
  },
  {
   "cell_type": "code",
   "execution_count": 7,
   "id": "8a4a9008-e1ad-497c-aa84-2646b018475b",
   "metadata": {},
   "outputs": [
    {
     "name": "stdout",
     "output_type": "stream",
     "text": [
      "(15000, 16)\n"
     ]
    }
   ],
   "source": [
    "#1. Display the Dimensions of Test Data.\n",
    "shape = df.shape\n",
    "print(df.shape)"
   ]
  },
  {
   "cell_type": "code",
   "execution_count": 9,
   "id": "6f4ff637-fd73-444e-8e2a-e41f1be58156",
   "metadata": {},
   "outputs": [
    {
     "data": {
      "text/html": [
       "<div>\n",
       "<style scoped>\n",
       "    .dataframe tbody tr th:only-of-type {\n",
       "        vertical-align: middle;\n",
       "    }\n",
       "\n",
       "    .dataframe tbody tr th {\n",
       "        vertical-align: top;\n",
       "    }\n",
       "\n",
       "    .dataframe thead th {\n",
       "        text-align: right;\n",
       "    }\n",
       "</style>\n",
       "<table border=\"1\" class=\"dataframe\">\n",
       "  <thead>\n",
       "    <tr style=\"text-align: right;\">\n",
       "      <th></th>\n",
       "      <th>Transaction_ID</th>\n",
       "      <th>Country</th>\n",
       "      <th>Product</th>\n",
       "      <th>Import_Export</th>\n",
       "      <th>Quantity</th>\n",
       "      <th>Value</th>\n",
       "      <th>Date</th>\n",
       "      <th>Category</th>\n",
       "      <th>Port</th>\n",
       "      <th>Customs_Code</th>\n",
       "      <th>Weight</th>\n",
       "      <th>Shipping_Method</th>\n",
       "      <th>Supplier</th>\n",
       "      <th>Customer</th>\n",
       "      <th>Invoice_Number</th>\n",
       "      <th>Payment_Terms</th>\n",
       "    </tr>\n",
       "  </thead>\n",
       "  <tbody>\n",
       "    <tr>\n",
       "      <th>14749</th>\n",
       "      <td>17b09194-2719-41af-bdc2-14af7ad4cd81</td>\n",
       "      <td>Western Sahara</td>\n",
       "      <td>remain</td>\n",
       "      <td>Export</td>\n",
       "      <td>3420</td>\n",
       "      <td>9646.85</td>\n",
       "      <td>21-09-2020</td>\n",
       "      <td>Machinery</td>\n",
       "      <td>Scottton</td>\n",
       "      <td>783909</td>\n",
       "      <td>4025.94</td>\n",
       "      <td>Sea</td>\n",
       "      <td>Ramirez LLC</td>\n",
       "      <td>Andrew Santos</td>\n",
       "      <td>7927510</td>\n",
       "      <td>Net 30</td>\n",
       "    </tr>\n",
       "    <tr>\n",
       "      <th>7455</th>\n",
       "      <td>509e1a74-5b95-4ba0-919c-b2d20d4b830f</td>\n",
       "      <td>Kiribati</td>\n",
       "      <td>financial</td>\n",
       "      <td>Import</td>\n",
       "      <td>7505</td>\n",
       "      <td>3418.69</td>\n",
       "      <td>01-05-2024</td>\n",
       "      <td>Furniture</td>\n",
       "      <td>Catherineburgh</td>\n",
       "      <td>430088</td>\n",
       "      <td>302.68</td>\n",
       "      <td>Air</td>\n",
       "      <td>Walls-Brown</td>\n",
       "      <td>Michael Davis</td>\n",
       "      <td>2731646</td>\n",
       "      <td>Cash on Delivery</td>\n",
       "    </tr>\n",
       "    <tr>\n",
       "      <th>2423</th>\n",
       "      <td>f149e41e-edfa-4d17-bb9f-69820803174d</td>\n",
       "      <td>Czech Republic</td>\n",
       "      <td>consider</td>\n",
       "      <td>Export</td>\n",
       "      <td>6586</td>\n",
       "      <td>7663.66</td>\n",
       "      <td>24-04-2022</td>\n",
       "      <td>Clothing</td>\n",
       "      <td>Cuevasside</td>\n",
       "      <td>808051</td>\n",
       "      <td>4114.87</td>\n",
       "      <td>Sea</td>\n",
       "      <td>Daniel, Hanson and Martin</td>\n",
       "      <td>Christopher Beck</td>\n",
       "      <td>67389663</td>\n",
       "      <td>Prepaid</td>\n",
       "    </tr>\n",
       "    <tr>\n",
       "      <th>14651</th>\n",
       "      <td>877591e8-b1f1-4283-8ce2-60bd4491b2ab</td>\n",
       "      <td>Belize</td>\n",
       "      <td>agree</td>\n",
       "      <td>Import</td>\n",
       "      <td>4638</td>\n",
       "      <td>3642.39</td>\n",
       "      <td>29-07-2023</td>\n",
       "      <td>Furniture</td>\n",
       "      <td>Johnsonport</td>\n",
       "      <td>961898</td>\n",
       "      <td>519.65</td>\n",
       "      <td>Land</td>\n",
       "      <td>Duncan, Howard and Smith</td>\n",
       "      <td>Todd Smith</td>\n",
       "      <td>6407165</td>\n",
       "      <td>Net 60</td>\n",
       "    </tr>\n",
       "    <tr>\n",
       "      <th>2304</th>\n",
       "      <td>d0506f58-e455-4337-a898-6430fabd7787</td>\n",
       "      <td>Kuwait</td>\n",
       "      <td>occur</td>\n",
       "      <td>Export</td>\n",
       "      <td>7293</td>\n",
       "      <td>2021.51</td>\n",
       "      <td>07-12-2020</td>\n",
       "      <td>Toys</td>\n",
       "      <td>East Kathleentown</td>\n",
       "      <td>188526</td>\n",
       "      <td>3171.25</td>\n",
       "      <td>Sea</td>\n",
       "      <td>Fisher, Anderson and Hernandez</td>\n",
       "      <td>Kelsey Bautista</td>\n",
       "      <td>59991743</td>\n",
       "      <td>Cash on Delivery</td>\n",
       "    </tr>\n",
       "    <tr>\n",
       "      <th>...</th>\n",
       "      <td>...</td>\n",
       "      <td>...</td>\n",
       "      <td>...</td>\n",
       "      <td>...</td>\n",
       "      <td>...</td>\n",
       "      <td>...</td>\n",
       "      <td>...</td>\n",
       "      <td>...</td>\n",
       "      <td>...</td>\n",
       "      <td>...</td>\n",
       "      <td>...</td>\n",
       "      <td>...</td>\n",
       "      <td>...</td>\n",
       "      <td>...</td>\n",
       "      <td>...</td>\n",
       "      <td>...</td>\n",
       "    </tr>\n",
       "    <tr>\n",
       "      <th>13493</th>\n",
       "      <td>790e9908-98b5-45b9-ab14-7b2566fc9ca7</td>\n",
       "      <td>Nauru</td>\n",
       "      <td>nearly</td>\n",
       "      <td>Export</td>\n",
       "      <td>9731</td>\n",
       "      <td>7163.61</td>\n",
       "      <td>04-12-2021</td>\n",
       "      <td>Electronics</td>\n",
       "      <td>West April</td>\n",
       "      <td>963118</td>\n",
       "      <td>2564.16</td>\n",
       "      <td>Sea</td>\n",
       "      <td>Johnston-Davies</td>\n",
       "      <td>Tina Mcbride</td>\n",
       "      <td>71730399</td>\n",
       "      <td>Net 30</td>\n",
       "    </tr>\n",
       "    <tr>\n",
       "      <th>3338</th>\n",
       "      <td>1698f0e4-836c-499b-be48-6b653a6301f5</td>\n",
       "      <td>United States of America</td>\n",
       "      <td>not</td>\n",
       "      <td>Import</td>\n",
       "      <td>6659</td>\n",
       "      <td>1348.70</td>\n",
       "      <td>19-02-2023</td>\n",
       "      <td>Furniture</td>\n",
       "      <td>Lake Anthonyshire</td>\n",
       "      <td>654505</td>\n",
       "      <td>4803.74</td>\n",
       "      <td>Sea</td>\n",
       "      <td>Davis, Kelly and Smith</td>\n",
       "      <td>Douglas Gardner</td>\n",
       "      <td>65092782</td>\n",
       "      <td>Net 60</td>\n",
       "    </tr>\n",
       "    <tr>\n",
       "      <th>14362</th>\n",
       "      <td>11f8584c-79a4-4acb-b7cb-5eaaf5b91143</td>\n",
       "      <td>Indonesia</td>\n",
       "      <td>either</td>\n",
       "      <td>Import</td>\n",
       "      <td>7141</td>\n",
       "      <td>2323.44</td>\n",
       "      <td>30-08-2020</td>\n",
       "      <td>Machinery</td>\n",
       "      <td>Brewershire</td>\n",
       "      <td>817941</td>\n",
       "      <td>2009.33</td>\n",
       "      <td>Sea</td>\n",
       "      <td>Avila, Cook and Osborne</td>\n",
       "      <td>Ashley Padilla</td>\n",
       "      <td>62226956</td>\n",
       "      <td>Net 30</td>\n",
       "    </tr>\n",
       "    <tr>\n",
       "      <th>5056</th>\n",
       "      <td>24deede9-a173-49de-a1a8-fc40fa2b6c87</td>\n",
       "      <td>Mauritania</td>\n",
       "      <td>heart</td>\n",
       "      <td>Import</td>\n",
       "      <td>2112</td>\n",
       "      <td>9671.00</td>\n",
       "      <td>11-11-2020</td>\n",
       "      <td>Toys</td>\n",
       "      <td>Johnsonstad</td>\n",
       "      <td>691353</td>\n",
       "      <td>619.97</td>\n",
       "      <td>Air</td>\n",
       "      <td>Clark-Moore</td>\n",
       "      <td>Mrs. Regina Flores DVM</td>\n",
       "      <td>30375102</td>\n",
       "      <td>Prepaid</td>\n",
       "    </tr>\n",
       "    <tr>\n",
       "      <th>3022</th>\n",
       "      <td>cba93005-c402-4537-a447-e1ba2da2bcd5</td>\n",
       "      <td>Slovenia</td>\n",
       "      <td>community</td>\n",
       "      <td>Export</td>\n",
       "      <td>9036</td>\n",
       "      <td>9498.44</td>\n",
       "      <td>17-04-2024</td>\n",
       "      <td>Toys</td>\n",
       "      <td>Stewartland</td>\n",
       "      <td>720236</td>\n",
       "      <td>652.92</td>\n",
       "      <td>Air</td>\n",
       "      <td>Shea-Haney</td>\n",
       "      <td>Blake Stewart</td>\n",
       "      <td>26648724</td>\n",
       "      <td>Net 30</td>\n",
       "    </tr>\n",
       "  </tbody>\n",
       "</table>\n",
       "<p>2001 rows × 16 columns</p>\n",
       "</div>"
      ],
      "text/plain": [
       "                             Transaction_ID                   Country  \\\n",
       "14749  17b09194-2719-41af-bdc2-14af7ad4cd81            Western Sahara   \n",
       "7455   509e1a74-5b95-4ba0-919c-b2d20d4b830f                  Kiribati   \n",
       "2423   f149e41e-edfa-4d17-bb9f-69820803174d            Czech Republic   \n",
       "14651  877591e8-b1f1-4283-8ce2-60bd4491b2ab                    Belize   \n",
       "2304   d0506f58-e455-4337-a898-6430fabd7787                    Kuwait   \n",
       "...                                     ...                       ...   \n",
       "13493  790e9908-98b5-45b9-ab14-7b2566fc9ca7                     Nauru   \n",
       "3338   1698f0e4-836c-499b-be48-6b653a6301f5  United States of America   \n",
       "14362  11f8584c-79a4-4acb-b7cb-5eaaf5b91143                 Indonesia   \n",
       "5056   24deede9-a173-49de-a1a8-fc40fa2b6c87                Mauritania   \n",
       "3022   cba93005-c402-4537-a447-e1ba2da2bcd5                  Slovenia   \n",
       "\n",
       "         Product Import_Export  Quantity    Value        Date     Category  \\\n",
       "14749     remain        Export      3420  9646.85  21-09-2020    Machinery   \n",
       "7455   financial        Import      7505  3418.69  01-05-2024    Furniture   \n",
       "2423    consider        Export      6586  7663.66  24-04-2022     Clothing   \n",
       "14651      agree        Import      4638  3642.39  29-07-2023    Furniture   \n",
       "2304       occur        Export      7293  2021.51  07-12-2020         Toys   \n",
       "...          ...           ...       ...      ...         ...          ...   \n",
       "13493     nearly        Export      9731  7163.61  04-12-2021  Electronics   \n",
       "3338         not        Import      6659  1348.70  19-02-2023    Furniture   \n",
       "14362     either        Import      7141  2323.44  30-08-2020    Machinery   \n",
       "5056       heart        Import      2112  9671.00  11-11-2020         Toys   \n",
       "3022   community        Export      9036  9498.44  17-04-2024         Toys   \n",
       "\n",
       "                    Port  Customs_Code   Weight Shipping_Method  \\\n",
       "14749           Scottton        783909  4025.94             Sea   \n",
       "7455      Catherineburgh        430088   302.68             Air   \n",
       "2423          Cuevasside        808051  4114.87             Sea   \n",
       "14651        Johnsonport        961898   519.65            Land   \n",
       "2304   East Kathleentown        188526  3171.25             Sea   \n",
       "...                  ...           ...      ...             ...   \n",
       "13493         West April        963118  2564.16             Sea   \n",
       "3338   Lake Anthonyshire        654505  4803.74             Sea   \n",
       "14362        Brewershire        817941  2009.33             Sea   \n",
       "5056         Johnsonstad        691353   619.97             Air   \n",
       "3022         Stewartland        720236   652.92             Air   \n",
       "\n",
       "                             Supplier                Customer  Invoice_Number  \\\n",
       "14749                     Ramirez LLC           Andrew Santos         7927510   \n",
       "7455                      Walls-Brown           Michael Davis         2731646   \n",
       "2423        Daniel, Hanson and Martin        Christopher Beck        67389663   \n",
       "14651        Duncan, Howard and Smith              Todd Smith         6407165   \n",
       "2304   Fisher, Anderson and Hernandez         Kelsey Bautista        59991743   \n",
       "...                               ...                     ...             ...   \n",
       "13493                 Johnston-Davies            Tina Mcbride        71730399   \n",
       "3338           Davis, Kelly and Smith         Douglas Gardner        65092782   \n",
       "14362         Avila, Cook and Osborne          Ashley Padilla        62226956   \n",
       "5056                      Clark-Moore  Mrs. Regina Flores DVM        30375102   \n",
       "3022                       Shea-Haney           Blake Stewart        26648724   \n",
       "\n",
       "          Payment_Terms  \n",
       "14749            Net 30  \n",
       "7455   Cash on Delivery  \n",
       "2423            Prepaid  \n",
       "14651            Net 60  \n",
       "2304   Cash on Delivery  \n",
       "...                 ...  \n",
       "13493            Net 30  \n",
       "3338             Net 60  \n",
       "14362            Net 30  \n",
       "5056            Prepaid  \n",
       "3022             Net 30  \n",
       "\n",
       "[2001 rows x 16 columns]"
      ]
     },
     "execution_count": 9,
     "metadata": {},
     "output_type": "execute_result"
    }
   ],
   "source": [
    "#2. Create an Unique Sample of 2001 Observations using Student Roll Number as Random State\n",
    "\n",
    "sd=df.sample(2001)\n",
    "sd\n",
    "df.sample(n=2001, random_state=5502158)"
   ]
  },
  {
   "cell_type": "code",
   "execution_count": 11,
   "id": "72a289a6-263a-4fcd-9257-7752b87d2377",
   "metadata": {},
   "outputs": [
    {
     "name": "stdout",
     "output_type": "stream",
     "text": [
      "(2001, 16)\n"
     ]
    }
   ],
   "source": [
    "# 3. Display the Dimensions of Sample Data.\n",
    "sample_df = df.sample(n=2001, random_state=5502158)\n",
    "print(sample_df.shape)"
   ]
  },
  {
   "cell_type": "code",
   "execution_count": 13,
   "id": "ee887093-490b-4cbf-858e-a72d9ef63a68",
   "metadata": {},
   "outputs": [
    {
     "name": "stdout",
     "output_type": "stream",
     "text": [
      "\n",
      "Information about the Sample DataFrame:\n",
      "<class 'pandas.core.frame.DataFrame'>\n",
      "Index: 2001 entries, 14749 to 3022\n",
      "Data columns (total 16 columns):\n",
      " #   Column           Non-Null Count  Dtype  \n",
      "---  ------           --------------  -----  \n",
      " 0   Transaction_ID   2001 non-null   object \n",
      " 1   Country          2001 non-null   object \n",
      " 2   Product          2001 non-null   object \n",
      " 3   Import_Export    2001 non-null   object \n",
      " 4   Quantity         2001 non-null   int64  \n",
      " 5   Value            2001 non-null   float64\n",
      " 6   Date             2001 non-null   object \n",
      " 7   Category         2001 non-null   object \n",
      " 8   Port             2001 non-null   object \n",
      " 9   Customs_Code     2001 non-null   int64  \n",
      " 10  Weight           2001 non-null   float64\n",
      " 11  Shipping_Method  2001 non-null   object \n",
      " 12  Supplier         2001 non-null   object \n",
      " 13  Customer         2001 non-null   object \n",
      " 14  Invoice_Number   2001 non-null   int64  \n",
      " 15  Payment_Terms    2001 non-null   object \n",
      "dtypes: float64(2), int64(3), object(11)\n",
      "memory usage: 265.8+ KB\n"
     ]
    }
   ],
   "source": [
    "# 4. Display Sample Data Information.\n",
    "\n",
    "print(\"\\nInformation about the Sample DataFrame:\")\n",
    "sample_df.info()"
   ]
  },
  {
   "cell_type": "code",
   "execution_count": 15,
   "id": "a766f805-0fea-4d1a-b7d0-d99f05edc7b4",
   "metadata": {},
   "outputs": [
    {
     "name": "stdout",
     "output_type": "stream",
     "text": [
      "\n",
      "First 5 Records of the Sample DataFrame:\n",
      "                             Transaction_ID         Country    Product  \\\n",
      "14749  17b09194-2719-41af-bdc2-14af7ad4cd81  Western Sahara     remain   \n",
      "7455   509e1a74-5b95-4ba0-919c-b2d20d4b830f        Kiribati  financial   \n",
      "2423   f149e41e-edfa-4d17-bb9f-69820803174d  Czech Republic   consider   \n",
      "14651  877591e8-b1f1-4283-8ce2-60bd4491b2ab          Belize      agree   \n",
      "2304   d0506f58-e455-4337-a898-6430fabd7787          Kuwait      occur   \n",
      "\n",
      "      Import_Export  Quantity    Value        Date   Category  \\\n",
      "14749        Export      3420  9646.85  21-09-2020  Machinery   \n",
      "7455         Import      7505  3418.69  01-05-2024  Furniture   \n",
      "2423         Export      6586  7663.66  24-04-2022   Clothing   \n",
      "14651        Import      4638  3642.39  29-07-2023  Furniture   \n",
      "2304         Export      7293  2021.51  07-12-2020       Toys   \n",
      "\n",
      "                    Port  Customs_Code   Weight Shipping_Method  \\\n",
      "14749           Scottton        783909  4025.94             Sea   \n",
      "7455      Catherineburgh        430088   302.68             Air   \n",
      "2423          Cuevasside        808051  4114.87             Sea   \n",
      "14651        Johnsonport        961898   519.65            Land   \n",
      "2304   East Kathleentown        188526  3171.25             Sea   \n",
      "\n",
      "                             Supplier          Customer  Invoice_Number  \\\n",
      "14749                     Ramirez LLC     Andrew Santos         7927510   \n",
      "7455                      Walls-Brown     Michael Davis         2731646   \n",
      "2423        Daniel, Hanson and Martin  Christopher Beck        67389663   \n",
      "14651        Duncan, Howard and Smith        Todd Smith         6407165   \n",
      "2304   Fisher, Anderson and Hernandez   Kelsey Bautista        59991743   \n",
      "\n",
      "          Payment_Terms  \n",
      "14749            Net 30  \n",
      "7455   Cash on Delivery  \n",
      "2423            Prepaid  \n",
      "14651            Net 60  \n",
      "2304   Cash on Delivery  \n"
     ]
    }
   ],
   "source": [
    "#5. Display the First 05 Records of the Sample Data.\n",
    "print(\"\\nFirst 5 Records of the Sample DataFrame:\")\n",
    "print(sample_df.head(5))"
   ]
  },
  {
   "cell_type": "code",
   "execution_count": 17,
   "id": "6564cb0b-c547-4e13-bf7c-7caa0bf59841",
   "metadata": {},
   "outputs": [
    {
     "name": "stdout",
     "output_type": "stream",
     "text": [
      "Names of Variables (Columns):\n",
      "['Transaction_ID', 'Country', 'Product', 'Import_Export', 'Quantity', 'Value', 'Date', 'Category', 'Port', 'Customs_Code', 'Weight', 'Shipping_Method', 'Supplier', 'Customer', 'Invoice_Number', 'Payment_Terms']\n"
     ]
    }
   ],
   "source": [
    "#6. Display the List of Names of the Variables.\n",
    "# List the names of variables (column names)\n",
    "variable_names = df.columns.tolist()\n",
    "\n",
    "# Display the names of the variables\n",
    "print(\"Names of Variables (Columns):\")\n",
    "print(variable_names)"
   ]
  },
  {
   "cell_type": "code",
   "execution_count": 19,
   "id": "4a9fe3c0-954b-48be-87bc-86708e5877c7",
   "metadata": {},
   "outputs": [
    {
     "name": "stdout",
     "output_type": "stream",
     "text": [
      "Index Variables:\n",
      "Customs_Code\n",
      "\n",
      "Non-Categorical Variables:\n",
      "['Transaction_ID', 'Country', 'Product', 'Import_Export', 'Quantity', 'Value', 'Date', 'Category', 'Port', 'Weight', 'Shipping_Method', 'Supplier', 'Customer', 'Invoice_Number', 'Payment_Terms']\n",
      "\n",
      "Categorical Variables - Nominal Type:\n",
      "['Country', 'Product', 'Import_Export', 'Category', 'Port', 'Shipping_Method', 'Supplier', 'Customer', 'Payment_Terms']\n",
      "\n",
      "Categorical Variables - Ordinal Type:\n",
      "['Transaction_ID', 'Quantity', 'Value', 'Customs_Code', 'Weight', 'Invoice_Number']\n"
     ]
    }
   ],
   "source": [
    "# 7. Identify & Display the List of following Variables:\n",
    "# 1. Index Variables.\n",
    "# 2. Categorical Variables - Nominal Type.\n",
    "# 3. Categorical Variables - Ordinal Type.\n",
    "# 4. Non-Categorical Variables.\n",
    "\n",
    "# Setting a column as index \n",
    "df.set_index('Customs_Code', inplace=True)  # Assuming 'Customs_Code' is now the index\n",
    "\n",
    "# Identify Index Variables\n",
    "index_variables = df.index.name  # Get the name of the index variable\n",
    "\n",
    "# Identify Non-Categorical Variables\n",
    "non_categorical_vars = [col for col in df.columns if df[col].dtype != 'category']\n",
    "\n",
    "# Identify Categorical Variables - Nominal Type\n",
    "nominal_vars = ['Country', 'Product', 'Import_Export','Category', 'Port', 'Shipping_Method', 'Supplier', 'Customer', 'Payment_Terms']  \n",
    "ordinal_vars = ['Transaction_ID', 'Quantity', 'Value', 'Customs_Code', 'Weight', 'Invoice_Number' ]\n",
    "for col in df.select_dtypes(include=['category']).columns:\n",
    "    if not df[col].categories.ordered:\n",
    "        nominal_vars.append(col)\n",
    "    else:\n",
    "        ordinal_vars.append(col)\n",
    "\n",
    "# Display results\n",
    "print(\"Index Variables:\")\n",
    "print(index_variables)\n",
    "\n",
    "print(\"\\nNon-Categorical Variables:\")\n",
    "print(non_categorical_vars)\n",
    "\n",
    "print(\"\\nCategorical Variables - Nominal Type:\")\n",
    "print(nominal_vars)\n",
    "\n",
    "print(\"\\nCategorical Variables - Ordinal Type:\")\n",
    "print(ordinal_vars)"
   ]
  },
  {
   "cell_type": "code",
   "execution_count": 21,
   "id": "6a9c6422-fe43-40b3-9acc-329b73876414",
   "metadata": {},
   "outputs": [
    {
     "name": "stdout",
     "output_type": "stream",
     "text": [
      "Subset of Non-Categorical Variables:\n",
      "                                    Transaction_ID           Country  \\\n",
      "Customs_Code                                                           \n",
      "620537        e3e70682-c209-4cac-a29f-6fbed82c07cd          Colombia   \n",
      "927600        f728b4fa-4248-4e3a-8a5d-2f346baa9455             Chile   \n",
      "299258        eb1167b3-67a9-4378-bc65-c1e582e2e662            Turkey   \n",
      "996084        f7c1bd87-4da5-4709-9471-3d60c8a70639  Christmas Island   \n",
      "555981        e443df78-9558-467f-9ba9-1faf7a024204           Finland   \n",
      "\n",
      "                Product Import_Export  Quantity    Value        Date  \\\n",
      "Customs_Code                                                           \n",
      "620537         describe        Export      1979  9506.57  07-12-2023   \n",
      "927600        president        Export      5763  7100.91  04-04-2023   \n",
      "299258              far        Import      5740  2450.34  21-08-2024   \n",
      "996084           agency        Export      2592  7226.42  09-05-2022   \n",
      "555981           policy        Export      2622  2817.29  03-04-2023   \n",
      "\n",
      "                 Category              Port   Weight Shipping_Method  \\\n",
      "Customs_Code                                                           \n",
      "620537          Machinery        Robertbury  4248.65             Air   \n",
      "927600           Clothing          Shahport  4340.81             Air   \n",
      "299258        Electronics  South Joshuatown  4538.41             Air   \n",
      "996084          Furniture          Adamfort  4886.14             Air   \n",
      "555981        Electronics         Juliebury  4406.74             Air   \n",
      "\n",
      "                                     Supplier       Customer  Invoice_Number  \\\n",
      "Customs_Code                                                                   \n",
      "620537        Garrison, Hubbard and Hendricks      Seth Hall        21000294   \n",
      "927600                              Webb-Mack  Kimberly Ryan        88738432   \n",
      "299258              Mendez, Jones and Johnson     Ryan Silva        89922099   \n",
      "996084                        Schroeder-Smith     Jacob Gray        63216265   \n",
      "555981                          Zimmerman LLC   Amy Stephens        94600248   \n",
      "\n",
      "                 Payment_Terms  \n",
      "Customs_Code                    \n",
      "620537        Cash on Delivery  \n",
      "927600                 Prepaid  \n",
      "299258                 Prepaid  \n",
      "996084                  Net 60  \n",
      "555981        Cash on Delivery  \n"
     ]
    }
   ],
   "source": [
    "#8. Subset and Display the Non-Categorical Variables.\n",
    "# Subset the DataFrame to keep only non-categorical variables\n",
    "non_categorical_df = df[non_categorical_vars]\n",
    "\n",
    "# Display the subset DataFrame\n",
    "print(\"Subset of Non-Categorical Variables:\")\n",
    "print(non_categorical_df.head())  # Display the first few rows of the subset"
   ]
  },
  {
   "cell_type": "code",
   "execution_count": 23,
   "id": "91ccedcc-e0ca-4bcd-8318-6976af3248c2",
   "metadata": {},
   "outputs": [
    {
     "name": "stdout",
     "output_type": "stream",
     "text": [
      "Descriptive Statistics of Non-Categorical Variables:\n",
      "           Quantity         Value        Weight  Invoice_Number\n",
      "count  15000.000000  15000.000000  15000.000000    1.500000e+04\n",
      "mean    4980.554733   5032.931120   2492.118859    5.020677e+07\n",
      "std     2866.166690   2857.593897   1451.378507    2.889888e+07\n",
      "min        1.000000    102.120000      0.570000    4.202600e+04\n",
      "25%     2517.000000   2552.750000   1243.482500    2.527742e+07\n",
      "50%     4958.500000   5045.705000   2476.135000    5.026745e+07\n",
      "75%     7458.250000   7504.700000   3747.392500    7.510045e+07\n",
      "max    10000.000000   9999.130000   4999.930000    9.999799e+07\n"
     ]
    }
   ],
   "source": [
    "#9.  Display the Descriptive Statistics of the Non-Categorical SubSet.\n",
    "\n",
    "# Subset the DataFrame to keep only non-categorical variables\n",
    "non_categorical_df = df[non_categorical_vars]\n",
    "\n",
    "# Display descriptive statistics of the non-categorical set\n",
    "print(\"Descriptive Statistics of Non-Categorical Variables:\")\n",
    "print(non_categorical_df.describe())"
   ]
  },
  {
   "cell_type": "code",
   "execution_count": 25,
   "id": "f3f4aac9-5061-4f86-bb2e-82010e6f4150",
   "metadata": {},
   "outputs": [
    {
     "name": "stdout",
     "output_type": "stream",
     "text": [
      "Subset of Categorical Variables - DataFrame 1:\n",
      "Empty DataFrame\n",
      "Columns: []\n",
      "Index: [620537, 927600, 299258, 996084, 555981, 741778, 816682, 950200, 962651, 675397, 189133, 412683, 119389, 506951, 778573, 337839, 158602, 909812, 699410, 130182, 101342, 673666, 981147, 302810, 545970, 348913, 999705, 542136, 183594, 915542, 372980, 778808, 574485, 562552, 634549, 817979, 389045, 313255, 476765, 428652, 569862, 209992, 975209, 577707, 867221, 117928, 451100, 110947, 955292, 671946, 786689, 374866, 737656, 717216, 440654, 527249, 695048, 539561, 646389, 751481, 603851, 291500, 227184, 765212, 108333, 888781, 898837, 305041, 667982, 905250, 486892, 517657, 622748, 567084, 117107, 618876, 548550, 776079, 253095, 405815, 892778, 752866, 325270, 673206, 636758, 258483, 271613, 441495, 438839, 711922, 801926, 855931, 475061, 406296, 258378, 805707, 301412, 657910, 881651, 791807, ...]\n",
      "\n",
      "[15000 rows x 0 columns]\n",
      "\n",
      "Subset of Categorical Variables - DataFrame 2:\n",
      "Empty DataFrame\n",
      "Columns: []\n",
      "Index: [620537, 927600, 299258, 996084, 555981, 741778, 816682, 950200, 962651, 675397, 189133, 412683, 119389, 506951, 778573, 337839, 158602, 909812, 699410, 130182, 101342, 673666, 981147, 302810, 545970, 348913, 999705, 542136, 183594, 915542, 372980, 778808, 574485, 562552, 634549, 817979, 389045, 313255, 476765, 428652, 569862, 209992, 975209, 577707, 867221, 117928, 451100, 110947, 955292, 671946, 786689, 374866, 737656, 717216, 440654, 527249, 695048, 539561, 646389, 751481, 603851, 291500, 227184, 765212, 108333, 888781, 898837, 305041, 667982, 905250, 486892, 517657, 622748, 567084, 117107, 618876, 548550, 776079, 253095, 405815, 892778, 752866, 325270, 673206, 636758, 258483, 271613, 441495, 438839, 711922, 801926, 855931, 475061, 406296, 258378, 805707, 301412, 657910, 881651, 791807, ...]\n",
      "\n",
      "[15000 rows x 0 columns]\n"
     ]
    }
   ],
   "source": [
    "# 10. Subset and Display the Categorical Variables.\n",
    "\n",
    "# Identify categorical columns\n",
    "categorical_cols = df.select_dtypes(include=['category']).columns\n",
    "\n",
    "# Subset the DataFrame to include only categorical variables\n",
    "categorical_df = df[categorical_cols]\n",
    "\n",
    "# Bifurcate the subset DataFrame into two DataFrames\n",
    "# Here, we simply split into two DataFrames based on even and odd indexed columns\n",
    "half = len(categorical_df.columns) // 2\n",
    "categorical_df1 = categorical_df.iloc[:, :half]\n",
    "categorical_df2 = categorical_df.iloc[:, half:]\n",
    "\n",
    "# Display the DataFrames\n",
    "print(\"Subset of Categorical Variables - DataFrame 1:\")\n",
    "print(categorical_df1)\n",
    "print(\"\\nSubset of Categorical Variables - DataFrame 2:\")\n",
    "print(categorical_df2)"
   ]
  },
  {
   "cell_type": "code",
   "execution_count": 27,
   "id": "43fab244-c97d-4419-9b4a-20db4d6952c6",
   "metadata": {},
   "outputs": [
    {
     "name": "stdout",
     "output_type": "stream",
     "text": [
      "Descriptive Statistics for 'Country':\n",
      "Value Counts:\n",
      "Country\n",
      "Congo               133\n",
      "Korea               113\n",
      "Pakistan             79\n",
      "Pitcairn Islands     79\n",
      "Israel               79\n",
      "                   ... \n",
      "Micronesia           45\n",
      "Reunion              44\n",
      "Liechtenstein        44\n",
      "Faroe Islands        43\n",
      "Palau                41\n",
      "Name: count, Length: 243, dtype: int64\n",
      "\n",
      "Unique Values:\n",
      "['Colombia' 'Chile' 'Turkey' 'Christmas Island' 'Finland' 'New Zealand'\n",
      " 'Falkland Islands (Malvinas)' 'Bangladesh' 'Burundi' 'Nicaragua' 'Italy'\n",
      " 'United Kingdom' 'Estonia' 'Malawi' 'South Africa' 'Greece' 'Azerbaijan'\n",
      " 'Angola' 'Grenada' 'Bahamas' 'Honduras' 'Poland' 'Cambodia'\n",
      " 'Guinea-Bissau' 'Nigeria' 'Cameroon' 'Paraguay' 'Niger' 'Somalia'\n",
      " 'Slovakia (Slovak Republic)' 'Malaysia' 'Latvia' 'Canada' 'Mauritius'\n",
      " 'Montserrat' 'Bulgaria' 'Uruguay' 'Gabon' 'Indonesia' 'Aruba'\n",
      " 'Bosnia and Herzegovina' 'North Macedonia' 'Denmark'\n",
      " 'Antarctica (the territory South of 60 deg S)' 'Tonga' 'Burkina Faso'\n",
      " 'Austria' 'Guinea' 'Afghanistan' 'Jersey' 'Czech Republic' 'Liberia'\n",
      " 'Seychelles' 'Congo' 'Jamaica' 'American Samoa' 'Uganda' 'Mongolia'\n",
      " 'Nepal' 'Uzbekistan' 'Myanmar' 'Palau' 'Marshall Islands' 'Suriname'\n",
      " 'Israel' 'Tanzania' 'South Georgia and the South Sandwich Islands'\n",
      " 'Guadeloupe' 'Egypt' \"Lao People's Democratic Republic\"\n",
      " 'United States Minor Outlying Islands' 'Mayotte' 'Cayman Islands'\n",
      " 'United Arab Emirates' 'Wallis and Futuna' 'Comoros' 'Bahrain' 'Yemen'\n",
      " 'Svalbard & Jan Mayen Islands' 'Dominica' 'Benin' 'Namibia' 'Nauru'\n",
      " 'Norfolk Island' 'Cocos (Keeling) Islands' 'Saint Barthelemy'\n",
      " 'Philippines' 'Japan' 'Brazil' 'Puerto Rico' 'Saint Helena'\n",
      " 'French Guiana' 'Guernsey' 'Peru' 'Korea' 'Timor-Leste' 'Tokelau'\n",
      " 'Northern Mariana Islands' 'Mexico' 'Western Sahara' 'Singapore'\n",
      " 'Maldives' 'Guam' 'Australia' 'Cook Islands' 'Mozambique' 'Monaco'\n",
      " 'Micronesia' 'Bhutan' 'Antigua and Barbuda' 'Moldova' 'Isle of Man'\n",
      " 'Mauritania' 'Hong Kong' 'Djibouti' 'Saudi Arabia' 'Ukraine' 'Bermuda'\n",
      " 'Slovenia' 'Malta' 'Thailand' 'Zimbabwe' 'Germany' 'Kuwait'\n",
      " 'Liechtenstein' 'Guatemala' 'Dominican Republic' 'Saint Martin' 'Kenya'\n",
      " 'Tajikistan' 'Croatia' 'Heard Island and McDonald Islands'\n",
      " 'Turks and Caicos Islands' 'Anguilla' 'Algeria' 'Chad' 'Costa Rica'\n",
      " 'Sri Lanka' 'Bolivia' 'India' 'Kyrgyz Republic' 'Oman'\n",
      " 'Equatorial Guinea' 'British Virgin Islands' 'Armenia' 'Venezuela' 'Cuba'\n",
      " 'Netherlands' 'Iran' 'Portugal' 'Lesotho' 'China' 'French Polynesia'\n",
      " 'Ethiopia' 'Romania' 'Hungary' 'Georgia' 'Libyan Arab Jamahiriya' 'Mali'\n",
      " 'Gambia' 'Palestinian Territory' 'Switzerland' 'Norway' 'Pakistan'\n",
      " 'Martinique' 'Brunei Darussalam' 'Sudan' 'Russian Federation'\n",
      " 'Pitcairn Islands' 'Rwanda' 'Eritrea' 'Qatar' 'Madagascar'\n",
      " 'Trinidad and Tobago' 'Netherlands Antilles' 'Barbados' 'Vanuatu'\n",
      " 'Holy See (Vatican City State)' 'Gibraltar' 'Papua New Guinea'\n",
      " 'Montenegro' 'Saint Kitts and Nevis' 'Fiji' 'Sierra Leone' 'Iceland'\n",
      " 'British Indian Ocean Territory (Chagos Archipelago)' 'Sweden'\n",
      " 'Turkmenistan' 'Faroe Islands' 'Kazakhstan' 'Saint Lucia' 'Albania'\n",
      " 'Iraq' 'Saint Vincent and the Grenadines' \"Cote d'Ivoire\" 'Andorra'\n",
      " 'Kiribati' 'Solomon Islands' 'Vietnam' 'United States of America'\n",
      " 'United States Virgin Islands' 'Belize' 'Bouvet Island (Bouvetoya)'\n",
      " 'Sao Tome and Principe' 'Luxembourg' 'Cyprus' 'Belarus'\n",
      " 'Syrian Arab Republic' 'Haiti' 'Zambia' 'Reunion' 'Spain' 'New Caledonia'\n",
      " 'Saint Pierre and Miquelon' 'Lithuania' 'Morocco' 'France' 'Botswana'\n",
      " 'French Southern Territories' 'Greenland' 'Argentina' 'Tunisia' 'Lebanon'\n",
      " 'Ghana' 'Jordan' 'Togo' 'Belgium' 'El Salvador' 'Taiwan' 'Niue' 'Serbia'\n",
      " 'Ecuador' 'San Marino' 'Tuvalu' 'Swaziland' 'Central African Republic'\n",
      " 'Macao' 'Samoa' 'Guyana' 'Panama' 'Senegal' 'Ireland' 'Cape Verde']\n",
      "\n",
      "Most Frequent Value:\n",
      "Congo\n",
      "\n",
      "Number of Unique Values:\n",
      "243\n",
      "\n",
      "--------------------------------------------------\n",
      "Descriptive Statistics for 'Product':\n",
      "Value Counts:\n",
      "Product\n",
      "family     28\n",
      "card       27\n",
      "music      27\n",
      "address    27\n",
      "bank       27\n",
      "           ..\n",
      "catch       7\n",
      "state       7\n",
      "energy      7\n",
      "deep        6\n",
      "rich        6\n",
      "Name: count, Length: 971, dtype: int64\n",
      "\n",
      "Unique Values:\n",
      "['describe' 'president' 'far' 'agency' 'policy' 'positive' 'back'\n",
      " 'population' 'last' 'sign' 'bed' 'safe' 'along' 'improve' 'understand'\n",
      " 'information' 'nature' 'stage' 'writer' 'than' 'its' 'help' 'prove'\n",
      " 'similar' 'receive' 'again' 'assume' 'government' 'area' 'it' 'physical'\n",
      " 'place' 'message' 'two' 'particular' 'might' 'mouth' 'themselves' 'many'\n",
      " 'day' 'finish' 'produce' 'black' 'collection' 'arm' 'answer' 'quickly'\n",
      " 'because' 'military' 'leader' 'Congress' 'actually' 'left' 'itself'\n",
      " 'once' 'major' 'what' 'record' 'later' 'could' 'baby' 'maybe' 'social'\n",
      " 'race' 'project' 'in' 'responsibility' 'able' 'strategy' 'control' 'take'\n",
      " 'such' 'agree' 'different' 'much' 'bad' 'today' 'to' 'discover' 'close'\n",
      " 'four' 'article' 'maintain' 'official' 'show' 'group' 'police' 'sort'\n",
      " 'professor' 'second' 'total' 'anyone' 'hair' 'bill' 'win' 'international'\n",
      " 'he' 'quite' 'look' 'between' 'impact' 'wrong' 'player' 'protect' 'road'\n",
      " 'ability' 'rate' 'building' 'radio' 'politics' 'care' 'contain' 'little'\n",
      " 'trip' 'lot' 'practice' 'coach' 'carry' 'usually' 'nothing' 'debate'\n",
      " 'down' 'worry' 'learn' 'interest' 'light' 'see' 'push' 'will' 'way' 'guy'\n",
      " 'forward' 'then' 'perform' 'brother' 'special' 'education' 'heart'\n",
      " 'morning' 'sea' 'huge' 'administration' 'eight' 'time' 'tend' 'fight'\n",
      " 'born' 'require' 'six' 'forget' 'especially' 'officer' 'rise' 'shake'\n",
      " 'life' 'out' 'whole' 'kid' 'those' 'drive' 'consider' 'loss' 'bag' 'role'\n",
      " 'including' 'price' 'form' 'camera' 'dream' 'easy' 'treat' 'year'\n",
      " 'couple' 'really' 'institution' 'professional' 'remember' 'call' 'fine'\n",
      " 'cell' 'manager' 'son' 'difference' 'scene' 'no' 'drug' 'oil' 'reality'\n",
      " 'dark' 'everybody' 'standard' 'red' 'community' 'measure' 'poor' 'can'\n",
      " 'just' 'throughout' 'relationship' 'store' 'point' 'may' 'into' 'picture'\n",
      " 'support' 'agreement' 'if' 'truth' 'upon' 'keep' 'something' 'also'\n",
      " 'your' 'rich' 'woman' 'medical' 'respond' 'lawyer' 'Mrs' 'recent' 'or'\n",
      " 'national' 'whatever' 'single' 'fund' 'network' 'material' 'house'\n",
      " 'focus' 'be' 'member' 'both' 'family' 'think' 'particularly' 'north'\n",
      " 'young' 'throw' 'save' 'knowledge' 'wish' 'man' 'myself' 'them' 'glass'\n",
      " 'seek' 'box' 'image' 'for' 'build' 'college' 'draw' 'southern'\n",
      " 'religious' 'old' 'production' 'sometimes' 'ok' 'yeah' 'available'\n",
      " 'difficult' 'pay' 'ahead' 'certainly' 'ready' 'finally' 'sense' 'claim'\n",
      " 'commercial' 'word' 'near' 'month' 'entire' 'PM' 'move' 'station' 'card'\n",
      " 'very' 'cost' 'hundred' 'fill' 'music' 'away' 'event' 'behavior' 'play'\n",
      " 'own' 'director' 'others' 'name' 'growth' 'reach' 'model' 'probably'\n",
      " 'billion' 'husband' 'service' 'imagine' 'firm' 'half' 'you' 'political'\n",
      " 'tell' 'challenge' 'country' 'American' 'eye' 'site' 'whether' 'deal'\n",
      " 'side' 'yard' 'movie' 'product' 'key' 'direction' 'simply' 'data'\n",
      " 'though' 'early' 'system' 'reason' 'boy' 'against' 'choose' 'about'\n",
      " 'course' 'clearly' 'speech' 'even' 'accept' 'season' 'city' 'fly'\n",
      " 'senior' 'know' 'me' 'civil' 'general' 'our' 'interview' 'weight' 'well'\n",
      " 'force' 'garden' 'charge' 'management' 'local' 'argue' 'doctor'\n",
      " 'discussion' 'consumer' 'figure' 'human' 'green' 'deep' 'concern'\n",
      " 'structure' 'inside' 'likely' 'number' 'onto' 'hot' 'street' 'home'\n",
      " 'need' 'attorney' 'yourself' 'next' 'quality' 'start' 'simple' 'theory'\n",
      " 'add' 'everyone' 'continue' 'whose' 'cold' 'newspaper' 'fear' 'style'\n",
      " 'experience' 'citizen' 'somebody' 'ever' 'each' 'pull' 'cultural' 'goal'\n",
      " 'line' 'indeed' 'law' 'perhaps' 'unit' 'benefit' 'eat' 'story' 'despite'\n",
      " 'wait' 'occur' 'toward' 'market' 'same' 'expect' 'floor' 'window'\n",
      " 'detail' 'table' 'blue' 'issue' 'moment' 'friend' 'people' 'provide'\n",
      " 'letter' 'book' 'mind' 'note' 'foreign' 'act' 'possible' 'participant'\n",
      " 'beautiful' 'edge' 'fire' 'go' 'suffer' 'pretty' 'center' 'of' 'outside'\n",
      " 'operation' 'attention' 'idea' 'increase' 'employee' 'pattern' 'defense'\n",
      " 'low' 'with' 'small' 'serve' 'soldier' 'specific' 'full' 'subject' 'seem'\n",
      " 'represent' 'by' 'third' 'nation' 'Democrat' 'thousand' 'not' 'power'\n",
      " 'determine' 'character' 'situation' 'voice' 'trade' 'apply' 'pass'\n",
      " 'report' 'whom' 'health' 'seven' 'hard' 'step' 'important' 'conference'\n",
      " 'thank' 'method' 'after' 'meeting' 'herself' 'TRUE' 'budget' 'effect'\n",
      " 'leave' 'her' 'condition' 'few' 'say' 'but' 'range' 'father' 'who'\n",
      " 'realize' 'wall' 'person' 'suggest' 'less' 'long' 'notice' 'suddenly'\n",
      " 'property' 'instead' 'off' 'central' 'put' 'before' 'give' 'together'\n",
      " 'manage' 'majority' 'here' 'list' 'door' 'fast' 'write' 'watch' 'office'\n",
      " 'clear' 'body' 'never' 'most' 'matter' 'best' 'student' 'kitchen'\n",
      " 'present' 'a' 'set' 'color' 'under' 'she' 'design' 'activity' 'hand'\n",
      " 'late' 'within' 'work' 'hope' 'why' 'begin' 'company' 'partner'\n",
      " 'industry' 'nearly' 'Mr' 'staff' 'become' 'reflect' 'program' 'feeling'\n",
      " 'current' 'prevent' 'free' 'sport' 'training' 'region' 'air' 'cause'\n",
      " 'expert' 'chance' 'when' 'must' 'share' 'tax' 'reveal' 'level' 'break'\n",
      " 'send' 'heavy' 'however' 'world' 'tree' 'recognize' 'find' 'war' 'pick'\n",
      " 'would' 'song' 'spring' 'successful' 'foot' 'some' 'series' 'use' 'from'\n",
      " 'stand' 'former' 'environmental' 'result' 'until' 'talk' 'tough'\n",
      " 'mention' 'himself' 'white' 'public' 'court' 'reduce' 'minute' 'security'\n",
      " 'election' 'job' 'account' 'recently' 'meet' 'head' 'make' 'per' 'middle'\n",
      " 'strong' 'resource' 'television' 'analysis' 'view' 'better' 'sell'\n",
      " 'across' 'term' 'water' 'thus' 'behind' 'how' 'raise' 'three' 'art' 'lay'\n",
      " 'grow' 'yes' 'week' 'base' 'organization' 'exactly' 'modern' 'certain'\n",
      " 'gas' 'other' 'process' 'paper' 'factor' 'traditional' 'agent' 'field'\n",
      " 'author' 'bank' 'walk' 'dinner' 'western' 'anything' 'as' 'ago'\n",
      " 'development' 'case' 'serious' 'federal' 'nice' 'soon' 'happen'\n",
      " 'marriage' 'return' 'almost' 'sound' 'try' 'everything' 'explain'\n",
      " 'beyond' 'page' 'threat' 'wide' 'now' 'rest' 'follow' 'they' 'media'\n",
      " 'one' 'appear' 'evidence' 'million' 'only' 'section' 'investment'\n",
      " 'mission' 'language' 'research' 'him' 'girl' 'smile' 'first' 'still'\n",
      " 'star' 'room' 'any' 'stay' 'read' 'all' 'financial' 'let' 'admit'\n",
      " 'change' 'there' 'least' 'gun' 'statement' 'child' 'address' 'movement'\n",
      " 'natural' 'significant' 'according' 'feel' 'parent' 'enter' 'east'\n",
      " 'stock' 'magazine' 'rather' 'plan' 'wear' 'around' 'degree' 'risk'\n",
      " 'example' 'TV' 'miss' 'over' 'phone' 'us' 'bit' 'involve' 'adult' 'five'\n",
      " 'on' 'happy' 'without' 'interesting' 'new' 'several' 'ten' 'trouble'\n",
      " 'another' 'travel' 'short' 'customer' 'trial' 'want' 'nor' 'up' 'so'\n",
      " 'skin' 'church' 'at' 'source' 'sure' 'crime' 'success' 'memory' 'cup'\n",
      " 'space' 'chair' 'hold' 'cover' 'worker' 'generation' 'study' 'science'\n",
      " 'candidate' 'else' 'since' 'my' 'often' 'hospital' 'relate' 'Republican'\n",
      " 'every' 'shoulder' 'piece' 'century' 'authority' 'money' 'rock' 'top'\n",
      " 'high' 'part' 'blood' 'south' 'listen' 'capital' 'check' 'class' 'turn'\n",
      " 'amount' 'culture' 'main' 'arrive' 'summer' 'action' 'fact' 'avoid'\n",
      " 'film' 'response' 'join' 'like' 'leg' 'common' 'mother' 'animal' 'more'\n",
      " 'night' 'none' 'painting' 'drop' 'do' 'teach' 'these' 'food' 'the' 'seat'\n",
      " 'laugh' 'mean' 'during' 'hear' 'spend' 'decide' 'compare' 'hotel' 'score'\n",
      " 'sister' 'bring' 'effort' 'news' 'prepare' 'above' 'someone' 'attack'\n",
      " 'guess' 'include' 'fish' 'their' 'wind' 'pressure' 'choice' 'option'\n",
      " 'approach' 'open' 'lose' 'where' 'democratic' 'peace' 'history' 'live'\n",
      " 'opportunity' 'task' 'west' 'personal' 'end' 'wife' 'environment' 'sing'\n",
      " 'hit' 'buy' 'allow' 'decision' 'town' 'economic' 'ground' 'although'\n",
      " 'career' 'size' 'and' 'business' 'beat' 'plant' 'campaign' 'treatment'\n",
      " 'yet' 'I' 'cut' 'thought' 'position' 'necessary' 'vote' 'front'\n",
      " 'performance' 'fall' 'lead' 'decade' 'wonder' 'society' 'right' 'large'\n",
      " 'good' 'surface' 'which' 'establish' 'party' 'game' 'should' 'dog'\n",
      " 'believe' 'teacher' 'land' 'ball' 'past' 'individual' 'affect' 'speak'\n",
      " 'type' 'popular' 'audience' 'value' 'identify' 'final' 'offer' 'team'\n",
      " 'hour' 'stop' 'owner' 'while' 'already' 'get' 'discuss' 'computer' 'test'\n",
      " 'tonight' 'car' 'sit' 'thing' 'future' 'enough' 'through' 'age' 'order'\n",
      " 'question' 'executive' 'alone' 'big' 'indicate' 'ask' 'run' 'daughter'\n",
      " 'we' 'school' 'scientist' 'skill' 'real' 'have' 'stuff' 'various'\n",
      " 'either' 'among' 'kind' 'that' 'purpose' 'rule' 'develop' 'too' 'machine'\n",
      " 'bar' 'always' 'technology' 'visit' 'item' 'create' 'face' 'exist' 'this'\n",
      " 'remain' 'economy' 'artist' 'enjoy' 'board' 'great' 'his' 'evening'\n",
      " 'catch' 'state' 'energy']\n",
      "\n",
      "Most Frequent Value:\n",
      "family\n",
      "\n",
      "Number of Unique Values:\n",
      "971\n",
      "\n",
      "--------------------------------------------------\n"
     ]
    }
   ],
   "source": [
    "#11.  Display the Descriptive Statistics of any 02 Categorical Variables.\n",
    "\n",
    "# Select two categorical columns for descriptive statistics\n",
    "cat_vars = ['Country', 'Product']\n",
    "\n",
    "# Display descriptive statistics for each selected categorical variable\n",
    "for var in cat_vars:\n",
    "    print(f\"Descriptive Statistics for '{var}':\")\n",
    "    print(f\"Value Counts:\\n{df[var].value_counts()}\\n\")\n",
    "    print(f\"Unique Values:\\n{df[var].unique()}\\n\")\n",
    "    print(f\"Most Frequent Value:\\n{df[var].mode().values[0]}\\n\")\n",
    "    print(f\"Number of Unique Values:\\n{df[var].nunique()}\\n\")\n",
    "    print(\"--------------------------------------------------\")"
   ]
  },
  {
   "cell_type": "code",
   "execution_count": 29,
   "id": "250d3c8f-18b3-46ea-a121-8990ecf6f207",
   "metadata": {},
   "outputs": [
    {
     "name": "stdout",
     "output_type": "stream",
     "text": [
      "Most Preferred Payment Terms: Cash on Delivery with 3831 orders\n",
      "Least Preferred Payment Terms: Net 30 with 3657 orders\n"
     ]
    }
   ],
   "source": [
    "#12.  Display the Most and Least Preferred Payment Terms.\n",
    "\n",
    "# Compute frequency of each ship mode\n",
    "Payment_Terms_counts = df['Payment_Terms'].value_counts()\n",
    "\n",
    "# Determine the most and least preferred payment mode.\n",
    "most_preferred = Payment_Terms_counts.idxmax()\n",
    "least_preferred = Payment_Terms_counts.idxmin()\n",
    "\n",
    "# Display results\n",
    "print(f\"Most Preferred Payment Terms: {most_preferred} with {Payment_Terms_counts[most_preferred]} orders\")\n",
    "print(f\"Least Preferred Payment Terms: {least_preferred} with {Payment_Terms_counts[least_preferred]} orders\")"
   ]
  },
  {
   "cell_type": "code",
   "execution_count": 33,
   "id": "af1fe869-24b3-483d-96a4-476320f64fcf",
   "metadata": {},
   "outputs": [
    {
     "name": "stdout",
     "output_type": "stream",
     "text": [
      "Country with the most orders: Congo (133 orders)\n",
      "Ports for this country:\n",
      "['Matthewville' 'New Traceymouth' 'Susanfurt' 'West William' 'South Mark'\n",
      " 'North Monicaport' 'Jesseview' 'Port Hannah' 'Anthonybury' 'Shannonview'\n",
      " 'Amyside' 'Jordanhaven' 'East Johnfort' 'Vegafort' 'South Brendaton'\n",
      " 'Karentown' 'North Collin' 'Curtisborough' 'Andersonshire' 'Mooreside'\n",
      " 'Port Stephanie' 'Lake Nicolehaven' 'North Mark' 'Elizabethberg'\n",
      " 'North Cory' 'Port Jane' 'North Jeremiahland' 'New Annfurt' 'New Allison'\n",
      " 'New Terrance' 'Lake Antoniofort' 'South Ashleefort' 'Noahport'\n",
      " 'Brendaville' 'Stephenston' 'East Kelly' 'North Samanthafort'\n",
      " 'South Josephshire' 'North Veronicaport' 'Carolview' 'Monicashire'\n",
      " 'Port Damonmouth' 'Moraleschester' 'Perezfort' 'North Heathermouth'\n",
      " 'North Tomborough' 'New Ericaside' 'Davistown' 'Codyland' 'Benjaminburgh'\n",
      " 'Ambershire' 'Swansonstad' 'Jeffreyborough' 'Williamfurt' 'West Cody'\n",
      " 'Kendrabury' 'New Nancyshire' 'Port Samantha' 'Virginiahaven'\n",
      " 'Rodriguezstad' 'Shawnhaven' 'East Brittanyburgh' 'Port Sherry'\n",
      " 'Lake Laura' 'Joshuaborough' 'Lake Jim' 'Wrightton' 'West Sherriburgh'\n",
      " 'New Edwardview' 'Garyfort' 'Bryanport' 'Margaretville' 'Francobury'\n",
      " 'Hughesborough' 'West Mary' 'West Paige' 'Kennethton' 'East Mariaport'\n",
      " 'Lake Denisemouth' 'Traceymouth' 'Bowmanmouth' 'South Sydneyshire'\n",
      " 'Ryanfurt' 'Brittneyville' 'South Mike' 'Allenshire' 'West Gary'\n",
      " 'Katherineland' 'Johnsonfort' 'New Sharonland' 'New Kaylachester'\n",
      " 'New Emilychester' 'New Michaelton' 'Chavezborough' 'North Juliaborough'\n",
      " 'Mercadoberg' 'North Bryantown' 'Stacyview' 'Joshuaview' 'Austinchester'\n",
      " 'Port Patricktown' 'New Randychester' 'Youngfort' 'Farmershire'\n",
      " 'New Matthew' 'Lindsayland' 'Lake Misty' 'Wandahaven' 'Hollyview'\n",
      " 'Sallyside' 'New Angelafurt' 'New Amandastad' 'Charlesbury'\n",
      " 'East Davidland' 'Wagnerville' 'Martinstad' 'West David' 'Lewischester'\n",
      " 'Aprilberg' 'Reynoldschester' 'Katherinebury' 'Katherinetown'\n",
      " 'Wrightview' 'Craigside' 'South Ana' 'East Melissaland' 'New John'\n",
      " 'Crawfordland' 'Lake Richardborough' 'Port Lindsayville' 'New Jasonberg'\n",
      " 'Juareztown' 'North Kathleentown']\n",
      "\n",
      "Country with the least orders: Palau (41 orders)\n",
      "Ports for this country:\n",
      "['Erikaton' 'Shawnfort' 'South Stephanie' 'North Amandafurt'\n",
      " 'West Kimberly' 'Lake Amy' 'West Robertbury' 'Lake Cody' 'Lake Gabriel'\n",
      " 'Lake Dylan' 'Kennethberg' 'North Benjaminberg' 'Lisastad'\n",
      " 'North Matthewville' 'Christophershire' 'Murphytown' 'New Stephen'\n",
      " 'Lake Evanbury' 'West Jerry' 'Sullivanton' 'East Alicia'\n",
      " 'South Alejandro' 'East Steven' 'North Thomasshire' 'Robinsonmouth'\n",
      " 'West Angela' 'North Stacy' 'Schroedermouth' 'Petersenborough'\n",
      " 'East Jodichester' 'Hernandezburgh' 'North Nichole' 'Samuelside'\n",
      " 'Port Judithhaven' 'Dianaside' 'East Angela' 'West Davidtown'\n",
      " 'Andersonhaven' 'West Justinport' 'East Paul' 'Taylorstad']\n"
     ]
    }
   ],
   "source": [
    "#13.  Display the Countries with the most and the least orders with respective ports.\n",
    "# Count the number of orders per country\n",
    "country_order_counts = df['Country'].value_counts()\n",
    "\n",
    "# Identify the country with the most orders\n",
    "most_orders_country = country_order_counts.idxmax()\n",
    "most_orders_count = country_order_counts.max()\n",
    "\n",
    "# Identify the country with the least orders\n",
    "least_orders_country = country_order_counts.idxmin()\n",
    "least_orders_count = country_order_counts.min()\n",
    "\n",
    "# Get the ports associated with the country with the most orders\n",
    "most_orders_ports = df[df['Country'] == most_orders_country]['Port'].unique()\n",
    "\n",
    "# Get the ports associated with the country with the least orders\n",
    "least_orders_ports = df[df['Country'] == least_orders_country]['Port'].unique()\n",
    "\n",
    "# Display results\n",
    "print(f\"Country with the most orders: {most_orders_country} ({most_orders_count} orders)\")\n",
    "print(\"Ports for this country:\")\n",
    "print(most_orders_ports)\n",
    "\n",
    "print(f\"\\nCountry with the least orders: {least_orders_country} ({least_orders_count} orders)\")\n",
    "print(\"Ports for this country:\")\n",
    "print(least_orders_ports)"
   ]
  },
  {
   "cell_type": "markdown",
   "id": "7d09a51c-198d-4fb5-ba39-f8adbdb54858",
   "metadata": {},
   "source": [
    "### Country having highest imports and exports"
   ]
  },
  {
   "cell_type": "code",
   "execution_count": 35,
   "id": "2f838e3e-3537-4f30-94ea-73502d02ceb2",
   "metadata": {},
   "outputs": [
    {
     "name": "stdout",
     "output_type": "stream",
     "text": [
      "Country with the most exports: Korea (65 orders)\n",
      "Ports for this country:\n",
      "['New Eileen' 'Kimberlyhaven' 'South Suzanneland' 'West Wayne'\n",
      " 'East Emily' 'Leeberg' 'West Joann' 'West Ronald' 'Flowersfort'\n",
      " 'Beckerton' 'Crystalhaven' 'Michaelmouth' 'North Alecfort'\n",
      " 'West Andrewview' 'South Tiffanychester' 'Port Ronaldton' 'Port Colleen'\n",
      " 'New Suzanne' 'Phillipsshire' 'East Holly' 'West Cynthia' 'Port Shannon'\n",
      " 'Loganborough' 'West Tiffany' 'Brendaborough' 'New Lisa'\n",
      " 'North Valerieside' 'Port Michelle' 'Alvarezburgh' 'West Deanna'\n",
      " 'Josephville' 'Jessicaville' 'New Jake' 'Jeffmouth' 'Gonzalestown'\n",
      " 'Kurtfort' 'North Michaelmouth' 'West Tylertown' 'Nguyenstad'\n",
      " 'New Christopher' 'North Denise' 'Matthewview' 'South Scott' 'Jamesbury'\n",
      " 'East Hannahside' 'Thomastown' 'Fischerburgh' 'Michaelshire' 'East Jesse'\n",
      " 'New Melissaview' 'Jeffreyland' 'Lake Tracyhaven' 'Port Tracie'\n",
      " 'North Heather' 'South Rebecca' 'Port Andrew' 'North Zachary'\n",
      " 'North Robert' 'Gatesshire' 'New Anthonyview' 'Garciaport' 'Buchananfurt'\n",
      " 'Kimberlybury' 'West Shelby' 'Robinsonfort']\n",
      "\n",
      "Country with the most imports: Congo (69 orders)\n",
      "Ports for this country:\n",
      "['Matthewville' 'New Traceymouth' 'South Mark' 'Shannonview' 'Amyside'\n",
      " 'Jordanhaven' 'East Johnfort' 'Vegafort' 'South Brendaton' 'North Collin'\n",
      " 'Mooreside' 'Port Stephanie' 'Lake Nicolehaven' 'North Mark'\n",
      " 'Elizabethberg' 'North Cory' 'Port Jane' 'New Allison' 'South Ashleefort'\n",
      " 'Noahport' 'Brendaville' 'Stephenston' 'East Kelly' 'South Josephshire'\n",
      " 'Carolview' 'Moraleschester' 'Perezfort' 'North Heathermouth' 'Codyland'\n",
      " 'Williamfurt' 'Kendrabury' 'New Nancyshire' 'Port Samantha' 'Shawnhaven'\n",
      " 'East Brittanyburgh' 'Joshuaborough' 'Bryanport' 'Margaretville'\n",
      " 'Francobury' 'West Mary' 'West Paige' 'Kennethton' 'Traceymouth'\n",
      " 'Bowmanmouth' 'Ryanfurt' 'Brittneyville' 'Allenshire' 'New Sharonland'\n",
      " 'New Emilychester' 'North Juliaborough' 'Mercadoberg' 'North Bryantown'\n",
      " 'Joshuaview' 'Austinchester' 'Port Patricktown' 'Farmershire'\n",
      " 'New Angelafurt' 'Wagnerville' 'West David' 'Reynoldschester'\n",
      " 'Katherinebury' 'Katherinetown' 'South Ana' 'Crawfordland'\n",
      " 'Lake Richardborough' 'Port Lindsayville' 'New Jasonberg' 'Juareztown'\n",
      " 'North Kathleentown']\n"
     ]
    }
   ],
   "source": [
    "#14. Display the countries that\n",
    "#(a) highest number of exports\n",
    "# (b) highest number of imports\n",
    "\n",
    "# Separate exports and imports\n",
    "exports_df = df[df['Import_Export'] == 'Export']\n",
    "imports_df = df[df['Import_Export'] == 'Import']\n",
    "\n",
    "# Count the number of orders per country for exports and imports\n",
    "exports_country_counts = exports_df['Country'].value_counts()\n",
    "imports_country_counts = imports_df['Country'].value_counts()\n",
    "\n",
    "# Identify the country with the most exports\n",
    "most_exports_country = exports_country_counts.idxmax()\n",
    "most_exports_count = exports_country_counts.max()\n",
    "\n",
    "# Identify the country with the most imports\n",
    "most_imports_country = imports_country_counts.idxmax()\n",
    "most_imports_count = imports_country_counts.max()\n",
    "\n",
    "# Get the ports associated with the country with the most exports\n",
    "most_exports_ports = exports_df[exports_df['Country'] == most_exports_country]['Port'].unique()\n",
    "\n",
    "# Get the ports associated with the country with the most imports\n",
    "most_imports_ports = imports_df[imports_df['Country'] == most_imports_country]['Port'].unique()\n",
    "\n",
    "# Display results\n",
    "print(f\"Country with the most exports: {most_exports_country} ({most_exports_count} orders)\")\n",
    "print(\"Ports for this country:\")\n",
    "print(most_exports_ports)\n",
    "\n",
    "print(f\"\\nCountry with the most imports: {most_imports_country} ({most_imports_count} orders)\")\n",
    "print(\"Ports for this country:\")\n",
    "print(most_imports_ports)"
   ]
  },
  {
   "cell_type": "code",
   "execution_count": 37,
   "id": "abb894d4-9f8c-49f3-a018-638f60e30597",
   "metadata": {},
   "outputs": [
    {
     "name": "stdout",
     "output_type": "stream",
     "text": [
      "Most Utilized Port for Each Country:\n",
      "                 Country                Port  Order_Count\n",
      "0            Afghanistan            Amyburgh            1\n",
      "56               Albania        Anthonyshire            1\n",
      "115              Algeria  Christopherchester            1\n",
      "186       American Samoa         Abigailland            1\n",
      "252              Andorra       Alexanderview            1\n",
      "...                  ...                 ...          ...\n",
      "14671  Wallis and Futuna           Adamsstad            1\n",
      "14736     Western Sahara          Adamsburgh            1\n",
      "14799              Yemen        Alvaradoberg            1\n",
      "14855             Zambia           Alecmouth            1\n",
      "14908           Zimbabwe          Allenmouth            1\n",
      "\n",
      "[243 rows x 3 columns]\n"
     ]
    }
   ],
   "source": [
    "#15. Display the most utilised port for each country. \n",
    "\n",
    "# Group by 'Country' and 'Port' and count the number of orders\n",
    "port_counts = df.groupby(['Country', 'Port']).size().reset_index(name='Order_Count')\n",
    "\n",
    "# Find the most utilized port for each country\n",
    "most_utilized_ports = port_counts.loc[port_counts.groupby('Country')['Order_Count'].idxmax()]\n",
    "\n",
    "# Display results\n",
    "print(\"Most Utilized Port for Each Country:\")\n",
    "print(most_utilized_ports)"
   ]
  },
  {
   "cell_type": "code",
   "execution_count": 39,
   "id": "f264c0cb-9d41-4580-90b8-ee749847e0e5",
   "metadata": {},
   "outputs": [
    {
     "name": "stdout",
     "output_type": "stream",
     "text": [
      "Most Utilized Import Port for Each Country:\n",
      "                Country           Port  Order_Count\n",
      "0           Afghanistan       Amyburgh            1\n",
      "33              Albania     East Donna            1\n",
      "56              Algeria   Cynthiashire            1\n",
      "97       American Samoa    Abigailland            1\n",
      "136             Andorra     Amandaberg            1\n",
      "...                 ...            ...          ...\n",
      "7404  Wallis and Futuna      Adamsstad            1\n",
      "7440     Western Sahara  Bradfordville            1\n",
      "7474              Yemen   Benjamintown            1\n",
      "7502             Zambia      Alecmouth            1\n",
      "7529           Zimbabwe     Allenmouth            1\n",
      "\n",
      "[243 rows x 3 columns]\n",
      "\n",
      "Most Utilized Export Port for Each Country:\n",
      "                Country                Port  Order_Count\n",
      "0           Afghanistan         Cynthiafort            1\n",
      "23              Albania        Anthonyshire            1\n",
      "59              Algeria  Christopherchester            1\n",
      "89       American Samoa       Alexanderberg            1\n",
      "116             Andorra       Alexanderview            1\n",
      "...                 ...                 ...          ...\n",
      "7284  Wallis and Futuna         Angelaburgh            1\n",
      "7313     Western Sahara          Adamsburgh            1\n",
      "7342              Yemen        Alvaradoberg            1\n",
      "7370             Zambia     Christopherberg            1\n",
      "7396           Zimbabwe         Barbaraport            1\n",
      "\n",
      "[243 rows x 3 columns]\n"
     ]
    }
   ],
   "source": [
    "#16. Find the most utilised import port and the most utilised export port for each country.\n",
    "\n",
    "# Filter for imports and exports\n",
    "imports_df = df[df['Import_Export'] == 'Import']\n",
    "exports_df = df[df['Import_Export'] == 'Export']\n",
    "\n",
    "# Group by 'Country' and 'Port' and count the number of orders for imports\n",
    "import_port_counts = imports_df.groupby(['Country', 'Port']).size().reset_index(name='Order_Count')\n",
    "\n",
    "# Group by 'Country' and 'Port' and count the number of orders for exports\n",
    "export_port_counts = exports_df.groupby(['Country', 'Port']).size().reset_index(name='Order_Count')\n",
    "\n",
    "# Find the most utilized import port for each country\n",
    "most_utilized_import_ports = import_port_counts.loc[import_port_counts.groupby('Country')['Order_Count'].idxmax()]\n",
    "\n",
    "# Find the most utilized export port for each country\n",
    "most_utilized_export_ports = export_port_counts.loc[export_port_counts.groupby('Country')['Order_Count'].idxmax()]\n",
    "\n",
    "# Display results\n",
    "print(\"Most Utilized Import Port for Each Country:\")\n",
    "print(most_utilized_import_ports)\n",
    "\n",
    "print(\"\\nMost Utilized Export Port for Each Country:\")\n",
    "print(most_utilized_export_ports)"
   ]
  },
  {
   "cell_type": "markdown",
   "id": "b247fb7f-8227-4180-92f6-7eca0ed9354a",
   "metadata": {},
   "source": [
    "### Most ordered type of the product"
   ]
  },
  {
   "cell_type": "code",
   "execution_count": 41,
   "id": "fddb723b-2c6a-4ae0-841b-ca66e259591a",
   "metadata": {},
   "outputs": [
    {
     "name": "stdout",
     "output_type": "stream",
     "text": [
      "The most ordered product is: family with 28 orders.\n"
     ]
    }
   ],
   "source": [
    "#17. Display the most ordered type of product.\n",
    "\n",
    "# Count the number of orders for each product\n",
    "product_counts = df['Product'].value_counts()\n",
    "\n",
    "# Identify the most ordered product\n",
    "most_ordered_product = product_counts.idxmax()\n",
    "most_ordered_count = product_counts.max()\n",
    "\n",
    "# Display results\n",
    "print(f\"The most ordered product is: {most_ordered_product} with {most_ordered_count} orders.\")"
   ]
  },
  {
   "cell_type": "markdown",
   "id": "1e834ed1-0f3d-4821-adbf-313b0582b16b",
   "metadata": {},
   "source": [
    "### Most and least imported and exported product type"
   ]
  },
  {
   "cell_type": "code",
   "execution_count": 43,
   "id": "8d790630-4e2e-432a-bf9f-06c56f908203",
   "metadata": {},
   "outputs": [
    {
     "name": "stdout",
     "output_type": "stream",
     "text": [
      "Most Imported Product: card with 17 imports\n",
      "Least Imported Product: rock with 1 imports\n",
      "\n",
      "Most Exported Product: bank with 21 exports\n",
      "Least Exported Product: institution with 1 exports\n"
     ]
    }
   ],
   "source": [
    "#18. Display the type of product that has been imported and exported the most and the least.\n",
    "\n",
    "# Filter DataFrames for imports and exports\n",
    "imports_df = df[df['Import_Export'] == 'Import']\n",
    "exports_df = df[df['Import_Export'] == 'Export']\n",
    "\n",
    "# Count the number of occurrences of each product for imports\n",
    "import_product_counts = imports_df['Product'].value_counts()\n",
    "\n",
    "# Count the number of occurrences of each product for exports\n",
    "export_product_counts = exports_df['Product'].value_counts()\n",
    "\n",
    "# Identify the most and least imported products\n",
    "most_imported_product = import_product_counts.idxmax()\n",
    "most_imported_count = import_product_counts.max()\n",
    "least_imported_product = import_product_counts.idxmin()\n",
    "least_imported_count = import_product_counts.min()\n",
    "\n",
    "# Identify the most and least exported products\n",
    "most_exported_product = export_product_counts.idxmax()\n",
    "most_exported_count = export_product_counts.max()\n",
    "least_exported_product = export_product_counts.idxmin()\n",
    "least_exported_count = export_product_counts.min()\n",
    "\n",
    "# Display results\n",
    "print(f\"Most Imported Product: {most_imported_product} with {most_imported_count} imports\")\n",
    "print(f\"Least Imported Product: {least_imported_product} with {least_imported_count} imports\")\n",
    "\n",
    "print(f\"\\nMost Exported Product: {most_exported_product} with {most_exported_count} exports\")\n",
    "print(f\"Least Exported Product: {least_exported_product} with {least_exported_count} exports\")"
   ]
  },
  {
   "cell_type": "code",
   "execution_count": 45,
   "id": "db33fd83-822a-4712-b470-0ed2c077f136",
   "metadata": {},
   "outputs": [
    {
     "name": "stdout",
     "output_type": "stream",
     "text": [
      "      Category  Count\n",
      "0     Clothing   3048\n",
      "1  Electronics   3021\n",
      "2    Furniture   3024\n",
      "3    Machinery   3010\n",
      "4         Toys   2897\n"
     ]
    }
   ],
   "source": [
    "#19.  List out the type of products on the basis of different categories. \n",
    "\n",
    "# Grouping by 'Category' and counting the number of products in each category\n",
    "category_counts = df.groupby('Category').size()\n",
    "\n",
    "# Converting the result to a DataFrame for better readability\n",
    "category_counts_df = category_counts.reset_index(name='Count')\n",
    "\n",
    "print(category_counts_df)"
   ]
  },
  {
   "cell_type": "markdown",
   "id": "83003b65-23e7-4a4a-b209-ceb7b6fdb640",
   "metadata": {},
   "source": [
    "### Most and least prefered shipping method"
   ]
  },
  {
   "cell_type": "code",
   "execution_count": 47,
   "id": "7ce8f729-672a-4dd4-8cc0-86e9264f4adb",
   "metadata": {},
   "outputs": [
    {
     "name": "stdout",
     "output_type": "stream",
     "text": [
      "Most Preferred Shipping Method: Sea\n",
      "Least Preferred Shipping Method: Land\n",
      "\n",
      "Shipping Method Counts:\n",
      " Shipping_Method\n",
      "Sea     5054\n",
      "Air     4995\n",
      "Land    4951\n",
      "Name: count, dtype: int64\n"
     ]
    }
   ],
   "source": [
    "#20. Find the most and least prefered shipping method.\n",
    "\n",
    "# Group by 'Shipping_Method' and count the number of occurrences\n",
    "shipping_counts = df['Shipping_Method'].value_counts()\n",
    "\n",
    "# Find the most and least preferred shipping methods\n",
    "most_preferred = shipping_counts.idxmax()\n",
    "least_preferred = shipping_counts.idxmin()\n",
    "\n",
    "# Output the results\n",
    "print(\"Most Preferred Shipping Method:\", most_preferred)\n",
    "print(\"Least Preferred Shipping Method:\", least_preferred)\n",
    "\n",
    "# For completeness, you can also print the counts for reference\n",
    "print(\"\\nShipping Method Counts:\\n\", shipping_counts)"
   ]
  },
  {
   "cell_type": "code",
   "execution_count": 49,
   "id": "9290f3f9-485a-4988-843d-585e40bfaa1f",
   "metadata": {},
   "outputs": [
    {
     "name": "stdout",
     "output_type": "stream",
     "text": [
      "               Customer Most_Common_Payment_Terms\n",
      "0           Aaron Ayers                   Prepaid\n",
      "1           Aaron Baker                    Net 60\n",
      "2           Aaron Banks                    Net 60\n",
      "3          Aaron Barnes                   Prepaid\n",
      "4           Aaron Brown                   Prepaid\n",
      "...                 ...                       ...\n",
      "13748  Zachary Whitaker          Cash on Delivery\n",
      "13749    Zachary Wilson                   Prepaid\n",
      "13750      Zachary Wise                    Net 30\n",
      "13751      Zoe Ferguson                   Prepaid\n",
      "13752        Zoe Martin                    Net 60\n",
      "\n",
      "[13753 rows x 2 columns]\n"
     ]
    }
   ],
   "source": [
    "#21. Find the most common payment terms of each customer.\n",
    "\n",
    "def most_common_payment_terms(terms_series):\n",
    "    return terms_series.mode()[0]\n",
    "\n",
    "# Group by 'Customer' and apply the function to find the most common 'Payment_Terms'\n",
    "most_common_terms = df.groupby('Customer')['Payment_Terms'].apply(most_common_payment_terms)\n",
    "\n",
    "# Convert the result to a DataFrame for better readability\n",
    "most_common_terms_df = most_common_terms.reset_index(name='Most_Common_Payment_Terms')\n",
    "\n",
    "print(most_common_terms_df)"
   ]
  },
  {
   "cell_type": "code",
   "execution_count": 51,
   "id": "529a77db-be99-4c3b-b78f-81c2efe92f89",
   "metadata": {},
   "outputs": [
    {
     "name": "stdout",
     "output_type": "stream",
     "text": [
      "                          Supplier          Customer  Count\n",
      "0                       Abbott LLC      Maria Harris      1\n",
      "1                  Abbott and Sons         Joy Beard      1\n",
      "2          Abbott, Olson and Allen      Ronald Woods      1\n",
      "3        Abbott, Taylor and Moreno     Dennis Taylor      1\n",
      "4                  Abbott-Oconnell       Julie Smith      1\n",
      "...                            ...               ...    ...\n",
      "14995              Zuniga and Sons     Trevor Santos      1\n",
      "14996     Zuniga, King and Marquez      Brandon Neal      1\n",
      "14997     Zuniga, Perez and Martin     Adrian Kelley      1\n",
      "14998  Zuniga, Schwartz and Butler  Christina Martin      1\n",
      "14999                 Zuniga-Brown       Roger Lopez      1\n",
      "\n",
      "[12581 rows x 3 columns]\n"
     ]
    }
   ],
   "source": [
    "#22. Display the most frequent customers of the Suppliers.\n",
    "\n",
    "# Group by 'Supplier' and 'Customer' and count occurrences\n",
    "customer_counts = df.groupby(['Supplier', 'Customer']).size()\n",
    "\n",
    "# Convert the Series to a DataFrame for better readability\n",
    "customer_counts_df = customer_counts.reset_index(name='Count')\n",
    "\n",
    "# Find the most frequent customer for each supplier\n",
    "most_frequent_customers = customer_counts_df.loc[customer_counts_df.groupby('Supplier')['Count'].idxmax()]\n",
    "\n",
    "# Display the results\n",
    "print(most_frequent_customers)"
   ]
  },
  {
   "cell_type": "code",
   "execution_count": 53,
   "id": "6c9ba0da-b2d4-47d0-aa03-fefdeda3f73b",
   "metadata": {},
   "outputs": [
    {
     "name": "stdout",
     "output_type": "stream",
     "text": [
      "['Seth Hall', 'Amy Stephens', 'Daniel Hunter', 'Monique Barton', 'James Jones', 'Mr. Scott Holder', 'Ashley Burns', 'Jennifer Barnett', 'Edward Roberts', 'Rhonda Bailey', 'Nicholas Richmond', 'Bruce Atkinson', 'Savannah Cherry', 'Carolyn Miller', 'Anne Thompson', 'Jessica Brown', 'Trevor Smith', 'Dustin Perez', 'Samantha Hardin PhD', 'Troy Holland', 'Jason Martin', 'Eric Smith', 'Hannah Wright', 'Amanda Nguyen', 'Jeremy Hunter', 'Anita Duke DVM', 'Jared Crawford', 'Mr. Taylor Serrano DDS', 'Robert Johnson', 'Zachary Mosley', 'Donald Mendoza', 'Sean Kerr', 'Virginia Williams', 'Tamara Miles', 'Kevin Brooks', 'Brandy Ferguson', 'Alicia Chaney', 'Tina Shannon', 'Gregory Parker', 'Ronald Ferguson', 'Benjamin Lang', 'Brandon Brown', 'Joseph Johnson', 'Scott Robertson', 'Jack Alexander', 'Paul Aguirre', 'Jill Hayes', 'Willie Walker', 'Anthony Flores', 'George Rose', 'Thomas Webb', 'Heather Hutchinson', 'Terry Williams', 'William Williams', 'Dana Jackson', 'Nathan Knight', 'Jordan Davila', 'Colleen Ramirez', 'Mark Black', 'Morgan Murray', 'Melanie Moore', 'Jennifer Gallagher', 'Charles Guerrero', 'Melissa Reyes', 'Edwin Warner', 'Sharon Berry', 'Lynn Carrillo', 'Carol Ho', 'Mariah Sullivan', 'Natalie Adams', 'Gregory Suarez', 'Justin Nguyen', 'Shawn Wolfe', 'Raymond Jackson', 'Michelle Ferguson', 'Luis Myers', 'Thomas Miller', 'Dawn Walker', 'Sarah Barber', 'Samuel Arnold', 'Andrea Stevenson', 'Susan Gray', 'Angel Austin', 'Stacey Scott', 'Richard Miller', 'Margaret Coleman', 'Michael Dixon', 'Michael Jones', 'Joseph Noble', 'Amy Nelson', 'William Holland', 'Randall King', 'Kathryn Roberts', 'Meghan Hansen', 'Joe Hunter', 'Cody Davis', 'Rachel Woods', 'Jessica Shaw', 'Cindy Hale', 'Nicole Matthews', 'Nathan Moss', 'Sara Bryant', 'Dustin Good', 'David Mueller', 'Deborah Jackson', 'Leslie Cooke', 'Donna Miller', 'Marcus Long', 'Stephen Rodriguez', 'Gregory Goodwin', 'Casey Ball', 'Kevin Mclaughlin', 'Theresa Potts', 'Jasmine Long', 'Sierra King', 'Jamie Mckinney', 'Christopher Lowery', 'Christopher Reyes', 'Jacob Mitchell', 'Thomas Fields', 'Laura Jones', 'Ashley Young', 'Robert Johns', 'Terry Barnes', 'Elizabeth Johnson', 'Crystal Thomas', 'Robert Lane', 'Amanda Hughes', 'Kathleen Morales', 'Dr. Joseph Garrison', 'Anthony Hopkins', 'Keith Henderson', 'Chad Guerra', 'Melanie Rich', 'Bob House PhD', 'Douglas Nguyen', 'Stacey Johnson', 'Joshua Rogers', 'Zachary Rowland', 'Dominique Mccann', 'Miss Tonya Michael', 'Richard Watts', 'Mary Rodriguez', 'Paul Anderson', 'Jeffrey Good', 'Stephanie Smith', 'Reginald Day', 'Benjamin Schultz', 'Michael Collins', 'Faith Clark', 'Dwayne Riley', 'Sarah Diaz', 'Jacqueline Rodriguez', 'Leah Diaz', 'Linda Murphy', 'Jason Weaver', 'Todd Murphy', 'Ricky Smith', 'Emily Mendez', 'Justin Moore', 'Vanessa Gray', 'Jessica Newton', 'Joseph Pearson', 'Miss Christina Garcia', 'Robert Moore', 'Christina Evans', 'Mike Gilbert', 'Billy Stewart', 'Mark Pugh', 'Taylor Compton', 'Gabriella Benjamin', 'Michael Aguilar', 'James Charles', 'Kevin Todd', 'Brian Gregory', 'James Phillips', 'Destiny Stevens', 'Sarah Martinez', 'Jeffery Smith', 'Misty Hall', 'Sarah Green', 'Jeffrey Yu', 'Victoria Miller MD', 'Kendra Velazquez', 'John Thomas', 'James Coleman', 'Roger Hernandez', 'Aaron Gross', 'Ashley Castro', 'Christian Logan', 'Wendy Lester', 'Stephanie Rhodes', 'Nicole Brown', 'Alexander Wilson', 'Seth Williams', 'Mr. Robert Navarro', 'John Palmer', 'Lori Landry', 'Annette Lindsey', 'Madison Lamb', 'Donald Stokes', 'Paul Garcia', 'Christopher Harvey', 'Stephen Reese', 'Stephanie Ruiz', 'Tyler Park', 'William Lewis', 'Samuel Collins', 'Kristen Mooney', 'Tammy Moreno', 'Gregory Sullivan', 'Jordan Daniels', 'Christopher Andrews', 'Micheal Gutierrez', 'Kristi Stuart', 'Michael Myers', 'Scott Carter', 'Joseph Brown', 'Lori Mccall', 'Ruben Taylor', 'Keith Warren', 'Mrs. Marie Garcia MD', 'Nicole Osborn', 'William Walton', 'Rebecca Walker', 'Jerry Hill', 'Chad Hall', 'Dr. James Rodriguez', 'Jennifer Elliott', 'Kenneth Evans MD', 'James Mcdonald', 'Todd Cruz MD', 'Daniel Rowe', 'Samuel Rodriguez', 'Joseph Holt', 'Bonnie Brooks', 'Karen Clark', 'Anna Santos', 'Gregory Gomez', 'Jay Rodriguez', 'Chloe Bray', 'Jesse Richards', 'Rhonda Smith', 'Walter Dickerson', 'Sarah Rodgers', 'Jessica Lee', 'Michael Fitzgerald', 'Jason Moss', 'Jennifer Reed', 'Christina Huffman', 'Perry Miranda', 'Kevin Ford', 'Carla Nelson', 'Ashley Galloway', 'Mrs. Carla Anderson', 'Michael Diaz', 'Joseph Smith', 'Tiffany Morgan', 'Dr. Christopher Green', 'Amber Gilbert', 'Anthony Lowe', 'Mr. Shaun Brown', 'Russell Boyd', 'Matthew Smith', 'Steven Ray', 'Alexis Rollins', 'Carlos Ramirez', 'Robert Hatfield', 'Natalie Jackson', 'Casey Moore', 'Brittney Beasley', 'Hannah Hansen', 'Dr. Adrian Green', 'Francisco Armstrong', 'Amanda Cox', 'Joseph Robertson', 'Thomas Smith', 'Edward Kelly', 'Andrew Ray', 'Robin Washington', 'Kevin Myers', 'Sean Jordan', 'Maurice Cole', 'Anne Brooks', 'Rebecca Velez', 'Michael Rodriguez', 'Steven Flores', 'Denise David', 'Eric Schmidt', 'Steve Brooks MD', 'Tracy Hays', 'John Stevens', 'Janet Peterson', 'Jennifer Wilson', 'Jason Brewer', 'Michael Berry', 'Terri Davis', 'Robert Gray DDS', 'Anne Joseph', 'Patrick Davis', 'Michele Snyder', 'Victoria Craig', 'Paul Cannon', 'Gregory Sexton', 'Robert Nicholson', 'Amanda Chase', 'Richard Meyer', 'Bryce Fitzgerald', 'Pamela White', 'Kevin Kelley', 'Maria Clark', 'Ashley Kim', 'Allison Gibson', 'Katherine White', 'Andrea Lee', 'Melissa Rowland', 'John Rodriguez', 'Kimberly Simpson', 'Rhonda Salas', 'Debbie Stevenson', 'Ronald Osborne', 'William Shaffer', 'John Ramirez', 'Jose Mays', 'David Gonzalez', 'Gabriel Morrison', 'Kim Edwards', 'Jane Valdez', 'Catherine Donovan', 'Andrew Lewis', 'Tyrone Sims', 'Kenneth Fisher', 'Samuel Lewis', 'Andrew Key', 'Carrie Kennedy', 'Claire Nelson', 'Craig Rivera', 'Wendy Fuller DVM', 'Eric Morgan', 'Theresa Mendez', 'Tiffany Johnson', 'David Simmons', 'Richard Cantu', 'Michelle Murphy', 'Brittany Alvarez', 'Pamela Odonnell', 'Jennifer Black', 'Megan Townsend', 'Kristi Nelson', 'Justin Martinez', 'Laura Phillips', 'Mr. Michael Underwood', 'Connie Barnes', 'Sarah Porter', 'Robert Aguilar', 'Melanie Ray', 'Jennifer Avila', 'Jerry Craig', 'Laura Hamilton', 'Dr. Marcus Thomas', 'David Villa', 'Diana Griffin', 'Carol Welch', 'David Jones', 'Pamela Chan', 'Lisa Griffin', 'Edwin Olson', 'Justin Allen', 'William Stewart', 'Amanda Ibarra DVM', 'Ryan Swanson', 'Sandra Wright', 'Brent Franklin', 'Tara Humphrey', 'Stephanie Mcdonald', 'Keith Thompson', 'Sara Adams', 'Barry Kelly', 'Michael Brown', 'Bethany Dixon', 'Ian Rivera', 'Kevin Shaw', 'Gary Patton', 'Jaime Saunders', 'Matthew Bowman', 'Ashley Gonzalez', 'Sandra Myers', 'Danielle Schroeder', 'Tammy Parker', 'Derek Harris', 'Lance Barber', 'John Gibbs', 'Joe Powers', 'Stephen Morris', 'Helen Edwards', 'Shawn Davidson', 'Charles Williams', 'Paul Willis', 'Mary Carey', 'Andrew Mcfarland', 'Beverly Golden', 'Jennifer Davis', 'Sarah Osborne', 'Patrick Roberts', 'Shane Logan', 'Hunter Hood', 'Miguel Taylor', 'Isaac Friedman', 'Joseph Hunter', 'Daniel Dougherty', 'Kendra Moyer', 'Ryan Duran', 'John Wilson', 'Bryan Cantu', 'Taylor Banks', 'Kayla Weber', 'Natalie Mills', 'Michael Pennington', 'James Wilson', 'Brittany Burton DVM', 'Michael Graham', 'John Miranda', 'Wendy Johnson', 'Brenda Bailey', 'Dwayne Schmidt', 'Christine Garcia', 'Brian Hartman', 'Katherine Lewis', 'Justin Sherman', 'Troy Cortez', 'Wendy Prince', 'Tyler Wallace', 'Mr. Mark Hernandez MD', 'Tanya Hughes', 'Dennis Liu', 'Megan Smith', 'Karen Mckee', 'Tommy Wheeler', 'Benjamin Rogers', 'Crystal Vazquez', 'Richard Garcia', 'Julia Gross', 'Kari Massey', 'Judy Riddle DVM', 'Melanie Wolf', 'Anna Taylor', 'John Bryant', 'Lisa Patel', 'Kathy Willis', 'Elizabeth Lara', 'Chloe Dennis', 'Cindy Baker', 'Karen Burns', 'Christopher Johnson', 'Christopher Fernandez', 'John Daniels', 'Calvin Wright', 'Linda Rush', 'Jennifer Gregory', 'Joan Wilson', 'Dan Smith', 'Keith Garcia', 'Frank Morales', 'Maureen Holt', 'Brian Perez', 'Michael Tucker', 'Brent Davis', 'Pamela Mullen', 'Bradley Shannon', 'John Matthews', 'Joyce Mcgee', 'Kelly Harris', 'Samuel Meyer', 'Jon Torres', 'Erica Ray', 'Jennifer Luna', 'Sheila Madden', 'Brenda Quinn', 'Tammy Roth', 'Patricia Jefferson', 'Monique Roy', 'Kenneth Allen', 'Laurie Wells', 'Brian Hall', 'Samantha Webb', 'Richard Griffin', 'Jacqueline Giles', 'Mary Hancock', 'Paul Manning', 'Roger Petersen', 'Antonio Garcia', 'Sergio Adams', 'Ernest James DDS', 'Miranda Rich', 'John Smith', 'Karen Miller', 'Donald Hunt', 'Michael Erickson', 'Corey Willis', 'John Gross', 'Joseph Martin', 'Amy Torres', 'Gina Hamilton', 'Kelly Martinez', 'Amy Hughes', 'Beth Lopez', 'Kimberly Barajas', 'Stephanie Mendoza', 'Alan Salas', 'Olivia Stephenson', 'Tyler Smith', 'Jason Wood', 'Jennifer Cherry', 'Joseph Grimes', 'Eugene Barnes', 'Rebecca Moore', 'Cynthia Buck', 'Brandon Hunt', 'Courtney Simpson', 'Jesse Ross', 'Daniel Black', 'Timothy Edwards', 'Melissa Garcia', 'Andrew Smith', 'Peggy Chavez', 'Madison Torres', 'Daniel Thomas', 'Rebecca Howell', 'Jacob Garcia', 'Angela Leon', 'James Nelson', 'Ernest Reynolds', 'Nancy Case', 'Sara Lopez', 'Miss Katie Harding MD', 'Frank Hawkins', 'Trevor Simpson', 'Brittany Franklin DDS', 'Kimberly Cox', 'Rhonda Delgado', 'Barbara Arroyo', 'Sandy Carroll', 'Ms. Stacey Wolf', 'Angela Hoffman', 'James Merritt', 'Angela Johnson', 'Michael Mason', 'Jacob Dixon', 'Krista Smith', 'Charles Mendoza', 'Kelsey Bautista', 'Tristan Hanson', 'Pam Oliver', 'Samantha Salinas DVM', 'Brooke Miller', 'Michael Larson', 'Brittany Mathews', 'Joshua Anderson', 'Laura Rogers', 'Michele Brown', 'Carla Meyer', 'Amy May', 'Raymond Combs', 'Morgan Townsend', 'Jessica Barnes', 'Stacey Jones', 'Mason Ashley', 'Stephanie Murray', 'Angel Doyle', 'Diana Logan', 'Tracy Jones', 'Jeffrey Parsons', 'Robert Johnston', 'Tyler Livingston', 'Russell Perry', 'Joshua Thomas', 'Lisa Whitaker', 'Aaron Evans', 'Angela Wilson', 'Corey Owen', 'Elizabeth Beard', 'Jaime Graham', 'Dana Williams', 'Robin Smith', 'Katie Brown', 'Joseph Stewart', 'Alexis Cooper', 'Fernando Hale', 'Sarah Nelson', 'Nicholas Beck', 'Jason Richardson', 'Johnny Love', 'Tommy Ramirez', 'Clinton Soto', 'Steven Lewis', 'Stephen Rogers', 'Vincent Harrison', 'Annette Williams', 'Alex Stevens', 'Adrian Romero', 'Mary Mitchell', 'Cody Russo', 'Eric Solomon', 'Marcia Ayala', 'Nicole Hamilton', 'Brandon Camacho', 'Victoria Jones', 'Jennifer Page', 'Amanda Harper', 'Danielle Ramirez', 'Jason Jones', 'Wyatt Carter', 'Ashley Coleman', 'Sandy Parker', 'Carol Ramirez', 'Ashley Johnson', 'Denise Cain', 'Timothy Horne', 'Scott Rollins', 'Antonio Delacruz', 'Sean Sanchez', 'Melissa Dickerson', 'Stephen Adams', 'Randy Murray', 'Justin Ross', 'Colin Weber', 'Elizabeth Gray', 'Cheryl Cole', 'Tammy Hernandez', 'Kimberly Brown', 'Allison Frye', 'Craig Blake', 'Cynthia Jordan', 'Kristine Sweeney', 'Terry May', 'Marvin Myers', 'Carrie Brooks', 'Preston Harrington', 'Tammy Garcia', 'Robert Perez', 'Barbara Roy', 'Christopher Brock', 'Miss Emma Vang', 'John Arnold', 'Crystal Gilbert', 'Kristy Henderson', 'Kathryn Miller', 'Jill Galloway', 'Nancy Rodriguez', 'Donna Diaz', 'Anthony Yu', 'Sarah Baker', 'Michael Owens', 'Robert Cantrell', 'Katherine Christensen', 'Shannon Rowe', 'Daniel Mendez', 'Sean Hale', 'Lisa Fuller', 'William Benson', 'Pamela Johnson', 'Victoria Heath', 'Mrs. Wanda Ross', 'Catherine Dawson', 'Jeffrey Powell', 'Chris Hill', 'Joseph Conway', 'Kylie Mills', 'Stephanie Blankenship', 'Keith Townsend', 'Donald Scott', 'Bradley Foley', 'Cesar Gaines', 'Mr. Aaron Giles', 'Manuel Carey', 'Jennifer Perez', 'Joshua Graham', 'Carol Gonzalez', 'Jason Clements', 'Joseph Palmer', 'Samantha Hahn', 'Joanna Rollins', 'Peter Thompson', 'Robin Villa', 'Stephanie King', 'Jennifer Harris', 'Kimberly Bailey', 'Krystal Clay', 'Katherine May', 'Dawn Perry', 'Michael Solomon', 'Jacqueline Kline', 'Charles Reyes', 'Michelle Wilson', 'Jessica Anderson', 'Sarah Brown', 'Alicia Price', 'Patricia Mitchell', 'Erin Robinson', 'Jennifer Webster', 'Stacey Curry', 'Gerald Andrews', 'Martha Knox', 'Andrea Everett', 'Rebecca Key', 'Eric Thompson', 'Jade Murphy', 'Kristen Anderson', 'William Gonzalez', 'Joseph Soto', 'Craig Lee', 'Veronica May', 'Kayla Carlson', 'Miguel Harvey', 'Candice Johnson', 'Jacqueline Reyes', 'Thomas Anderson', 'Jamie Hayes', 'Jared Hayden', 'Albert Anderson', 'Terry Baker', 'Summer Ruiz', 'Austin Johnson', 'Ashley Stewart MD', 'Roy Smith', 'Andrew Walls', 'Dr. Hannah Mitchell', 'Eric Ramos', 'Gregory Walton', 'Donna Davila', 'Janet Martinez', 'Andrew Levine', 'Brandon Barton', 'Amber Trevino', 'Sarah Mathews', 'Connie Harvey', 'Manuel Montgomery', 'Jill Jordan', 'Katie Ross', 'Bailey Reid DVM', 'George Miller', 'Joanna Marquez', 'David Branch', 'Geoffrey Smith', 'Lindsey Peterson', 'Christine Suarez', 'Donald Jones', 'Cristian Nelson', 'Victoria Hood', 'Catherine Wong', 'Ernest Scott', 'Melissa Carter', 'Samuel Contreras', 'Dylan Hartman', 'Adrian Thompson', 'Debra Owens', 'Donald Matthews', 'Alexander Bush', 'Wendy Price', 'Jason Barber', 'Peter White', 'Melanie Daniel', 'Cynthia Brewer', 'Michael Whitaker', 'John Kim', 'Robert Ellis', 'Stacey Nichols', 'Tony Garcia', 'Michele Hoffman', 'Bethany Snow', 'Michael Nielsen', 'Jorge Garcia', 'Derrick James', 'Rachel Jacobs', 'Patricia Miller', 'Theresa Morton', 'Holly Hill', 'Sydney Edwards', 'Micheal Mann', 'David Mccullough', 'Kevin Thompson', 'Debbie Hart', 'Michelle Price', 'Austin Ellis', 'Samuel Warner', 'Paul Jackson', 'Ryan Garrison', 'Nicholas Calderon', 'Ashley Oconnor', 'Leroy Rogers', 'Luis Waller', 'Matthew Mccormick', 'Craig Ramos', 'Robert Fletcher', 'Erica George', 'Matthew Parker', 'Robert Arnold', 'Christopher Riley', 'Jacob Smith', 'Xavier Bradley', 'Danny Kemp', 'Thomas Mcpherson', 'Logan Mccann', 'Emily Ellis', 'Chelsea Lara', 'Taylor Mcclure', 'Allison Walsh', 'Erika Smith', 'Calvin Palmer', 'Regina Byrd', 'Lori May', 'Dennis Solomon', 'Brianna Scott', 'Justin Cook', 'Michael Jackson', 'Vincent Sherman', 'Stephanie Vega', 'Dale Murphy', 'Karen Williams', 'Logan Rivera', 'George King', 'Paula Martin', 'Stephen Summers', 'Nathan Lucas', 'Karina Vasquez', 'Brittany Morgan', 'Katie Tate', 'Lauren Gross', 'Caitlin Berry', 'Patrick Murphy', 'Mark Jones', 'Kathleen Johnson', 'Ryan Ortega', 'Jordan Lewis', 'Elizabeth Schwartz', 'Cody Brown', 'Tammy Mahoney', 'Donald Hart', 'Brenda Payne', 'Mark Stone', 'Jamie Hodge', 'Martin Henry MD', 'Jason Branch', 'Denise Lowery', 'Rachel Crawford', 'Joshua Carpenter', 'William Marquez', 'Sarah Chandler', 'Amanda Lozano', 'Tiffany Hayden', 'Gabriel Evans', 'Alicia Leon', 'Brett Klein', 'Anne Lucero', 'Lauren Dennis', 'Shelby Newton', 'Amy Ross', 'Michael Anthony', 'Kristina Fletcher', 'Michelle Wright', 'Willie Mcintosh', 'David Bailey', 'Erica Johnston', 'Joseph Guerra', 'Eric Michael', 'Dr. Michael Harrison', 'Jennifer Small', 'Samuel Flynn', 'Kenneth Russell', 'Sean Wilson', 'Patrick Gonzales', 'Savannah Taylor', 'Elizabeth Brown', 'Tony Schwartz', 'Tara Hill', 'Michelle Mullins', 'Tiffany Brown', 'Richard Williams', 'Dylan Cruz', 'Daniel Hoffman', 'Stephanie Campos', 'Jennifer Jackson', 'Jacob Davis', 'Lee Torres', 'Sean Acosta', 'Michael Short', 'Matthew Evans', 'Nicholas Robinson', 'Erica Morris', 'Brandon Fox', 'Cynthia Collier', 'Jeffrey Turner', 'Jacob Aguirre', 'David Kent', 'Michael Mitchell', 'Jonathan Alexander', 'Jesse Carpenter', 'Linda Owen', 'Dawn Duncan', 'Stephen Brown', 'Michael Rowland', 'David Martinez', 'Derrick Garcia', 'Cindy Kim PhD', 'Katrina Morris', 'Phillip Rivera', 'Beth Flores', 'Mackenzie Walker', 'Alan Meyer', 'Marisa Frazier', 'Robert Howard', 'David White', 'Darren Peterson', 'Jill Lewis', 'Meghan Roberts', 'Leslie Mccarthy', 'Steven Schmidt', 'Carmen Griffin', 'Edward Ball', 'Connie Johnson', 'Kyle Williams', 'Victoria Pena', 'Keith Little', 'Jasmine Duffy', 'Sydney Roberts', 'Samuel Morales', 'Brittany Martinez', 'Darrell Davis', 'Keith Diaz', 'Christopher Davis', 'Robert Gonzalez', 'Amanda Frost', 'Kimberly Jones', 'Brenda Obrien', 'Lisa Oconnell', 'James Hurst', 'Joshua Booker', 'Russell Peters', 'Megan Lopez', 'Jenna Flores', 'Christina Donaldson', 'Joshua Webb', 'Cheryl Wright', 'Victoria Ponce', 'Shawn Ingram', 'Misty Cooper', 'Cassandra Morales', 'Glenda Phillips', 'Arthur Larson', 'Andrew Ramos', 'Christopher Simpson', 'Crystal Vaughn', 'Heidi Nguyen', 'Manuel Moore', 'Kristin Jimenez', 'Chelsea Clark', 'Matthew Moore', 'Gabriella Owens', 'David Joyce', 'Susan Cameron', 'Jennifer Cruz', 'Tracy Davis', 'Antonio Stuart', 'Victoria Jackson', 'Charles Reilly', 'Dustin Taylor', 'Stephanie Sharp', 'Mary Murray', 'Margaret Grant', 'Wendy Reyes', 'Mr. Jesse Crawford', 'Ashley Allison', 'Travis Becker', 'Jack Green', 'Melissa Jackson', 'Laura Rodriguez', 'Valerie Davis', 'William Goodwin', 'Nicole Gonzales', 'Thomas Kelly', 'Larry Newton', 'Cathy Rice', 'James Farley', 'Johnny Hill', 'Adrian Ramos', 'Christopher Smith', 'Cody Bates', 'Jonathan Patel', 'Nicholas Jones', 'Nathan Acosta', 'Jay Lucas', 'Mr. Brian Roberts', 'Leslie Young', 'Edward Wright', 'Victoria Russell', 'James Patton', 'Diane Mitchell', 'Steven Strickland', 'Ronald Olsen', 'Antonio Brady', 'Brittany Lewis', 'Thomas Campbell', 'Amy Reyes', 'Andrew Price', 'Catherine Benitez', 'Shawn Pruitt', 'David Melton', 'James Gonzalez', 'Selena Barajas', 'Elijah Chase', 'Jamie Davis', 'Leah Mcfarland', 'Christopher Miller', 'Andrew Oliver', 'Colton Douglas', 'Krista Barrera', 'Kevin Nelson', 'Mr. Christopher Martinez', 'Matthew Mendez', 'Jesse Mcpherson', 'Rose Mcmahon', 'Michael Douglas', 'Shawn Wilson', 'Crystal Johnson', 'Patricia Delgado', 'Michelle Rocha', 'Martha Gregory', 'Jonathan Washington', 'Sandra Alexander', 'James Garrett', 'Amber Gray', 'Ashley Rogers', 'Heather Mcdaniel DDS', 'Jeffrey Jackson', 'Tina Wright', 'Joseph Levy', 'Christina Serrano', 'Anna Perez', 'Darlene Owens', 'Jason Wagner', 'Matthew Chavez', 'David Rivers', 'Nicholas Salinas', 'Brian Smith', 'Mark Townsend', 'Kimberly King', 'Daniel Peterson', 'Michael Horn III', 'Jared Allen', 'Kathy Davis', 'Jennifer Miller', 'Margaret Castro', 'Brandon Miller', 'Cynthia Schroeder', 'Brittany Cole', 'Lisa Miller', 'Dr. Emily Jacobson', 'Katie Jordan', 'Tamara Williams', 'Connor Hall', 'Jeffrey Russell', 'Rebecca Robinson', 'Emily Esparza', 'Ronald Buchanan', 'Ashley Bartlett', 'Devin Chung', 'Benjamin Hernandez', 'Andrew Wheeler', 'Robert Mathews', 'Dr. John Mcknight Jr.', 'Matthew Wilson', 'Edward Brown', 'Jeffrey Morrow', 'James Lawson', 'Damon Garcia', 'Christopher Clark', 'Sabrina Woods', 'Jimmy Combs', 'Nicole Cox', 'Rick Gray', 'Zachary Huff', 'Erika Reyes', 'Tricia Johnson', 'Elizabeth Williamson', 'Christine Camacho', 'Briana Palmer', 'Matthew Mclean', 'William Parker', 'Sara Kelly', 'John Morgan', 'Mark Guerrero', 'Marcus Hernandez', 'Anthony Stone', 'John Carson', 'Laura Potter', 'Richard Allen', 'Sharon Cooper', 'John White', 'Denise Allen', 'Shane Fernandez', 'Eric Monroe', 'Logan Schroeder', 'Aaron Thompson', 'Melissa Henry', 'Lori Moody', 'Ricky Hansen', 'Todd Booker', 'Walter Lawrence', 'William Lee', 'Mark Cunningham', 'Cole Hamilton', 'Monique Perez', 'Amy Goodwin', 'Whitney Hunter', 'Crystal Espinoza', 'Tiffany Walker', 'Kathryn Cohen', 'William Delgado', 'Robert Collins', 'Matthew Miller', 'David Saunders', 'Mark Perez', 'Anthony Thompson', 'Donna Rosario', 'Norma Valdez', 'Brandon Nelson', 'Patricia Allen', 'Natasha Herrera', 'Patricia Johnson', 'William Shaw', 'Benjamin Brown', 'Joseph Anderson', 'Jimmy Myers', 'Kurt Vaughn', 'Robert Wilson', 'Jose Knight', 'Jason Thomas', 'Krista Sherman', 'Patricia Holden', 'Matthew Davies', 'John Weber', 'Teresa Calderon', 'Mary Fletcher', 'Ryan Taylor', 'Amanda Davis', 'Melissa Wright', 'Molly Williams', 'Michael Ayala', 'Vanessa Simpson', 'Maria Liu', 'Susan Liu', 'Crystal Jackson', 'Dwayne Smith', 'Dana Payne', 'Alicia Henderson', 'Jessica Vasquez', 'Douglas Kennedy', 'Gary Stevens', 'Mrs. Donna Torres', 'Karl Thomas', 'Dawn Moore', 'Harry Gutierrez', 'Chad Miller', 'Alisha Ellison', 'John Brady', 'Richard Mejia', 'Todd Martin', 'Johnny Lee', 'Jennifer Powell', 'Krystal Acosta', 'Paige Reyes', 'Aaron Mcdaniel', 'Carmen Conley', 'Thomas Ferguson', 'Laurie Fields', 'Charles Skinner', 'Elizabeth Arroyo', 'Penny Peterson', 'Tyler Anderson', 'Reginald Burke', 'Justin Singh', 'Kristy Nolan', 'Jenny Rosario', 'Jonathan Brown', 'Ronald Gates', 'Karl Pittman', 'Pamela Diaz', 'Daniel Velasquez', 'Zachary Moore', 'Rachel Nichols', 'Jorge Hill', 'Melanie Taylor', 'Denise Shaw', 'Cynthia Merritt', 'Stacey James', 'Nancy Thomas', 'Ashley Harper', 'John Rivera', 'Krystal Johnson', 'Dakota Davis', 'Christy Myers', 'Melissa Cobb', 'Stephen Sanchez', 'Allison Keller', 'Samuel Weaver', 'Daniel Duffy', 'Amy Smith', 'Jeremy Padilla', 'Annette Young', 'Kaitlyn Vazquez', 'Shawn Richardson', 'Laurie Higgins', 'Stephen Cortez', 'James Thomas', 'Adrian Bradley', 'David Davis', 'Anna Moore', 'Carrie Gutierrez', 'Julie Stone', 'Sue Hudson', 'Kelsey Murray', 'Ryan Potter', 'Shane Jackson', 'Christina Howard', 'Christopher Bartlett', 'Angela Brown', 'Whitney Singh', 'Ann Alexander', 'Charles Wright', 'Malik Chang', 'Jennifer Boone', 'Carly Watkins', 'Jeff Gentry', 'Kevin Huerta', 'Gregory Henderson', 'Miss Terry Chavez', 'Joanna Walton', 'Tiffany Clark', 'Clinton Phillips', 'Kristen Landry', 'Brenda Jones', 'Julie Rivers', 'Melissa Murray', 'Jacob Rodriguez DDS', 'Ryan Ortiz', 'Zachary Whitaker', 'Andrew Pearson', 'Brandon Ramsey', 'Michael Peters', 'Timothy Bell', 'Shawn Kim', 'Sharon Moore', 'Crystal Munoz', 'Diane Riggs', 'Shannon Wilcox', 'Andrea Reynolds', 'Melissa Chandler', 'Philip Short', 'James Davis', 'Christopher Morris', 'Mary Hatfield', 'Lisa Stone', 'Brooke Bailey', 'Jenna Jones', 'Emily Chapman', 'Lisa Lopez', 'Frank Aguilar', 'Nancy Lee', 'Stephen Graves', 'Stephen Smith', 'Jasmine Jones', 'Donald Cline', 'Dr. Megan Davis', 'Alicia Lewis', 'Roberto Stevens', 'Rachel Orr', 'Sharon Leach', 'Matthew Reeves', 'Chad Scott', 'James Nichols', 'Patricia Cooley', 'Natalie Perez', 'Kari Walsh', 'Zachary Obrien', 'Linda Hudson', 'Mr. Alejandro Watkins PhD', 'Lauren Aguilar', 'Steven Clay', 'Mrs. Angela Dyer MD', 'Sherry Gutierrez', 'Peter Brooks', 'Jeremy Hawkins', 'Michael Lynch', 'Ann Morse', 'Alexander Brown', 'Christopher Delgado', 'Marcia Brown', 'Jane Davis', 'Mrs. Michele Stewart', 'Henry Jennings', 'Peter Nichols', 'Kayla Freeman', 'Mrs. Virginia Jimenez', 'Karen Jones', 'Jennifer Smith', 'Justin Garza', 'Joseph Moon', 'Tracy Meyers', 'David Stanley', 'Donald Crosby', 'Joy Robinson', 'Keith Preston', 'Katherine Strickland', 'Christina Hayden', 'Austin Griffith', 'Kaitlyn Fernandez', 'James Campbell', 'Elizabeth Miller', 'Samuel Hall', 'Craig Guzman', 'Gordon Smith', 'Melissa Dennis', 'Melissa Tran', 'Jason Nichols', 'Alyssa Munoz', 'Kerri Mueller', 'Billy Ponce', 'Stephanie Hoover', 'Briana Richards', 'Jason Warren', 'Andrew Ward', 'Jose Lutz', 'Kevin Alvarado', 'Kimberly Sandoval', 'Robert Stein', 'Gregory Williams', 'Erin Alexander', 'Hailey Russell', 'Rebecca Martinez', 'Wesley Moore', 'Marie Hays', 'Charles Huynh', 'Miranda Newton', 'Lynn Brown', 'Andrew Rodriguez', 'Rebecca Allen', 'Heather Huerta', 'Jennifer Cordova', 'Frederick Henson', 'Christopher Chandler', 'Brent Landry', 'Norman Jones', 'Scott Ferguson', 'Brad Medina', 'Sean Ortega', 'Kayla Reilly', 'Latoya Zimmerman', 'Jackie Olson', 'Sarah Moreno', 'Debra Gilmore', 'Christine Cobb', 'Jerry Fowler', 'Rachel Carey', 'Kayla Espinoza', 'Samuel Austin', 'Steven House', 'Suzanne Collins', 'Edward Dorsey', 'Adam Perez', 'Alison Obrien', 'Michael Rowe', 'Lauren Green', 'Jose Pham', 'Matthew Rios', 'Daniel Mccormick', 'David Cross', 'Catherine Lewis', 'Anna Weber', 'David Morales', 'James Gill', 'Nicholas Stanton', 'Jeffrey Smith', 'Kayla Mann', 'Ryan Baker', 'Daniel Gray', 'Nicolas Fischer', 'Stephanie Riley', 'Deborah Harris', 'Erika Hernandez', 'Tracy Farley', 'Billy Harris', 'Carol Reed', 'Jeremiah Gray', 'Lisa Mccoy', 'Stephanie Hudson', 'Corey Lin', 'Jeremy Carter', 'Emily Thompson', 'Shawn Lopez', 'Colin Sims', 'Adam Orozco', 'Karen Dominguez', 'Kendra Martin', 'Dennis Fuller', 'Steven Rice', 'Johnathan Walker', 'Maria Herrera', 'Dr. Virginia Sullivan', 'Austin Moore', 'Shelby Anderson', 'Brian Black', 'William Hodge', 'Brian Martin', 'Jennifer Dominguez', 'Rhonda Newman', 'Robert Abbott', 'Lori Fields', 'John Johnson', 'Elizabeth Colon', 'Kathleen Hunt', 'Hannah Woods', 'Kenneth Turner', 'Carolyn Johnston', 'Mia Wiley', 'Danielle Reed', 'Meghan Long', 'Courtney Austin', 'Stephen Hoffman', 'Katherine Gillespie', 'Lindsay Snyder', 'Shannon Fox', 'Angela Woods', 'Sarah Ross', 'Isabel Wright', 'Valerie Brooks', 'Wendy Williams', 'Linda Kim', 'Alan Tran', 'Jesse Allen', 'Shannon Love', 'Russell Becker', 'Tasha Munoz', 'Michael Hines', 'John Cook', 'Dr. Kenneth Riley MD', 'Bonnie Turner', 'James Doyle', 'Teresa King', 'William Best', 'Michael Evans', 'Matthew Myers', 'Joshua Castro', 'Ian Roach', 'James Figueroa', 'Christian Guerrero', 'Isaac Smith', 'Jennifer May', 'Jonathan Miller', 'Judith Peck', 'Robert Valdez', 'Kenneth Harris', 'Hannah Grant', 'Terry Wall', 'Derek Ramos', 'Cody Cruz', 'Henry Brennan', 'Tiffany Stevens', 'Christopher Young', 'Matthew Ramirez', 'Erin Russell', 'Stacey Sloan', 'Daniel Brown', 'Jennifer Williams', 'Tyler Whitehead', 'Gail Mcmahon', 'Elizabeth Reed', 'Yvette Fox', 'Aaron Miller', 'Karen Swanson', 'Crystal Patton', 'Megan Sanchez', 'Timothy Berry', 'Danielle Williams', 'Shawna Walker', 'Anthony Harris', 'Richard Gregory', 'Gail Wallace', 'Danielle Rogers', 'Melissa Buck', 'Andrea Goodwin', 'Amanda Gomez', 'Anna Daniels', 'Diane Martinez', 'John Morales', 'Kelly Brown', 'Susan Nguyen', 'Tamara Hart', 'Steven Bailey', 'Tiffany Richardson', 'Ryan Mullins', 'Kyle Swanson', 'Christopher Medina', 'Mary Griffin', 'Angela Scott DDS', 'Darren Bradley', 'Kenneth Cook', 'Jessica Logan', 'Eric Campbell', 'Jose Jones', 'Maurice Smith', 'Rodney Harper', 'Roy Rocha', 'Roger Cortez DDS', 'Jason Fletcher', 'Raven Hurst', 'Robert Brown', 'James Ochoa', 'Jonathan Schmidt', 'Kendra Hodges', 'Benjamin Chambers', 'Lisa Wright', 'Bryan Williams', 'Kimberly Hughes', 'James Baker', 'Aaron Lee', 'Michelle Harris', 'Curtis Martinez', 'Heidi Wood', 'Alejandra Randall', 'Chad Barrera', 'Matthew Johnson', 'Crystal Bowers', 'Steve Wilcox', 'Brian Cooley', 'Jacob Miller', 'Benjamin Mcguire', 'Sharon Richards', 'Carolyn Fisher', 'Aaron Smith', 'Mr. Matthew Davis', 'Zachary Patel', 'Jessica Martin', 'Kelly Williams', 'Alexander Smith', 'James Ray', 'Javier Watkins', 'Brett Harper', 'David Nielsen', 'Charles Hill', 'Natalie Gregory', 'Lisa Murphy', 'Tamara Blanchard', 'John Carey', 'Catherine Murphy', 'Robert Henderson', 'Nicholas Mcguire', 'Kenneth Myers', 'Alisha Oneal', 'Megan Griffin', 'Mr. Jeffrey Ramos DDS', 'Kayla Jones', 'Trevor Gomez', 'Kelly Peters', 'John Beasley', 'Benjamin Conley', 'Terri Herrera', 'Emily Cox', 'Sergio Martinez', 'Michelle Avery', 'Debra Williams', 'Lynn Cruz', 'Susan Smith', 'Johnathan Shaw', 'Roberto White', 'Jeremy Hall', 'Margaret Perez', 'Richard Young', 'Maria Wilkinson', 'Sherry Montgomery', 'Ronald Turner DDS', 'Derrick Romero', 'Michelle Perkins', 'Jack Compton', 'Gary Webb', 'Jimmy Travis', 'Sarah Nguyen', 'Christina Richardson', 'Kelly Hayden', 'Julie Gordon', 'Joshua Novak', 'Matthew Schneider', 'Andrea Fernandez', 'Stanley Becker', 'Todd Hobbs', 'Amber Hodge', 'Jessica Gonzalez', 'Karen Riggs', 'Douglas Smith', 'Brandi Erickson', 'Michelle Hudson', 'Paul Lopez', 'Miss Shannon Bauer PhD', 'Andrea Shaw', 'Veronica Sanchez', 'Ronald Fields', 'Sarah Adams', 'Kristy King', 'Lisa Mack', 'Lindsay Allen', 'Aaron Crawford', 'Vanessa Barajas', 'Terri Herman', 'Malik White', 'David Lin', 'Tamara Baxter', 'Emily Bell', 'Dr. Matthew Rogers PhD', 'Stephen Williams', 'Nathan Robinson', 'Joseph Odonnell', 'Marcus Flores', 'Ashley Brown', 'Anna Johnson', 'Jennifer Daniel', 'Jonathan Montgomery', 'Monica Dougherty', 'Mark Davis', 'Kelly Weber', 'Robert Bender', 'John Payne', 'Thomas Scott', 'Steven Anderson', 'Gary Spears', 'Laura Kramer', 'Diana Williams', 'Ann Roman', 'Amy Melton', 'Brittany Moore', 'Heidi Wilson', 'Kenneth Meza', 'Jacob Mccann', 'Leslie Smith', 'Cynthia Dominguez', 'Brian Adams', 'John Tate', 'Cristina Adams', 'Michael Stone', 'Jeanette Lee', 'Rachael Carter', 'Melanie Bryant', 'Christian Jackson', 'Shannon Andrews', 'Charles Gibson', 'Lee Rice', 'Deborah Daugherty', 'Tracy Ramos', 'Benjamin Miller', 'Phyllis Patton', 'Terri Bailey', 'Helen Thomas', 'Cheryl Patel', 'Patrick Martinez', 'Sherri Grant', 'Joyce Richards', 'Jennifer Andrews', 'Albert Gonzalez', 'Joseph Vega', 'Carlos Baker', 'Susan Hanna', 'John Boyle', 'Jacqueline Cannon', 'Colleen Baker', 'Joanna Bell', 'Courtney Armstrong', 'Kyle Bell', 'Alexander Montes', 'Kyle Gonzalez', 'Erin West', 'Michele Jones DDS', 'Leah Evans', 'Rodney Johnson', 'Hannah Erickson', 'James Martinez', 'Robert Roach', 'Ian Sanders', 'Ashley Patel', 'Kathleen Walker', 'Rebecca Campbell DVM', 'Donald Hill', 'James Whitney', 'Mr. Stephen Anthony', 'Kaitlyn Thomas', 'Adam Dodson', 'Kathleen Silva', 'James Griffin', 'Jennifer Spencer', 'Linda Johnson', 'Alexandra Hernandez', 'Eric Cole', 'Cheryl Price', 'Lisa Gray', 'William Edwards', 'Dwayne Johnson', 'Ruben House', 'Kimberly Myers', 'Alicia Nichols', 'Karina Perez', 'Brandon Wright', 'Kevin Foster', 'Emily Floyd', 'Bradley Murphy', 'Stephen Bauer', 'Ashley Hunt', 'Jamie Cantrell', 'Lisa Palmer', 'James Oliver', 'Jeffrey Abbott', 'Scott Bailey', 'Sheila Suarez', 'Kelli Alvarez', 'Matthew Williams', 'Kathy Spencer', 'Michelle Taylor', 'Jessica Harper', 'Lisa Stevens', 'Rose Waters', 'Christopher Moore', 'Linda Andrews MD', 'Steven Weeks', 'Laura Sandoval', 'Kevin Walsh', 'Kristen Barber', 'Jeremy Jones', 'Amy Reynolds', 'April Lynch', 'Thomas Alvarez', 'Tamara Meyer', 'Maria Ayers', 'Jackson Smith', 'Mary Valdez', 'Courtney Herrera', 'Stefanie Anderson', 'Tracey Smith', 'Deanna Bell', 'Rachel Garcia', 'Jeffrey Miller', 'Christina Simmons', 'Connie Kim', 'Kayla Gray', 'Chris Howell', 'Karen Kramer', 'Casey Clements', 'Patty Phillips', 'Justin Turner', 'Jeremy Kane', 'Ms. Valerie Carter', 'Christopher Wheeler', 'Linda Cunningham', 'Lauren Herman', 'Terri Boone', 'Lori Galvan', 'Latoya Briggs', 'Jennifer Stanley', 'Joseph Chapman', 'Daisy Mayo', 'Jenny Moore', 'Sherry Oliver', 'David Barrett', 'Thomas Burke', 'Brianna Hale', 'Thomas Perry', 'Daniel Newman', 'Stephanie Andrews', 'Marie Mclean', 'Jeffrey Kim', 'Kathy Kennedy', 'April Russell', 'Thomas Lewis', 'Danielle White', 'Lawrence Esparza', 'Kendra Kim', 'Melissa Johnson', 'Amber Avila', 'Elizabeth Roy', 'Craig Hansen', 'Brady Caldwell', 'Megan Harris', 'Melissa Hernandez', 'Danielle Adams', 'Cindy Alvarez', 'Melanie Murray', 'Anthony Griffin', 'Donna Glover', 'Jonathan Riley', 'Nancy Collier', 'Tyler Hughes', 'Derek Walker', 'Angela Castaneda', 'Christine Kidd', 'Cynthia Hamilton', 'Natasha Myers', 'Jill Roach', 'Billy Mccullough', 'Gina West', 'Karen Soto', 'Jack Vang', 'Tiffany Lee', 'Christian Mitchell', 'Nicholas Foster', 'Christina Mejia', 'Hannah Harris', 'Melanie Matthews', 'Marcia Mccormick', 'Jesse Kaiser', 'Christine Gonzalez', 'Lori Barry DVM', 'Sean James', 'Donna White', 'Caitlin George', 'James Young', 'Adam Torres', 'Melvin Jenkins', 'Alec Smith', 'Amber Quinn', 'Christina Franklin', 'John Moore', 'Sherri Carney', 'Robert Mcclure', 'David Molina', 'Hannah Meyer', 'Isaiah Baird', 'Heather Stewart', 'Chelsea Hansen', 'Tony Bell', 'Andrew Cook', 'Laura Molina', 'Ryan Lewis', 'Laura Cook', 'Michele Warner', 'Michaela Harrison', 'Rebecca Conley', 'William Gonzales', 'Logan Hampton', 'Melissa Sandoval', 'Michael Mack', 'Morgan Smith', 'Gina Wilson', 'Mrs. Kristin Chase', 'Katherine Hensley', 'Sandra Yu', 'Elizabeth Bell', 'Mckenzie Lewis', 'Whitney Austin', 'Hannah Fernandez', 'Michael Burke', 'Amy Velez', 'Trevor Jacobson', 'Michael Davis', 'Philip Smith', 'Alejandro Houston', 'Sharon Webb', 'Melanie Smith', 'Sharon Gibson', 'Sally Davis', 'Stephen Palmer', 'William Marshall', 'Jessica Conrad', 'John Robles', 'Dylan Jackson', 'Joseph Miller', 'Phyllis Boyd', 'Terrence Dickerson', 'Michael Wells', 'Hannah Harrington', 'William Newton', 'Casey Church', 'Julie Johnson', 'Timothy Vang', 'Michelle Hansen', 'Kerry Hanson', 'Bryan Huerta', 'Ronald Winters', 'Kimberly Ponce', 'Jackson Weber', 'Mary Weber', 'Rachel Schneider', 'Roberto Smith', 'Samantha Lang', 'Mr. John King', 'Cynthia Stewart', 'Joan James', 'Gail Phelps', 'Ana Anderson', 'Monica Wallace', 'Carol Boyd', 'Michael Pham', 'Jason Shaffer', 'Tiffany King', 'Danielle Mejia', 'Michael Boyd', 'Bob Miller', 'Jerome Meadows', 'Vanessa Gibson', 'Jason Salazar', 'Erika Olson', 'Briana Smith', 'Oscar Martin', 'Christopher Hancock', 'Ryan Dunn', 'Mrs. Michelle Oneill', 'Mark Thompson', 'Joshua Lee', 'Angela Salazar', 'Anthony Simpson', 'Michelle Nelson', 'Lori Townsend', 'Melissa Wood', 'Jonathan Nixon', 'William Jones', 'Michael Murphy', 'Mrs. Carla Whitney', 'Michelle Wood', 'Jennifer Lopez', 'Yolanda Taylor', 'Dawn Oneill', 'Jonathan Lee', 'Chris Miller', 'Nicholas Diaz', 'Leslie Banks', 'Alexis Sullivan', 'Jonathan Craig', 'James Murphy', 'Craig Moore', 'Heidi Thomas', 'Curtis Stanton', 'Bryan Salas', 'William Wu', 'Diane Cannon', 'Daniel Salas', 'Steven Clark', 'Francis Wilcox', 'Laura Taylor', 'Mrs. Lisa Donovan DDS', 'Melissa Costa', 'Laura Pierce', 'April Johnson', 'Elizabeth Martinez', 'Christina Shah', 'Bradley Thomas', 'Nicholas Proctor', 'Laura Colon', 'Walter Powers', 'Nicole Miller', 'Wayne Wheeler', 'Wayne Knight', 'Kathleen Estrada', 'Dylan Adams', 'Brian Scott', 'Samantha Gould', 'Lauren Le', 'Stephen Porter', 'Lisa Duffy', 'Marcus Mcdonald', 'Kim Nguyen', 'Anthony Lopez', 'Jorge Jones', 'Ryan Price', 'Parker Jackson', 'Caleb Meyer', 'Emily Diaz', 'Taylor Luna', 'Javier Thompson', 'Ruth Weber', 'Steve Pena', 'Christine Rogers', 'Angela Mccoy', 'Deborah Frank', 'Tammy Cunningham', 'Meredith Martinez', 'Wesley Grimes', 'Stephen Flores', 'Michael Sanchez', 'Candace Cook', 'Louis Stewart', 'Christopher Cunningham', 'James Riley', 'Kristina Ray', 'Kristen Solis', 'Scott Krause', 'Walter Smith', 'Kristi Rodriguez', 'Monica Hill', 'Jorge Spencer', 'Jeffrey Hill', 'Robin Adams', 'Dan Duke', 'Emma Williams PhD', 'Tyler Bird', 'Kathleen Copeland', 'Megan King', 'Charles Stewart', 'Jane Kaiser', 'Lydia Smith', 'William Barnes', 'Matthew Harrell', 'Amanda Garza', 'Whitney Johnson', 'Kathy Robinson', 'Pam Galloway', 'Lisa Tucker', 'Jeremy Morgan', 'Miranda Garza', 'Jordan Miles', 'Holly Gilbert', 'Kimberly Mccoy', 'Dr. Erica Crawford', 'Brian Campbell', 'Crystal Miller', 'Jonathon Gardner', 'Angela Stone', 'Wayne Finley', 'Daniel Hebert', 'Jeffrey Barron', 'Julia Johnson', 'David Grant', 'Nicole Deleon', 'Steven Holt', 'Joseph Harris', 'Kelly Johnson', 'Chad Carrillo', 'Karen Johnson', 'Bernard Howard', 'Alexandria Wallace', 'Savannah Mullins', 'James Allen', 'Alexander West', 'Megan Porter', 'Robert Brady', 'Theresa Carter', 'Gregg Salazar', 'Aaron Hartman', 'Sarah Mcmillan', 'Erin Evans', 'Jennifer Hamilton', 'Dr. Erica Maxwell', 'Charles Melendez', 'Jessica Bradley', 'Brandon Simmons', 'Heather Simpson', 'Paul Perry', 'Glenn Gallagher', 'Jason Wilkerson', 'Cindy Le', 'Alicia Fleming', 'Melanie Olson', 'Ralph Taylor', 'Hector Jenkins', 'Kimberly Harmon', 'Amanda Fisher', 'James Michael', 'Melissa Perez', 'Ryan Morgan', 'Maurice Thompson', 'Terri Browning', 'Jeremy Gibbs', 'Sara Terry', 'Christopher Gibson', 'Gabrielle Jones', 'Nicole Schwartz', 'Robert Jones', 'Jessica Duncan', 'Andrew Reese', 'Clifford Nguyen', 'Michael Smith', 'Angela Hammond', 'Elijah Fisher', 'Molly Smith', 'Kylie Richards DVM', 'Julie Harper', 'Sandra Castaneda', 'Melinda Lewis', 'Justin Mcdonald', 'Stephanie Jackson', 'Maria Wilson', 'Christina Contreras', 'Nicole Martinez', 'Angela Taylor', 'Brad Young', 'Margaret West', 'John Hunter', 'Jeffery Stephens', 'Gregory Tucker', 'Anita Russo', 'Catherine Dougherty', 'Ryan Molina', 'Keith Davis', 'Katrina Hampton', 'Micheal Collins', 'Kathy Nelson', 'Nathan Davis', 'Christopher Roberts', 'Jacob Buck', 'Debbie Wright', 'Craig Thomas', 'David Mack', 'Joshua Mitchell', 'Joshua Logan', 'Julie Perry', 'Amy Johnson', 'Michelle Hopkins', 'Amy Thornton', 'Jason Holt', 'Mary Davis', 'Jimmy Miller MD', 'Jose Mullen', 'Kimberly Ramsey', 'David Young', 'Lauren Castaneda', 'Christine Rodriguez', 'Stephanie Tanner', 'Jonathan Zimmerman', 'Cynthia Cole DVM', 'Dylan Torres', 'John Gutierrez', 'Jared Nichols', 'Trevor Brown', 'Alexandra Butler', 'Carmen Parker', 'Lance Chang', 'Jennifer Barrett', 'Walter Pham', 'Anne Phillips', 'Amanda Morris', 'Deborah Navarro', 'Nancy Gross', 'Erin Thompson', 'Elizabeth Rice', 'David Ramos', 'Brenda Kelley', 'Daniel Davies', 'Amber Barrett', 'Michelle Griffith', 'Michelle Hobbs', 'Deborah Booker', 'Shannon Davis', 'John Cardenas', 'Amy Bradley', 'Melissa Williams', 'Ashley Peters', 'Angela West', 'Janet Jones', 'Scott Bradshaw', 'David Cannon', 'John Taylor', 'Brandon Morris', 'Michael Rogers', 'Alex Taylor', 'Miss Amy Thompson', 'Andrea Rodriguez', 'Karen Ross', 'Emily Bender', 'Lori Cook', 'Jill Johnson', 'Joshua Lopez', 'Allen Allen', 'Gary Smith', 'Linda Lee', 'Frank Zavala', 'Jose Jefferson', 'Kerri Perez', 'Rachel Moreno', 'Gary Hurley', 'Taylor Ford', 'Lynn Contreras', 'Tamara Medina', 'Daniel Todd', 'Amy Bailey', 'Raymond Cameron', 'Daniel Hays', 'Scott Gutierrez', 'Paul Davis Jr.', 'Ethan Cooper', 'Jordan Harris', 'Derek Pitts', 'Derek Lopez', 'Brandon Orr', 'Maria Estrada', 'Monique Rodriguez', 'Denise Mcpherson MD', 'Emily King', 'Kimberly Owens', 'Tanya Livingston', 'Jennifer Herrera', 'Donna Sanchez', 'Brenda Hernandez', 'Alyssa Gilbert', 'Dr. Allison Robinson MD', 'Rachel Taylor', 'Mike Elliott', 'Bethany Martin', 'Mark Marquez', 'Michael Miller', 'Margaret Morton', 'Craig Le', 'David Johnson', 'Alan Medina', 'Tiffany Hogan', 'Jonathan Morgan', 'Melanie Macias', 'Doris Peters', 'Lauren Fields', 'Tyler Walter', 'Loretta Myers', 'Lindsay Miles', 'Heather Padilla', 'Mitchell Hurst DDS', 'Stacey Davis', 'Samuel Allen', 'James Henson', 'Joseph Young', 'Emily Nielsen', 'Brett Davis', 'John Schmidt', 'Kevin Carpenter', 'Karen Goodman', 'Harry Hall', 'Mark Edwards', 'Erin Blevins', 'Alejandro Jones', 'Julie Frank', 'Shawn Perez', 'Benjamin Raymond', 'Kevin Franco', 'Jennifer Norton', 'Meagan Garcia', 'Brandon Cook', 'Jessica Ruiz', 'Paul Scott', 'Kaylee King', 'Stephanie Green', 'John Owen', 'David Downs', 'Shawn Santos', 'Elizabeth Collins', 'James Smith', 'Nathan Romero', 'Vanessa Smith', 'Dr. Laurie Taylor', 'Gregory Wells', 'Tyler Myers', 'Jerome Garcia', 'Jon Lin', 'Walter Stephens', 'Benjamin Marks', 'Ashley Luna', 'Laura Collins', 'Cory Owen', 'Stephanie Wood', 'Robert Taylor', 'Diana Rios', 'Jonathan Leonard', 'Robin Kane', 'Ashley Allen', 'Kari Martin', 'Alexis Warren', 'Debra Cross', 'Jamie King', 'Kathryn Mccormick', 'Jeffrey Carter', 'Michelle Thomas', 'Susan Decker', 'Richard Huff', 'Nicole White', 'Donna Reyes', 'Jill Perez', 'Karen Cohen', 'Pamela Kirk', 'Lauren Salazar', 'Jeffrey Waters', 'Dr. Justin Delacruz', 'Miss Shannon Johnson', 'Ronald Roberts', 'Shannon Brown', 'Frank Thompson', 'Jason Huynh', 'Michael Lopez', 'Matthew Rivera', 'Denise Hammond', 'James Haley', 'John Harris', 'Monica Steele', 'James Holmes', 'Lisa Vasquez', 'Latasha Thompson', 'Stephen Contreras', 'Kelly Bailey', 'Paul Gomez', 'Michael Owen', 'Stephanie Petty', 'Brandon Clarke', 'Jennifer Park', 'Derek Rodriguez', 'Nicole Conner', 'Jennifer Martin', 'Mark Kim', 'Jim Sanchez', 'Chris Jones', 'Ryan Davidson', 'Brittany Huff', 'Makayla Diaz', 'Peter Anderson', 'Jason Campbell', 'Marissa Anderson', 'Matthew Elliott', 'Christopher Walker', 'Francisco Hayden', 'Anna Parker', 'Nicole Snow', 'Sara Ruiz', 'Jeffery Reese', 'Susan Cole', 'Linda Webb', 'Elizabeth Nelson', 'Lori Ward', 'Robert Smith', 'Stephanie Maxwell', 'Justin Lawrence', 'Erica Patton', 'Amy Baker', 'Brenda Travis', 'Colton Gonzalez', 'Erica Swanson', 'Javier Johnson', 'Robin Brown', 'Lauren Mercado', 'Charles Lucas', 'Joanna Smith', 'Anne Ramos', 'Stacy Barnett', 'Amanda Donovan', 'Leslie Wade', 'Sarah Benson', 'Shane Ward', 'Tony Gilbert', 'Richard Peterson', 'Peter Rodgers', 'Brian Garcia', 'Kim Jenkins', 'Patricia Medina', 'William House', 'Jennifer Hanna', 'Caroline Lambert', 'Angela Larsen', 'Veronica Mccormick', 'Holly Wagner', 'Marcus Brown', 'Sonia Fleming', 'Lauren Phillips', 'Dustin Morgan', 'Elizabeth Gutierrez', 'Angel Whitaker', 'Brandi Ochoa', 'Andrew Davenport', 'Ashlee Flowers', 'Ann Brown', 'Martha Nguyen', 'Timothy Murphy', 'Kevin Alvarez', 'Gregory Gutierrez', 'Sandy Smith', 'Theresa White', 'Traci Sanchez', 'Joshua Smith', 'Wesley Davis', 'Shelley Anderson', 'Stephanie Martin', 'Christopher Peters', 'Sandra Smith', 'Priscilla West', 'Melissa Owen', 'Shawn Frost', 'Alexander Juarez', 'Timothy Snyder', 'Dr. Kelly Santos', 'Andrew Perkins MD', 'Amanda Cruz', 'Richard Boyer', 'Kelsey Wilson', 'Frank Moyer', 'Taylor Perez MD', 'Nicholas Lozano', 'Sandra Martinez', 'Brad Rodriguez', 'Grace Long', 'Daniel Williams', 'Eduardo Serrano', 'Victor Reese', 'Ronald Nash', 'Kayla Yates', 'Scott Barnes', 'Jill Gray', 'Megan Willis', 'Kelly Castaneda', 'Destiny Patel', 'Patricia Jones', 'Matthew Boyd', 'Alicia Bowen', 'Vanessa Myers', 'Sonya Howell', 'Donna Hernandez', 'Vincent Jennings', 'Brooke Archer', 'Tyler Cantrell', 'Donna Everett', 'Shannon Munoz', 'David Mann', 'Robin Brooks', 'Kimberly Hampton', 'Tom Mitchell', 'Barbara Olson', 'Edward Sloan', 'Michelle Vega', 'Brandon Wise', 'Matthew Mcdonald', 'Matthew Davis', 'Kimberly Gordon', 'Denise Conrad', 'Sergio Ortiz', 'Don Hancock', 'James James', 'Elizabeth Rios', 'Ann Gould', 'Matthew Soto', 'Richard Villarreal', 'Mark Martin', 'Bryan Thomas', 'Joseph Hunt', 'Ashley Grant', 'Jon Miller', 'Casey Murphy', 'Kayla Jackson', 'Oscar Anderson', 'Natasha Smith', 'Kevin James', 'Joel Bautista', 'Jeanne Johnston', 'Eric Davila', 'Rita Larson', 'Sara Mckay', 'Lisa Patton', 'Bradley Vargas', 'David Simpson', 'Jessica Davis', 'Shelby Soto', 'Kevin Perry', 'Samantha Harvey', 'Kristen Ball', 'Adam Richards', 'Larry Jones', 'John Blake', 'Jose Shaw', 'John Bean', 'Michael Mills', 'Jessica Dean', 'Wendy White', 'Michelle Smith', 'Catherine Chavez', 'Jeremy Erickson', 'Joel Morrow', 'Amber Davis', 'Pamela Trevino', 'Benjamin Hayden', 'Catherine Jensen', 'Donna Juarez', 'Robin Benton', 'Christopher Peck', 'Ronnie Fischer', 'Sharon Bates', 'Edwin Gardner', 'Lisa Kerr', 'Daniel Smith', 'Laura Kennedy', 'Kelly Novak', 'Tyler Ayala', 'James Chandler', 'Jonathan Morris', 'Pamela Mullins', 'Eric Torres', 'Patrick Lewis', 'Adam Murray', 'Alicia Coleman', 'Kathryn Murray', 'Debra Robinson', 'Jesse Silva', 'Lisa Mcgee', 'Mathew Crawford', 'Randy Graham', 'Julie Melendez', 'Adam Haney', 'Jennifer Young', 'Ryan Wood', 'Mrs. Andrea Dalton MD', 'Stephen Cook', 'Olivia Bailey', 'Casey Hughes', 'Spencer Cervantes', 'Lisa Rodriguez', 'Michael Haas', 'Kelly York', 'Jacob Fox', 'Ann Mcconnell DVM', 'Renee Torres', 'Rhonda Jones', 'David Lopez', 'Jennifer Gray', 'Gregory Harrison', 'Tammy Howard', 'Raymond Wagner', 'Brandy Walker', 'John Peters', 'Jared Johnson', 'Anna Cooper', 'Erika Brown', 'Timothy Wade', 'Michael Medina', 'Stanley Morales', 'Brandi Johnston', 'John Kidd', 'Noah Hatfield', 'Tracey James', 'Cynthia Stephenson', 'Cody Arnold', 'Aaron Moore', 'Alexander Galvan', 'Margaret Estrada', 'William Thompson', 'Gloria Mack', 'Angela Conway', 'Bailey Carpenter', 'Vanessa Davies', 'Rachel Clark', 'Heather Ramirez', 'Ryan Dean', 'Ruth Johnson', 'Brandon Johnson', 'Teresa Stafford', 'Richard Fritz', 'Denise Deleon', 'Laura Smith DDS', 'Donald Miranda', 'Katherine Tucker', 'David Brown', 'Andrew Garza', 'Frank Burton', 'Diane Dougherty', 'Heather Fischer', 'Todd Roman', 'Anthony Adams', 'Rachael Romero', 'Jamie Miller', 'Jason Williams', 'Caleb Diaz', 'Christopher Willis', 'John Avila', 'Rebecca Turner', 'Heather Sharp', 'Amanda Blair', 'Jason Sawyer', 'Robert Padilla', 'Luke Santana', 'Jerry Vargas', 'Jay Johnson', 'Meghan Johnston', 'Matthew Bond', 'Scott Grimes', 'Dawn Yu', 'Anthony Moore', 'Brenda Bowers', 'Justin Ray', 'Richard Schultz', 'Tara Harris', 'Eric Pitts', 'Shawn Dennis', 'Xavier Lee', 'Andrea Castro', 'Robert Weber', 'Steven Gibson', 'David Moore', 'Amber Wiley', 'Larry Morton', 'Elizabeth Cordova', 'Dr. Jesse Powell', 'Laura Lynch', 'Dana Williams DDS', 'Daniel Wilson', 'Tamara Gilbert', 'Alexander Hawkins', 'Jasmine Patel', 'Vincent Avery', 'Andrea Francis', 'Aaron Newton', 'Eric Wood', 'Maria Ewing', 'Brian Wilson', 'Julie Brooks', 'Mariah Scott', 'Heather Guerrero', 'Kaitlyn Abbott', 'Stephanie Anderson', 'Kathy Woodard', 'Abigail Wells', 'Vanessa Mann', 'Rebecca Rivera', 'Tina Harper', 'Charlotte Martinez', 'Felicia Hendricks', 'John Marshall DDS', 'Aaron Mills', 'Theresa Wright', 'Sonya Schneider', 'Adam Stewart', 'Kelly Griffith', 'Kelly Spencer', 'Dave Benitez', 'David Ortiz', 'Barbara Chen', 'David Cowan', 'Dr. Thomas Mathis Jr.', 'Benjamin Carpenter DDS', 'Jeffrey Ramirez', 'Gary Bond', 'Emily Wall', 'Amy Harris', 'Ruth Miles', 'Mary Nielsen', 'Teresa Griffin', 'Tyler Johnson', 'Brittney Smith', 'Mary Grant', 'Jerry Bentley', 'Gerald Miller', 'Billy Peterson', 'Bethany Frank', 'Andrew Castillo', 'Katherine Duffy', 'Miguel Davis', 'Kim Brewer', 'Tyrone Carpenter', 'Rhonda Stone', 'William Wolf', 'Jennifer Obrien', 'Olivia Smith', 'Lindsay Hickman', 'Rachael Smith', 'Kari Smith', 'Spencer Jordan MD', 'Glen Mclaughlin', 'Scott Palmer', 'Taylor Perez', 'Lori Campos', 'Jaime Reed', 'Robert Mann', 'Susan Wheeler', 'Alexa Morrow MD', 'Katie Foley', 'Darren Rivera', 'Bernard Crane', 'Andrew Johnson', 'Mrs. Brittany Anderson DDS', 'Marc Wilson', 'Richard Alvarado', 'Eric Malone', 'Nicole Clark', 'Justin Moran', 'Heather Hunt', 'Melissa Bentley', 'Chad Thomas', 'Jessica Trevino', 'Joseph Hill', 'Katie Mcguire', 'Johnny Wagner', 'Dorothy Smith', 'Susan Griffin', 'Caitlin Parrish', 'Connie Henderson', 'Heidi Brock', 'Joseph Stevens', 'Joseph Barton', 'Tiffany Burns', 'Derrick White', 'Teresa Baker', 'Hayley Barnes', 'Christina Martin', 'Jesse Fletcher', 'Jill Summers', 'Jeffrey Williams', 'Colleen Jefferson', 'Kyle Riley', 'Benjamin Wilson', 'Sara Garcia MD', 'Billy Davis', 'Jeffrey Peters', 'Jeremy Dixon', 'Daniel Alexander', 'Anthony Marshall', 'Adam Cruz', 'Deborah Wolfe', 'Ronald Woods', 'Steven Gray', 'Timothy Wilson', 'Zachary Perez', 'Heather White', 'Michael Fry', 'Deborah Hughes', 'Debra Simon', 'Derek Rose', 'Kristina Marshall', 'Daniel Hill', 'Gary Christian', 'Erik Villa', 'Chad Newton', 'Tara Martinez', 'Donna Bauer', 'Amanda Velasquez', 'Edward Johnson', 'Carrie Harris', 'Donna Pierce', 'Terry Mckinney', 'Veronica Bernard', 'Stephanie Duarte', 'Emily Peck', 'Timothy Castaneda', 'Derek Clarke', 'Edward Cross', 'Tiffany Wolfe', 'Troy Fry', 'Jasmine Evans', 'Carolyn Jones', 'Anthony Parker', 'Amber Weber', 'David Green', 'Manuel Ryan', 'Danielle Thompson', 'Nathaniel Mason', 'Christopher Flores', 'Scott House', 'Miguel Green', 'Wayne Long', 'Curtis Burnett', 'Christopher Taylor', 'Brian Fisher', 'Heidi Russell', 'Lauren Wilkinson', 'Andrea Arnold', 'Mary Barry', 'Todd Brooks', 'David Mccann', 'Peter Morales', 'Jaclyn Payne', 'James Sanders', 'Stacey Anderson', 'Christina James', 'Matthew Jacobs', 'Anthony Mora', 'Victoria Friedman', 'John Hayes', 'Chad Cobb', 'Natalie Mack', 'Emily Gutierrez', 'Meghan Marks', 'Matthew Gonzales', 'Amy Gutierrez', 'Micheal Brown', 'David Soto', 'Cory Horton', 'Scott Pace', 'Brandon Hughes', 'Michael Whitehead', 'Angela Mendoza', 'Samantha Lopez', 'Jonathan Zamora', 'Joseph Campbell', 'Karen York', 'Thomas Kennedy', 'Laura Martinez', 'Samantha Floyd', 'Tony Ellison', 'Elizabeth Crawford', 'Christina Anderson', 'Kirsten Smith', 'Kevin Lawrence DVM', 'Joseph Williams', 'Joe Graham', 'Daniel Taylor', 'Donald Contreras', 'Justin Matthews', 'Dean Arias', 'Shannon Rivera', 'Kelly Barnett', 'Mrs. Joanne Green MD', 'Adam Manning', 'Timothy Henderson', 'Jordan Huber', 'Jacob Andersen', 'Antonio Myers', 'Jacqueline Lewis', 'Sean Trujillo', 'Douglas Patterson', 'Michael Mckinney', 'Samantha Miller', 'Sharon Brown MD', 'Brian Rice', 'James Brown', 'Sydney Drake', 'Mrs. Laura Scott MD', 'Catherine Jones', 'Jessica Coleman', 'Brenda Leon', 'Elizabeth Cunningham', 'Maurice Haas', 'Diane Boyd', 'Rebecca Stephens', 'Sheila Bryan', 'Cynthia Martinez', 'Mary Jordan', 'Daniel Martin', 'Cynthia Gomez', 'Dr. David Hernandez Jr.', 'Frank Gibson', 'Sharon Simon', 'Catherine Smith', 'Robert Harrison', 'Kim Byrd', 'Sean Robertson', 'Ashley Jones', 'Brittany Clark', 'Frank Flores', 'Christopher Williams', 'Richard Knight', 'Michael Lopez Jr.', 'Christopher Crawford', 'Matthew Hunter', 'Collin Leonard', 'Christopher Gutierrez', 'Steven Long', 'Ronald Thomas', 'Jeffrey Garcia', 'Rachel Olson', 'Jessica Zamora', 'Michael Edwards', 'Allison Swanson', 'Joseph Mendoza', 'Janice Byrd', 'Dalton Jones', 'Jessica Reyes', 'Joshua Robinson', 'William Ramos', 'Brandon Allen', 'Jason Leonard', 'Fernando Gallegos', 'Robert Mcmillan', 'Sabrina Rodriguez', 'Sylvia Reeves', 'Cindy Carr', 'Timothy Cook', 'Gregory Fischer', 'Joshua Jones', 'Dawn Robinson', 'Alyssa Wagner', 'Leslie Andrade', 'Jacqueline Torres', 'Kenneth Miller', 'Jennifer Thomas', 'William Bowman', 'Mrs. Andrea Young', 'Holly Crawford', 'Frank Patterson', 'James Goodman', 'Samuel Fields', 'Matthew Arnold', 'Brittany Gilbert', 'James Gibson', 'Victoria Lambert', 'Kevin Wolfe', 'Caitlin Clark', 'Patrick Jarvis', 'Ian Fisher', 'Kristin Mueller', 'Kristopher Taylor', 'Elizabeth Collier', 'Brent Newman', 'Albert Armstrong', 'Colleen Park', 'Jose Lynn', 'John Clark', 'Brandon Nguyen', 'Melanie Phelps', 'Kimberly Jackson', 'Andre Bennett', 'Roger Woods', 'Paul Nelson', 'Elijah Houston', 'Leslie Mitchell', 'Stephen Wallace', 'Norman Roberts', 'Ryan Hammond', 'Megan Turner', 'Matthew Griffin', 'Cynthia Rivas', 'Joseph Bradford', 'Lauren Schneider', 'Leonard Thompson', 'Todd Smith', 'Gregory Stout', 'Heather Mckinney', 'Yesenia Kennedy', 'Samuel Meyers', 'Roger Taylor', 'Daniel Stanton', 'John Munoz', 'Tracy Hamilton', 'Juan Reed', 'Brenda Robinson', 'Mr. Craig Martinez', 'Haley Morris', 'Allison Foley', 'Amanda Duncan', 'Tiffany Turner', 'Jesse Clarke', 'Kaitlyn Chambers', 'Paul Hernandez', 'Paul Roberts', 'Stephanie Harris', 'Michael Thompson', 'Rachel Charles', 'Kent Martin', 'Nathan Castillo', 'Justin Taylor', 'Mr. Matthew Clay', 'Jason Mayer Jr.', 'Vanessa Nelson', 'Kenneth Clark', 'David Watkins Jr.', 'Tyler Ryan', 'Michael Ortiz', 'Logan Fletcher', 'Amy James', 'Christine Moore', 'Diane Fox', 'Terry Newton', 'Ashley Perez', 'Desiree Rhodes', 'Morgan Acosta', 'Danny Johnson', 'Natasha Armstrong', 'Stephen Simmons', 'Erin Williams', 'Yvonne Bright', 'Melissa Freeman MD', 'Emma Hammond', 'Derek Davis', 'Daniel Carter', 'Zachary Summers', 'Justin Watkins', 'Christine White', 'Brittany Sharp', 'Albert Kennedy', 'Gregory Harris', 'Todd Ibarra', 'Holly Butler MD', 'Stephanie Morrison', 'Hannah Escobar', 'Julie Dominguez', 'Rachel Holloway', 'Heather Davis', 'Daniel Chavez', 'Jessica Lucas', 'Valerie Miller', 'Amy Schwartz', 'Suzanne Murphy', 'Juan Green', 'David Chan', 'Michael Watson', 'Michael Pierce', 'Kelsey Cohen', 'Jeremy King', 'Christine Perry', 'Sara Tanner', 'Dr. Terry Reyes DVM', 'Mark Bush', 'William Cervantes', 'Joshua Johnson', 'Lori Nguyen', 'Lynn Moore', 'Michelle Christensen', 'Anthony Anderson', 'Kylie Hart', 'Justin Rollins', 'Chad Stephenson', 'Nancy Young', 'Monique Novak', 'William Bruce', 'Scott Diaz IV', 'Rachel Hooper', 'Jonathan Johnson', 'Linda Walker', 'William Becker', 'Jacob Brown', 'Michael Anderson', 'David Galloway', 'Angel Myers', 'Erica Davis', 'Richard Baker', 'Lauren Hunt', 'Robin Castro', 'Christian Spencer', 'Jeffrey Howell', 'Jessica York', 'Sean Evans', 'Adam Williams', 'Brent Rush', 'James Vargas', 'Miranda Thomas DDS', 'Don Rodriguez', 'Thomas Bauer', 'Michael Buck', 'Steven Thomas', 'Steven Blevins MD', 'Angela Haynes', 'Christopher Hooper', 'John Austin', 'Miss Shannon Pollard', 'Anita Rodgers', 'Daniel Phillips', 'Rachel Berry', 'Janet Lopez', 'Jay Long', 'Jonathan Owen', 'Briana Waters', 'Jeffrey Munoz', 'Alexander Osborn', 'Paul Pena', 'Joseph Hudson', 'Derrick Cooley', 'Steven Jacobson', 'Kayla White', 'Lisa Sanchez', 'Gary Martinez', 'Mike Dennis', 'Keith Jones', 'Elizabeth Moore', 'Joshua Berger', 'Veronica Martinez', 'Joseph Edwards', 'Courtney Hayes', 'Chelsea Dean', 'Mark Rice', 'Brianna Gardner', 'Phillip Daniels', 'Christian Drake', 'Monique Crawford', 'Madeline Jackson', 'Manuel Brennan', 'Miranda Parker', 'Andrew Lucas', 'Maria Palmer', 'Debbie Vaughn', 'Amber Taylor', 'Lisa Camacho', 'Dawn Leonard', 'Aaron Henderson', 'Miguel Mccarthy', 'Ashley Savage', 'Jennifer Bell', 'Melissa Padilla', 'Russell Townsend', 'Ryan Kane', 'Nancy Reynolds', 'Linda Richards', 'Ashley Hicks', 'James Lynch', 'Mr. Richard Holmes', 'Jack Velez', 'Michael Rivera', 'Ryan Howard', 'Heather Barr', 'Laura Greene', 'Kim Mitchell', 'Jon Caldwell', 'Cody Wallace', 'Tyler Terrell', 'Samantha Owen', 'Miss Alicia Williamson', 'Kelly Howell', 'Colleen Frost', 'Chris Harper', 'David Allen', 'John Salazar', 'Natalie Berger', 'Matthew Watkins', 'Jamie Hardy', 'Kristi Johnson', 'Maria Berry', 'Perry Cervantes', 'John Wilcox', 'Sarah Duncan', 'Jerry Simpson', 'Patrick Zimmerman', 'Rick Johnson', 'Susan Fleming', 'Joseph Baker', 'Craig Martinez', 'Clifford Williams', 'Christopher Patel', 'Emily Escobar', 'Francis Malone', 'Megan Barton', 'Tiffany Brennan', 'Latasha Salazar', 'Dalton Baird', 'Katelyn Guerra', 'Tracey Barnett', 'Christopher Mcconnell', 'Jonathan Christensen', 'George Mcdonald', 'Erin Young', 'Terry Willis', 'Vanessa Brown', 'Colin Hubbard', 'Suzanne Randolph', 'Anthony Duke', 'Erin Dean', 'Joseph Ellis', 'Julie Lawrence', 'Vicki Green', 'Julia Levy', 'William Soto', 'Lauren Pena', 'Carl Blankenship', 'Patricia Sanchez', 'Trevor Collins', 'Adriana Pena', 'Brett Adams', 'Ray Briggs', 'Margaret Foster', 'Julie Taylor', 'Jeffrey Peterson', 'Michelle Mayo', 'Cynthia Bailey', 'Jose Ramirez', 'Nathan Gibson', 'Andrew Schroeder', 'Douglas Moore', 'Dawn Carroll DVM', 'Louis Parks', 'Elizabeth Taylor', 'David Owens', 'Howard Thompson PhD', 'William Davis', 'Kathy Taylor', 'Heidi Walsh', 'Daniel Miller', 'Michelle Ramos', 'Rebecca Hall', 'Jessica Oconnor', 'David Snyder', 'Kimberly Woodward', 'Tasha Castillo', 'Christopher Fisher', 'Christopher Atkinson', 'Michael Parker', 'Joe Brown', 'Cheryl Avila', 'Connie Howell', 'Isaiah Robinson', 'Melissa Price', 'John Hogan', 'Molly Jenkins', 'Kristen Duran', 'Stephanie Obrien', 'Scott Young', 'Matthew Jones', 'Amber Brown', 'Douglas Ross', 'Karen Padilla', 'Jodi Moore', 'Tyler Ramos', 'Brandi Mendez', 'Timothy Lane', 'Margaret Kim', 'Julian Hill', 'Ryan Robinson', 'Jerome Patel', 'Erik Hughes', 'Cameron Woods', 'Isaiah Wright', 'Sharon Allison', 'Bruce Higgins', 'Angie Montgomery', 'Sheri Hopkins', 'Tim Thomas', 'Julie Wilson', 'Elizabeth Donaldson', 'Charlene Thomas', 'Lorraine Baker', 'Audrey Johnson', 'Hannah Atkinson', 'David Lawrence', 'Marcus Mueller', 'Anna Davidson', 'Richard Donovan', 'Jack Baker', 'Mr. Ryan Chavez', 'Victor Hall', 'Trevor Oliver', 'Amanda Stewart', 'Sarah Sanchez', 'Jamie Cole', 'Todd Morrison', 'Summer Compton', 'Christopher Conner', 'Claudia Berger', 'Nathaniel Greene', 'Colin Stone', 'Tammy Smith DDS', 'Dr. Amber Barton MD', 'Lauren Baker', 'Robert Meyer', 'Howard Sullivan', 'Jason Mitchell', 'David Day', 'William Odom', 'Pamela Garrison', 'Jose Flores', 'Christopher Harris', 'Alexandra Perry', 'Meghan Weiss', 'Jacob Williams', 'Timothy Martinez', 'Shawn Hayes', 'Steven Harrington', 'Andrew Collins', 'Sandra Hall', 'Mark Brown', 'Julie Davis', 'Alvin West', 'Kristen Cameron', 'Rachel Campbell', 'Cassandra Jones', 'Timothy Richards', 'Mark Floyd', 'Angela Price', 'Terry Alvarez', 'Samantha Bailey', 'April Joseph', 'Perry Gordon', 'Mary Mclaughlin', 'Jordan Wright', 'Sandra Reid', 'Jenny Hardin', 'Karen Gibson', 'Rachel Morgan', 'Heather Wyatt', 'Nathan King', 'Keith Gonzalez', 'Christina Benitez DVM', 'James Galloway', 'Jonathan Gomez', 'Veronica Estrada', 'Chelsea Daniels', 'Jonathan Hunter', 'Donna Sutton', 'Victoria Wilson', 'Christopher Hanson', 'Jared Watts', 'Brian Boyd', 'Alan Howell', 'John Bailey', 'Robin Donovan', 'Amanda Garcia', 'Mr. Timothy Stewart IV', 'Jason Gates', 'Alex Adams', 'Kimberly Stokes', 'Emily Jackson', 'Nathan Alvarado', 'Anthony Perez', 'Emily Smith', 'Bradley Cobb', 'Joshua Ray', 'William Rogers PhD', 'Steven Maxwell', 'Tara Shaw', 'Kevin Bernard', 'Michelle Anderson', 'Daniel Bowers', 'Peter Hardy', 'Teresa Morales', 'Anne Armstrong', 'Sierra Williams', 'Katherine Austin', 'Miss Amber Cooper', 'Michael Underwood', 'Scott Thompson', 'Benjamin Jarvis', 'Julie Bender', 'Kevin Brown DDS', 'David Wagner', 'Jose Henry', 'Nicholas George', 'Grant King', 'Charles Moon', 'Denise Odonnell', 'Aaron Butler', 'Pamela Michael', 'Benjamin Obrien', 'Kellie Hansen', 'Barry Evans', 'Brian Carroll', 'Helen Freeman', 'Jeremy Mayer', 'John Hamilton', 'William Mcguire', 'Christopher Oneill', 'Jacqueline Massey', 'Stephen Reed', 'Darren Myers', 'Shannon Phillips', 'Ryan Carter', 'Bruce Green', 'Shannon Shaw', 'Valerie Benitez', 'Sheila Craig', 'Mary Figueroa', 'Veronica Rodriguez', 'Ashley Washington', 'Ernest Wu', 'Barbara Ellis', 'Colleen Donovan', 'Katrina Jones', 'Tara Davis', 'Rebecca Dawson', 'Raymond Snyder', 'Claudia Tran', 'Misty Hughes', 'Melinda Sullivan', 'Heather Nunez', 'Tyrone Clark', 'Meghan Hudson', 'Jill Graham', 'Joseph Richmond', 'Miguel Lewis', 'Tara Martin', 'Billy Ramirez', 'Susan Williams', 'Craig Brown', 'Jacob Blake', 'Jonathan Smith', 'Zachary Hansen', 'Lisa Snyder', 'Amy Richardson', 'Michael Davidson', 'Chelsea Parsons', 'Molly Thompson', 'David Weaver', 'Paula Leblanc', 'Linda Flores', 'Michael Arnold', 'Jodi Wilson', 'David Buckley', 'Brian Manning', 'Tom Mason', 'Ashley Patrick', 'Lindsey Cochran', 'Glenn Lyons', 'Jeffrey Palmer', 'Ashley Adams', 'Ronald Miller', 'Bryan Gonzalez', 'Cristian Nguyen', 'Jacob Gay', 'Dr. Linda Smith MD', 'David Love', 'Ashley Thompson DDS', 'Emily Roberts', 'Justin Reed', 'Sara Erickson', 'Veronica Clark', 'Tammy Diaz', 'Makayla Delgado', 'Laura Thomas', 'John Figueroa', 'Robyn Ware', 'Jodi Rivera', 'Adrian Rosales', 'Shaun Perry DDS', 'Susan Lee', 'Matthew Harris', 'Kyle Morris', 'Steven Hancock', 'Brittany Lyons', 'Christine Williams', 'Christina Williams', 'Michael Roberts', 'Thomas Parks', 'Kelly Soto', 'Christina Torres PhD', 'Paul Herrera', 'Debbie Wall', 'Charles Thomas', 'Christopher Orr', 'Carolyn Nichols', 'Richard Henderson', 'Anne Jackson', 'Sherry Frost', 'Christine Anderson', 'Kaylee Rangel', 'Julie Johnston', 'Bradley Gray', 'Lisa Ramirez', 'Amy Kelly', 'William Gibbs', 'Michele Owens', 'Carlos White', 'Jessica Stephens', 'Andrew Martin', 'Dalton Hart', 'Terri Guerra', 'Steven Robertson', 'Kevin Zimmerman', 'Paul Gibbs', 'Vicki Park', 'Christine Butler', 'Mr. Tyler Jones MD', 'Jacob Mosley', 'Pamela Meyer', 'Kimberly Smith', 'Jordan Moore', 'Brooke Clark', 'Alison Robertson', 'Jose Meza', 'Timothy Douglas', 'Crystal Beasley', 'Kim Fry', 'Ashley Gonzales', 'Matthew Hill', 'Natalie Lewis', 'Michelle Mcmillan', 'Anne Johnson', 'Dan Vargas', 'Bernard Gardner', 'Jesse Scott', 'Donna Wilson', 'Samantha Smith', 'Katrina Page', 'Tamara Walker', 'Kristen Gregory', 'Barbara Wilkinson', 'Cindy Garrett', 'Teresa Gray', 'Nicholas Grimes', 'Jennifer Yates', 'Lauren Estes', 'Pamela Maldonado', 'Wendy Ward', 'Angela Davis', 'Melissa Lyons', 'Evelyn Shaffer', 'Melanie Woodard', 'Alyssa Buck', 'Meghan Odom', 'Clayton Baldwin', 'John Hernandez', 'Tanya Ward', 'Philip Armstrong', 'Krystal Gordon', 'Cody Hamilton', 'Curtis Williams', 'Jeffrey Jensen', 'Breanna Fowler', 'Raymond Smith', 'Susan Diaz', 'Katherine Hess', 'Troy Martinez', 'Ashley Baird', 'Chris Maldonado', 'Carolyn Arnold', 'Calvin Rodriguez', 'Michelle Watson', 'Kevin Williams', 'James Ross', 'Derek Chan', 'Tyler Williams', 'Jimmy Villa', 'Jessica Simmons', 'Vincent Hamilton', 'Mark King', 'Evan Lewis', 'Kimberly Snow', 'David Morris', 'Teresa Dominguez', 'Justin Villa', 'Anthony Spencer', 'James Murray', 'Jennifer Jones', 'Casey Clarke', 'Jennifer Rodriguez', 'Ronnie Olson', 'Marcus Whitney', 'Jeremy Alvarado', 'Melinda Schneider', 'Jessica Ward', 'Brett Raymond', 'James Vasquez', 'Joseph Lopez', 'Deborah Moore', 'Jonathan Camacho', 'Edward Shea', 'Mercedes Schmidt', 'Sandy Cummings', 'Adrian Richardson', 'Arthur Juarez', 'John Rowland', 'Darrell Gomez', 'David Thomas', 'Cynthia Tran', 'Justin Wilkerson', 'Melissa Berry', 'Jason Herrera', 'Lisa Frank', 'Alice Rodriguez', 'Kathleen Ward', 'Leonard Stephens', 'Lisa Reyes', 'Angela Fuller', 'Phillip Carey', 'Richard Morris', 'Stefanie West', 'John Khan', 'Shawn Olson', 'Patricia Graves', 'Amy Black', 'Emily Jones', 'Bridget Nash', 'David Perez', 'Ashley Turner', 'Henry Whitney', 'Michelle Rodriguez', 'Jason Hart', 'Jill Fernandez', 'Jonathan Wiley', 'Sandra Wells', 'Randall Hoffman', 'Clayton Miller', 'James Freeman', 'Karen Holder', 'Calvin Diaz', 'Jennifer Alexander', 'Stephanie Holt', 'Cody Gutierrez', 'William Moore', 'Christine Nguyen', 'Christopher Cummings', 'Chad Jimenez', 'Debbie Johnson', 'Jeremy Olsen', 'Martin Carter', 'Anne Franklin', 'Andrea Carrillo', 'Mitchell Taylor', 'Nathaniel Brown', 'Jacqueline Evans', 'Michael Mcmahon', 'Jamie Hartman', 'Valerie Rivera', 'Wayne Gonzalez', 'Paul Lee', 'Joseph Dunn', 'William Cabrera', 'Zachary Simpson', 'Kenneth Kelly', 'Renee Walters', 'David Fernandez', 'Bobby Beltran', 'Stephanie Oliver', 'Kim Gonzales', 'Austin Reeves', 'Elizabeth Turner', 'Jennifer Crane', 'Felicia Davies', 'Steven White DDS', 'Amanda Espinoza', 'Alexandria Jones', 'Richard Figueroa', 'Karina Rodriguez', 'Sarah Rivas', 'Craig Johnson', 'John George', 'Abigail Johnson', 'Crystal Ramsey', 'Lisa Guerrero', 'Christine Lozano', 'Lisa Little', 'Ashley Foster', 'Ian Brown', 'Taylor Reynolds', 'Jordan King', 'Frank Alvarez', 'Rebecca Gallagher', 'Catherine Snyder', 'Kevin Sanders', 'Samantha Blake', 'Christopher Mills', 'Daniel Wallace', 'Kenneth Burke', 'Joyce Mills', 'Mr. Jose Medina', 'Stephanie Duncan', 'Matthew Ross', 'Claudia Brown', 'Danielle Richardson', 'Dustin Howard', 'Matthew Mendoza', 'Kelly Schmidt', 'Mr. Joseph Munoz', 'Troy Reyes', 'Christopher Espinoza', 'Joshua Reed', 'Robert Oconnell', 'Felicia Johnson', 'Joseph Wang', 'Dr. Paula Mendoza', 'Jason Berg', 'Donna Roberts', 'Matthew Edwards', 'April Lewis', 'Chad Patel', 'Jason Robinson', 'Jordan Martinez', 'Laura Wright', 'Spencer Martinez', 'Pamela Miller', 'Brenda Flores', 'Shannon Jones', 'Brittany Harris', 'Michael Page', 'Brian Williams', 'Zachary Rodriguez', 'Dean Burns', 'Paula Manning', 'April Lopez', 'Matthew Beasley', 'Kaylee Rosales', 'Anna Foster', 'Sean Hicks', 'Anthony Kennedy', 'Dwayne Randall', 'Charles Patterson', 'Ian Lewis', 'Joseph Alexander', 'Laura Burton', 'Michele Choi', 'Jennifer Valenzuela', 'Michelle Robbins', 'Deborah Decker', 'Michael Warner', 'Katie Smith MD', 'Gerald Medina', 'Jennifer Glass', 'Ricardo Thompson', 'Tyler Chambers', 'Stephen Livingston', 'Hailey Ballard', 'Jeremy Gonzalez', 'James Reese', 'Angela Vasquez', 'Gavin Colon', 'Patricia Baird', 'Joseph Cook', 'Lisa Lowery', 'Madeline Shaffer', 'Rachel Gomez', 'Angela Anderson', 'Amber Riddle MD', 'Mackenzie Robertson', 'Peter Nelson', 'Nathaniel Perry', 'Anna Newman', 'John Williams', 'Tara Carpenter', 'Paul Thomas', 'Gregory Hancock', 'James Cordova', 'Steven Rodgers', 'Richard Walsh', 'Corey Carter', 'Chad Brown', 'Kathy Martin', 'Ronnie Walker', 'George Hickman', 'Abigail Ward', 'Jose Garza', 'Cheryl Sanchez', 'Rhonda Espinoza', 'Jason Reilly', 'Sarah Wagner', 'Mary Taylor', 'Ronald Castillo', 'Amanda Washington', 'Michael Lee', 'Jonathan Rodriguez', 'Daniel Novak', 'Emma Michael', 'Shane Chen', 'Theresa Burton', 'Kristen Stark', 'Kimberly Hebert', 'Charles Robinson', 'Andrew Rivera', 'Collin Williams', 'Alex Harrison', 'Nichole Gomez', 'Derek Phillips', 'Courtney Novak', 'Jacqueline Cooper', 'Alison Thomas', 'Jordan Schneider', 'Joseph Rodriguez', 'Barbara Davis', 'Amber Smith', 'Alexis Douglas', 'Jordan Lane', 'Linda Ray', 'Alexandria Jenkins', 'John Ramos', 'Scott Yates']\n"
     ]
    }
   ],
   "source": [
    "#23. List the customers who used cash on delivery as their payment mode.\n",
    "\n",
    "# Filter customers who used 'Cash on Delivery' as their payment mode\n",
    "cash_on_delivery_customers = df[df['Payment_Terms'] == 'Cash on Delivery']['Customer'].unique()\n",
    "\n",
    "# Convert to list if needed\n",
    "cash_on_delivery_customers_list = cash_on_delivery_customers.tolist()\n",
    "\n",
    "print(cash_on_delivery_customers_list)"
   ]
  },
  {
   "cell_type": "code",
   "execution_count": 55,
   "id": "6476c08c-bb29-42bb-9535-7f941d1e5d6b",
   "metadata": {},
   "outputs": [
    {
     "name": "stdout",
     "output_type": "stream",
     "text": [
      "[['Cash on Delivery', 3736], ['Net 30', 3578], ['Net 60', 3651], ['Prepaid', 3674]]\n"
     ]
    }
   ],
   "source": [
    "# 24. List the customers using each available payment mode.\n",
    "#Group by 'Payment_Terms' and count the number of unique customers for each payment mode\n",
    "payment_mode_counts = df.groupby('Payment_Terms')['Customer'].nunique()\n",
    "\n",
    "# Convert the result to a list of tuples (Payment_Terms, Count)\n",
    "payment_mode_counts_list = payment_mode_counts.reset_index(name='Count').values.tolist()\n",
    "\n",
    "print(payment_mode_counts_list)"
   ]
  },
  {
   "cell_type": "code",
   "execution_count": 57,
   "id": "90206c1b-2e9e-4a1b-8d81-892f77b6c5a8",
   "metadata": {},
   "outputs": [
    {
     "name": "stdout",
     "output_type": "stream",
     "text": [
      "Supplier with the Most Prepaid Payments (Most Credibility):\n",
      "Supplier         Johnson Group\n",
      "Prepaid Count                6\n",
      "Name: 1490, dtype: object\n",
      "\n",
      "Supplier with the Most Cash on Delivery Payments (Least Credibility):\n",
      "Supplier                  Smith Inc\n",
      "Cash on Delivery Count            8\n",
      "Name: 2900, dtype: object\n",
      "\n",
      "List of Suppliers with Cash on Delivery Payments:\n",
      "                           Supplier  Cash on Delivery Count\n",
      "0           Abbott, Olson and Allen                       1\n",
      "1                       Acevedo LLC                       1\n",
      "2     Acevedo, Gonzales and Gregory                       1\n",
      "3          Acevedo, Ortiz and Adams                       1\n",
      "4         Acosta, Thompson and Pham                       1\n",
      "...                             ...                     ...\n",
      "3513                  Zimmerman LLC                       1\n",
      "3514                  Zimmerman Ltd                       1\n",
      "3515    Zimmerman, Wells and Garcia                       1\n",
      "3516                Zimmerman-Reyes                       1\n",
      "3517    Zuniga, Schwartz and Butler                       1\n",
      "\n",
      "[3518 rows x 2 columns]\n",
      "\n",
      "List of Suppliers with Prepaid Payments:\n",
      "                              Supplier  Prepaid Count\n",
      "0                      Abbott and Sons              1\n",
      "1                      Abbott-Oconnell              1\n",
      "2                         Abbott-Patel              1\n",
      "3                         Acosta Group              1\n",
      "4                           Acosta Ltd              1\n",
      "...                                ...            ...\n",
      "3467                     Young-Hubbard              1\n",
      "3468                      Young-Stokes              1\n",
      "3469      Zamora, Williams and Spencer              1\n",
      "3470  Zimmerman, Anderson and Williams              1\n",
      "3471                        Zuniga Ltd              1\n",
      "\n",
      "[3472 rows x 2 columns]\n"
     ]
    }
   ],
   "source": [
    "# 25. List Suppliers with the most and least credibility.\n",
    "\n",
    "# Filter the DataFrame to include only relevant payment terms\n",
    "cash_on_delivery_df = df[df['Payment_Terms'] == 'Cash on Delivery']\n",
    "prepaid_df = df[df['Payment_Terms'] == 'Prepaid']\n",
    "\n",
    "# Group by 'Supplier' and count occurrences of 'Cash on Delivery' payments\n",
    "cash_on_delivery_counts = cash_on_delivery_df.groupby('Supplier').size()\n",
    "\n",
    "# Group by 'Supplier' and count occurrences of 'Prepaid' payments\n",
    "prepaid_counts = prepaid_df.groupby('Supplier').size()\n",
    "\n",
    "# Convert to DataFrames for better readability\n",
    "cash_on_delivery_counts_df = cash_on_delivery_counts.reset_index(name='Cash on Delivery Count')\n",
    "prepaid_counts_df = prepaid_counts.reset_index(name='Prepaid Count')\n",
    "\n",
    "# Find supplier with the highest count of 'Cash on Delivery' payments (least credibility)\n",
    "least_credible_supplier = cash_on_delivery_counts_df.loc[cash_on_delivery_counts_df['Cash on Delivery Count'].idxmax()]\n",
    "\n",
    "# Find supplier with the highest count of 'Prepaid' payments (most credibility)\n",
    "most_credible_supplier = prepaid_counts_df.loc[prepaid_counts_df['Prepaid Count'].idxmax()]\n",
    "\n",
    "# Display the results\n",
    "print(\"Supplier with the Most Prepaid Payments (Most Credibility):\")\n",
    "print(most_credible_supplier)\n",
    "\n",
    "print(\"\\nSupplier with the Most Cash on Delivery Payments (Least Credibility):\")\n",
    "print(least_credible_supplier)\n",
    "\n",
    "# Optionally, display the full list of suppliers and their payment counts\n",
    "print(\"\\nList of Suppliers with Cash on Delivery Payments:\")\n",
    "print(cash_on_delivery_counts_df)\n",
    "\n",
    "print(\"\\nList of Suppliers with Prepaid Payments:\")\n",
    "print(prepaid_counts_df)"
   ]
  },
  {
   "cell_type": "code",
   "execution_count": 59,
   "id": "c3f7eb43-8cee-4c11-9111-98c8a4208d37",
   "metadata": {},
   "outputs": [
    {
     "name": "stdout",
     "output_type": "stream",
     "text": [
      "Customers who ordered more than 9000 units:\n",
      "['Mary Carlson', 'Jennifer Barnett', 'Michael Ellis', 'Trevor Smith', 'Matthew Hunt', 'Samantha Hardin PhD', 'Jason Martin', 'Julia Ramirez', 'Sean Kerr', 'David Joyce', 'Jean Davenport', 'Angel Fisher', 'William White MD', 'Daniel Russell', 'Kevin Ortiz', 'Jessica Davis', 'Dakota Pennington', 'Jeremy Caldwell', 'George Rose', 'Levi Brown', 'Tom Bowers', 'Roger Faulkner', 'Kimberly Parsons', 'Edward Wilson', 'Diana Smith', 'Jeremy Lucero', 'Carol Ho', 'Felicia Phillips', 'Thomas Collins', 'Jeffrey Reynolds', 'Beth Garcia', 'Felicia Brown', 'Kelly Scott', 'Maria Martin', 'Thomas Payne', 'Jennifer Bennett', 'Elizabeth Chavez', 'Darren Gray', 'Bianca Gregory', 'Michael Escobar', 'Cathy Guerrero', 'Stephen Smith', 'Gregory Goodwin', 'Christopher Smith', 'Paula Moore', 'Christopher Lowery', 'Eric Villanueva', 'Paul Gay', 'Bob House PhD', 'Dominique Mccann', 'Charles Calhoun', 'Laura Simpson', 'Paul Anderson', 'Jeffrey Good', 'Robin Nelson MD', 'Cristina Richardson', 'Vincent Park', 'Nancy Buck', 'Shelley Patrick', 'John Lin', 'Paige Parker', 'Daniel Hutchinson III', 'Jason Mcdonald', 'Nathaniel Hamilton', 'Robert Moore', 'Kyle Reed', 'Aaron Daniels', 'Kyle Lane', 'Sarah Martinez', 'Bryan Thomas', 'Alyssa Andrews', 'Gregory Chen', 'Kenneth Paul', 'Ashley Castro', 'Christian Logan', 'Scott Hart', 'Ashley Patterson', 'John Grant', 'Benjamin Ortiz', 'Sarah Moss', 'Karen Simpson', 'Gina Lucas', 'Alexander Walker', 'Joseph Brown', 'Jordan Wong', 'Rebecca Walker', 'Julia Mitchell', 'Glen Foster', 'Gabriella Craig', 'Kenneth Evans MD', 'Russell Gonzalez', 'Daniel Rowe', 'Hunter Watts', 'Anna Berger', 'Michael Fitzgerald', 'Jennifer Hanson', 'Barbara Charles', 'Christina Huffman', 'Perry Miranda', 'Kevin Ford', 'Michelle Goodwin', 'Andrea Paul', 'Alexis Rollins', 'Veronica Morse DDS', 'Robert Robinson', 'Jodi Martin', 'Kimberly Shaffer', 'Donna Huang', 'Dr. Adrian Green', 'Joseph Thompson', 'Samuel Garcia', 'John Washington', 'Adam Blake', 'Anne Brooks', 'John Stevens', 'Steven Chavez', 'Jennifer Allen', 'Brooke Carey', 'Emma Burgess', 'Pamela White', 'Maria Clark', 'Regina Deleon', 'Julie Nichols', 'Debbie Stevenson', 'Jessica Williams', 'Keith Day', 'Katherine Robinson', 'Jessica Delacruz', 'Christopher Pitts', 'John Thomas', 'Kenneth Young', 'Randy Tucker', 'Samuel Lewis', 'Carrie Kennedy', 'Jennifer Beard', 'Paul Morgan', 'Linda Lara', 'Rachel Leach', 'Karen Sexton', 'Angela Wilson', 'Jasmine Bryant', 'Nicholas Lopez', 'Elizabeth Campbell', 'Michelle Jones', 'Mariah Miller', 'Lisa Griffin', 'Jeremy Ramirez', 'Samuel Johnson', 'Michele Johnson', 'Justin Allen', 'Tanya Maxwell', 'Terri Tanner', 'Jamie Silva', 'Brian Lee', 'Virginia Sherman', 'Brent Franklin', 'Brian Thomas', 'Sherry Garcia', 'Barry Kelly', 'Victoria Wise', 'Elizabeth King', 'Tammie Smith', 'Matthew Wheeler', 'Morgan Baker', 'Andre Fuller', 'Ashley Gonzalez', 'Sandra Myers', 'Jacob Gordon', 'Sarah Larson', 'John Gibbs', 'Pamela Reed', 'Beth Todd', 'Michael Frank', 'Natalie Mills', 'Michael Pennington', 'Wendy Johnson', 'Stacy Shah', 'Alicia Brown', 'Heidi Drake', 'Kelly Mcdonald', 'John Johnson', 'Morgan Savage', 'Amy Williams', 'Tommy Wheeler', 'William Costa', 'Mary Trevino', 'Sarah Decker', 'Linda Crosby', 'Michele Morris', 'Christina Day', 'Jonathan Escobar', 'Kendra Pierce', 'Gloria Miller', 'Nicole Galvan', 'Michael Parker', 'Brianna Simpson', 'Andrew Robinson', 'Lucas Mcintyre', 'April Williams', 'James Martinez', 'Erica Turner', 'Vanessa Robinson', 'Maureen Holt', 'Brian Perez', 'Christopher Nielsen', 'Timothy Nixon', 'Jennifer Luna', 'Shannon Key', 'Robert Payne', 'Tammy Patton', 'Lori Mcintosh', 'Stephanie Smith', 'Kevin Collins', 'Wendy Webb', 'Michael Kelly', 'Natalie Mcclure', 'Rhonda Fernandez', 'Brandon Dixon MD', 'Michael Erickson', 'Thomas Rodriguez', 'Zachary Boyd', 'Carlos Brady', 'Deborah Johnston', 'Jason Murphy', 'Jesse Ross', 'Melissa Ramirez', 'Samantha Lynch', 'Daniel Thomas', 'Christina Smith', 'Miss Katie Harding MD', 'Robert Williams', 'Cindy Edwards', 'Stephanie Koch', 'Michael Mason', 'Melissa Mckay', 'Matthew Craig', 'Melvin Roberts', 'Pam Oliver', 'Anthony Evans', 'Christopher Ward', 'Daniel Adams', 'David Warren', 'Lori Davis MD', 'Michelle Archer', 'Diana Logan', 'Michael Norris', 'Mark Garcia', 'Kaitlin Williams', 'Scott Jackson', 'Sherri Stuart', 'Matthew Murillo', 'Michael Hernandez', 'Sarah Robinson', 'Adrian Romero', 'David Morrison', 'Barbara Vaughan DVM', 'Angela Dennis', 'Dr. Sheila Villarreal', 'Danielle Ramirez', 'Ronald Brown', 'Rachel Ferguson', 'Sandy Parker', 'Stacy Kemp', 'Wanda Harper', 'Emily Knight', 'Melissa Dickerson', 'Stephen Adams', 'Brandy Lowe', 'Cheryl Cole', 'Tammy Hernandez', 'Tracy Greer', 'Frank Stone', 'Gregory Perez', 'Carrie Brooks', 'Diane Dawson', 'John Arnold', 'Lisa Garza', 'Raymond Murray', 'Sean Griffin', 'Danielle Mccarty', 'Nicole Gibson', 'Troy Williams', 'Denise Sanders', 'Ashley Walters', 'Crystal Ortiz', 'Rhonda Gonzales DDS', 'Sarah Frye', 'Stephanie Blankenship', 'Mr. Aaron Giles', 'Douglas Garcia', 'Mary Olson', 'Michael Kelley', 'Jacob Jones', 'Joseph Palmer', 'Tammy Rose', 'Zachary Smith', 'Dawn Perry', 'Jessica Anderson', 'Sarah Brown', 'Douglas Warren', 'Stacey Curry', 'Nicholas Smith', 'Derrick Moore', 'Debra Aguilar', 'Karen Rodriguez', 'Jamie Hayes', 'Blake Stewart', 'Jeremy Robinson', 'Wayne Robinson MD', 'Amy Thornton', 'Christopher Myers', 'Keith Harris', 'William Mcdonald', 'Ariel Moore', 'Christine Suarez', 'Elizabeth Gill', 'Lisa Turner', 'Mary Morales', 'Kenneth Harris', 'Shannon Martinez', 'Wendy Price', 'Michael Garrison', 'Briana Hamilton', 'Joshua Cook', 'Stacey Nichols', 'Beverly Anderson', 'Susan Wolf', 'Monica Coffey', 'Micheal Mann', 'Gregory Hanson', 'Patrick Gutierrez', 'Andres Avila', 'Shannon Juarez', 'Joseph Martinez', 'Roberto Reese', 'Daniel Goodman', 'James Diaz', 'Danny Kemp', 'Daniel Christian', 'Ashley Yoder', 'Justin Cook', 'Mary Kelly', 'Thomas Wolf', 'Donna Robles', 'Christina Jordan', 'Kathleen Johnson', 'Ryan Ortega', 'Kelly Holmes', 'Dr. Walter Harris', 'Mark Stanton', 'William Marquez', 'Sarah Chandler', 'Jane Spencer', 'Tiffany Hayden', 'Amy Nelson', 'Meagan Andersen', 'Lynn Montgomery', 'Michael Anderson', 'Brett Klein', 'Amy Ross', 'Laura Powers', 'Willie Mcintosh', 'Jennifer Horton', 'Dawn Bryant', 'Nicole Gordon', 'Savannah Taylor', 'Gabriel Rodriguez', 'Sean Acosta', 'Lisa Parker', 'Philip Case', 'Michael Evans', 'Jordan Meyers', 'Jeffrey Contreras', 'Morgan Hernandez', 'Phillip Rivera', 'Morgan Thompson', 'Marisa Frazier', 'Emily Scott', 'Sylvia Ramirez', 'Leslie Mccarthy', 'Stephen Fletcher', 'Timothy Henry', 'Thomas Saunders', 'Erica Galvan', 'Christopher Simpson', 'Crystal Vaughn', 'William Patel', 'Terrence Johnston', 'Annette Graham', 'Omar Oconnor', 'Sharon Scott', 'Bryan Floyd', 'Joseph Carter', 'Tiffany Cook', 'Margaret Grant', 'Craig Rodriguez', 'Nicole Todd', 'Laura Rodriguez', 'Brian Sutton', 'Mr. Christopher Reed DDS', 'Rachael Warner', 'Carlos Hughes', 'Mary White', 'Judith Hays', 'Melinda Cunningham', 'Michele Bennett', 'Michael Brown', 'Shelia Krueger', 'Christopher Miller', 'Tony Gray', 'Daniel Tate', 'Jesse Mcpherson', 'Michael Douglas', 'Maria Kelly', 'Crystal Johnson', 'Seth Smith', 'Mrs. Nicole Mclean', 'Terry Morales', 'Erin Green', 'Jason Wagner', 'Thomas Myers', 'Kimberly King', 'Jennifer Miller', 'Lori Austin', 'Alicia Porter', 'Lisa Miller', 'April Romero', 'Erin Davis', 'Jeremiah Lewis', 'Rebecca Robinson', 'Joel Allen', 'Angela Nicholson', 'Matthew Wilson', 'David Madden', 'Amy Jones', 'Carol Howard', 'Sarah Porter', 'Rick Gray', 'Michelle Gonzalez', 'Kurt King', 'Sara Kelly', 'Larry Wilkinson', 'Cynthia Powers', 'Matthew Shields', 'Nicole Myers', 'Lori Moody', 'Walter Lawrence', 'Mark Cunningham', 'Austin Wright', 'Jacob Ingram', 'Jason Jones', 'Angela Mccoy', 'William Delgado', 'Leroy Mitchell', 'Norma Valdez', 'Benjamin Brown', 'Sharon Campbell', 'Emily Davis', 'John Weber', 'Billy Williams', 'Peter Rodriguez', 'Melissa Wright', 'Breanna White', 'Jonathan Vance', 'Evan Hernandez', 'Mark Lamb', 'Nathan Williams', 'Jessica Vasquez', 'Eric Smith', 'Harry Gutierrez', 'Jeffrey Thompson', 'Richard Mejia', 'Krystal Acosta', 'Sarah Harris', 'Gregory Wall', 'Thomas Ferguson', 'Jeffrey Robinson', 'Randall Adams', 'Susan Clark', 'Ronald Gates', 'Debra Garrett', 'Daniel Velasquez', 'Zachary Moore', 'Dylan Odonnell', 'Mark Rosales', 'Ashley Harper', 'Susan Davidson', 'Jonathan Brown', 'Tara Smith', 'Dr. Jennifer Rodriguez', 'William Phillips', 'Jenny Mullins', 'Annette Young', 'Willie Warner', 'Adrian Bradley', 'Kelsey Jackson', 'Taylor Hampton', 'Joseph Williams', 'Nichole Patel', 'Ryan Potter', 'George Salazar', 'Rebecca Baker', 'Thomas Walker', 'Kyle Lewis', 'Charles Mcdaniel', 'Robert Sharp', 'Jennifer Rosario', 'Robert Booker', 'Seth Mcintosh', 'Brandon Ramsey', 'Joseph Johnson', 'Frank Kent', 'Stephanie Gates', 'Crystal Munoz', 'Mrs. Patricia Robinson MD', 'Michele Paul', 'Kevin Gordon', 'Shannon Wilcox', 'Donald Roberson', 'Daniel Mcfarland', 'Lisa Gomez', 'Todd Fox', 'David West', 'James Perez', 'Jasmine Jones', 'Brandon Mitchell', 'Kelly Montoya', 'Kristin Powell', 'Stephanie Sellers', 'Mark Castillo', 'Jane Davis', 'Henry Jennings', 'Deborah Garcia', 'Melissa Salazar', 'Kenneth Osborne', 'Rebecca Hester', 'Christina Hayden', 'Linda Stevens', 'Taylor Mckee', 'Melissa Tran', 'Kim Smith', 'Mary Ball', 'Kimberly Dyer', 'Melanie Johnson', 'Joy Wright', 'Eduardo Bishop', 'Joseph Evans', 'Benjamin Johnson', 'Michael Pierce', 'Lindsey Vasquez', 'Charles Huynh', 'Nicole Hunter', 'Cristina Bullock', 'Jennifer Cordova', 'Whitney Williams', 'Brian Anderson', 'Debra Gilmore', 'Tyler Dunn', 'Christine Cobb', 'Jessica Medina', 'Jack Parks', 'Ashley Black', 'Alicia Mccoy', 'Kelsey Garcia', 'Abigail Harris', 'David Morales', 'Nicholas Stanton', 'Tonya Morris', 'Daniel Gray', 'Kathryn Mitchell', 'Mark Lee', 'Carol Reed', 'Jeremiah Gray', 'Christopher Lane', 'Juan Lester', 'Kara Silva', 'Jake Gutierrez', 'Jeremy Carter', 'Shawn Lopez', 'Michael Bates', 'Brenda Oconnor', 'Patrick Miller', 'Jaime Parker', 'Gregory Donovan', 'Robert Sanchez', 'William Hodge', 'Jennifer Dominguez', 'Jeffrey Pace', 'Andrea Steele', 'Randall Larson', 'Tammy Garcia', 'Christopher Griffin', 'Thomas Clark', 'Patricia Schroeder', 'Teresa King', 'Ian Roach', 'Steven Martin', 'Antonio Rogers', 'Mary Rubio', 'Jonathan Maxwell', 'Michael Baxter', 'Lisa Church', 'Sean Diaz', 'Aaron Miller', 'Megan Sanchez', 'Mrs. Cynthia Johnson', 'Timothy Berry', 'Matthew Flores', 'Steve Morris', 'Diane Martinez', 'Jean Greene', 'Tamara Hart', 'Rachel Jones', 'Mary Griffin', 'Darren Bradley', 'Eric Campbell', 'Donald Collins', 'Jason Hood', 'Kelly Hull', 'Curtis Romero', 'Robert Powell', 'Claudia Coleman', 'Alexander Hickman', 'Chad Barrera', 'Michael Walls', 'Crystal Bowers', 'Thomas Nichols', 'Colleen Alvarez DDS', 'Samuel Miles', 'Kelly Williams', 'Taylor Martinez', 'James Ray', 'Jonathan Arnold', 'Tamara Blanchard', 'Steven Cherry', 'Robert Henderson', 'Sara Underwood', 'Kenneth Myers', 'Cameron Jacobs', 'Trevor Gomez', 'John Reese', 'Melissa Perry', 'Angela Rivera MD', 'Gavin Nelson', 'Heather Chavez', 'Chad Barnes', 'Patrick Hunt', 'Hannah Hudson', 'Alyssa Walker', 'Derrick Jones', 'Jimmy Travis', 'Valerie Gomez', 'Erik Ortiz', 'Casey Taylor', 'Douglas Smith', 'Mary Collier', 'Michelle Hudson', 'Trevor Williams', 'Jasmine Hanna', 'Lisa Mack', 'Carolyn Daniels', 'Malik White', 'David Lin', 'Emily Bell', 'Darrell Anderson', 'Christopher Alexander', 'Robert Cox', 'Monica Dougherty', 'Kevin Jenkins', 'Kim Patterson', 'Cindy Reyes', 'Heather Guzman', 'Jessica Dudley', 'Shane Rose', 'Brittany Nielsen', 'Robert Nelson', 'Joseph Vega', 'Jeffrey Morgan', 'Jamie Hughes', 'Hannah Erickson', 'David Scott', 'Ashley Patel', 'Scott Brock', 'Justin Beltran', 'Mr. Stephen Anthony', 'Kaitlyn Thomas', 'Michelle Cisneros', 'Jennifer Spencer', 'Joshua Roach', 'Gina Church', 'Maria Rogers', 'Daniel Thompson', 'Lisa Mcpherson', 'Heather Adams', 'Jared Hansen', 'Lisa Palmer', 'Sarah Mahoney', 'Gregory Roth', 'Adam Lee', 'Kristen Baxter', 'Kathy Spencer', 'Michelle Hall', 'Steven Weeks', 'Kristen Barber', 'Clayton Dunlap', 'Rachel Weiss', 'April Lynch', 'Theresa Fleming', 'Sharon Randolph', 'Alexandria Lawrence', 'Lynn Ewing', 'Jimmy Willis', 'Steven Rivas', 'Gilbert Becker', 'Monica Diaz', 'Tamara Willis', 'Chris Moore', 'Ms. Valerie Carter', 'Bryan Wilson', 'Jamie Hancock', 'Lance Spencer', 'Robert Fisher', 'Latoya Briggs', 'Joel Berry', 'Natasha Reed', 'Julie Donovan', 'David Ruiz', 'Kimberly Cervantes', 'Calvin Sawyer', 'Joe Johnson', 'Sean Lee', 'Jordan Hart', 'Lawrence Esparza', 'Sean Gonzales', 'Benjamin Alvarez', 'Christopher Perry', 'Kevin Mack', 'James Mcdonald', 'April Bauer', 'Anthony Griffin', 'Jill Andrews', 'John Dean', 'Christine Smith', 'Nicholas Murphy', 'Michael Phillips', 'Carrie Williams', 'George Jackson', 'Kyle Stephens', 'Hayden Schmidt', 'Joshua Olsen', 'Sherri Carney', 'Robert Clark', 'Theresa Chase', 'Ashley Bruce', 'Erica Patterson', 'Colleen Adams', 'Martha Martinez', 'Paige Rivera', 'Alexandria Casey', 'Melissa Sandoval', 'Cynthia James', 'Jill Leon', 'Timothy Campbell', 'Juan Johnson', 'Cathy May', 'Crystal Gonzalez', 'Jeffrey Allen', 'Kathleen Li', 'Timothy Gibbs', 'Phyllis Boyd', 'Elizabeth Lawrence', 'Amber Dixon', 'Jose Johnson', 'Steven Moses', 'Charles Harris', 'Robert Wise', 'Samantha Lang', 'Nathan Cook', 'William Price', 'Daniel Quinn', 'Tiffany King', 'Kristen Henderson', 'Sean Mcgee', 'Shawn Hayes', 'Larry Anderson', 'Brittany Taylor', 'Amy Clark', 'Joseph Wilson', 'Joel Contreras', 'Mr. Ryan Hernandez', 'Taylor Sampson', 'Jonathan Lee', 'James Murphy', 'Angela Thomas', 'Steven Clark', 'Andrea Campos', 'Jacob Russell', 'Shawn Taylor', 'Brittney Huff', 'Kathleen Estrada', 'Brenda Martinez', 'Anthony Lopez', 'Karla Sanders MD', 'David Torres', 'Jessica Hays', 'Louis Stewart', 'James Harrison', 'Kristi Rodriguez', 'Donna Williams', 'Sandra Sanchez', 'Cynthia Brown', 'Kimberly Edwards', 'Mrs. Linda Tran', 'Morgan Dean', 'Kathy Robinson', 'Tyler Jones', 'Rebecca Khan', 'Stephanie Jackson', 'Stephanie Oconnor', 'Jessica Sanders', 'Angela Stone', 'Kimberly Brown', 'Thomas Hall', 'Dawn Huff', 'Kari Burns', 'Bradley Simpson', 'Kelly Johnson', 'Anthony Brown', 'Veronica Daniels', 'Keith Suarez', 'Karen Johnson', 'Catherine Bass', 'Brittney Mitchell', 'Nicholas Jones', 'Jackson Wilkins', 'Rachel Nicholson', 'Renee Galvan', 'Jason Wilkerson', 'Samantha Raymond', 'Daniel Lopez', 'Melissa Perez', 'Tracy Morgan', 'Jonathan Johnson', 'Dana Mooney', 'Curtis Miller', 'Michael Johnson', 'Chris Walker', 'Christopher Trujillo', 'Robert Edwards', 'Clifford Nguyen', 'Frederick Henry', 'Ryan Shelton', 'Lisa Chavez', 'John Hunter', 'Anita Russo', 'Ann Miller', 'Laura Patterson', 'John Martin', 'Kevin Chandler', 'Christopher Roberts', 'Amber Caldwell', 'Barry Conner', 'Nathan Fowler', 'Jose Boone', 'Jason Holt', 'David Johnson', 'Kevin Sullivan', 'Richard Best', 'Craig Moore', 'Erin Thompson', 'Heidi Horton', 'Samuel Powell', 'Elizabeth Rice', 'Daniel Davies', 'Michelle Hobbs', 'Brenda Anderson', 'Thomas Duke', 'Lori Ford', 'Janet Bryan', 'Brandon Morris', 'Michael Rogers', 'Scott Price', 'Karen Ross', 'Linda Lee', 'Anthony Neal', 'Jose Jefferson', 'Amy Bailey', 'Joshua Nguyen', 'John Williams', 'Scott Gutierrez', 'Jeanette Peters', 'Jonathan Peterson', 'Brandon Orr', 'Maria Estrada', 'Earl Wilkerson', 'Victoria Schmitt', 'Bethany Martin', 'Carolyn Stephens', 'Michele Russell', 'Darlene Wilkinson', 'Jeffery Berry', 'Joshua Williams MD', 'Ashley Harris', 'Bailey Graves', 'Vanessa Patterson', 'Brandon Phillips', 'Eric Elliott', 'Jose Garrett', 'Janice Lee', 'Jennifer Ward', 'Gregory Patel', 'Mark Jackson', 'Karen Goodman', 'Charles Burke', 'Brandon Cook', 'Amanda Johnson', 'Alice Clark', 'Mary West', 'Jerome Garcia', 'Jonathon Harmon', 'Donald King', 'Diana Rios', 'Richard Petty', 'Joshua George', 'Alexis Warren', 'Bill Terrell', 'Kathryn Mccormick', 'Eugene Duke', 'Adam Rivers', 'Elizabeth Moreno', 'Tammy Reyes', 'Alison Yoder', 'Mark Banks', 'Paul Gomez', 'Sydney Stewart', 'Jennifer Martin', 'Tracey Ortiz', 'Jay Phillips', 'Robert Baker', 'Matthew Elliott', 'Ashley Cooper', 'Mitchell Stuart', 'Jason Martinez', 'Steven Blevins', 'Timothy Johnson', 'Michael Frazier', 'Curtis Cunningham', 'Chad Gray', 'Joanna Smith', 'Robert Watson', 'Andrew Glass', 'Tony Gilbert', 'Patricia Medina', 'James Ward', 'Lisa Thompson', 'Sharon Brown', 'Jason Petty', 'Thomas Perez', 'Carolyn Burke', 'Debra Jefferson', 'Toni Bowers', 'Derek Rodriguez', 'Alexander Juarez', 'Whitney Thompson', 'Kelsey Wilson', 'Taylor Perez MD', 'Ariel Barron', 'Eduardo Serrano', 'Jessica Gill', 'Destiny Patel', 'Patricia Jones', 'Grace Koch', 'Ryan Boyd', 'Kathy Scott', 'Brandon Miller', 'Kenneth French', 'Christian Frye', 'Rebecca Hunter', 'Christopher Sawyer', 'Courtney Valentine', 'Jason Macdonald', 'Jason Frye', 'Kevin James', 'Blake Barnes', 'Edward Lyons', 'Stephen Nelson', 'Kevin Woodard', 'Jackson Stanley', 'Ashley Johnson', 'Lisa Patton', 'Emma Arnold', 'Hannah Black', 'Matthew Villegas', 'Michael Booker', 'Kari Gallagher', 'Sharon Boyd', 'Wendy White', 'Julie Morales', 'Benjamin Hayden', 'Harry Mack', 'Amanda Simmons', 'Tommy Thompson', 'Edward Miles', 'David Cannon', 'Christy Bonilla', 'James Smith', 'Timothy Moore', 'Michael Drake', 'David Williams', 'Kevin Anderson', 'James Booth', 'Theresa Hamilton', 'Michael Ross', 'Rose White', 'Jacob Fox', 'Renee Torres', 'Karen Smith', 'Jennifer Hudson', 'Raymond Wagner', 'Nancy Leonard', 'Lacey Ford', 'Stephanie Washington', 'William Thompson', 'Robin Clark', 'Gloria Mack', 'Vanessa Davies', 'Stacy Khan', 'Alyssa Cochran', 'Matthew Hughes', 'Crystal Torres', 'Donald Miranda', 'Stephen Hunter', 'Diane Dougherty', 'Jennifer Smith', 'Amy Martinez', 'Elizabeth Parrish', 'Christopher Willis', 'Rebecca Turner', 'Robert Padilla', 'Samantha Gregory', 'Sandra Davis', 'Andrew King', 'Tara Martinez', 'Chelsea Day', 'Fernando Nichols', 'Chelsea Young', 'Robert Miller', 'Amber Wiley', 'Joshua Huff', 'Michael Blanchard', 'Alexander Hawkins', 'Jennifer Murphy', 'Joanna Woods', 'Robert May', 'Sarah Gonzalez', 'Heather Lindsey', 'Randy Gardner', 'Catherine Sanders', 'Kathy Woodard', 'Terry Joseph', 'Amber Rice', 'Mrs. Mikayla Maddox', 'Ryan Howard', 'David Cowan', 'Shannon Grimes', 'David Hughes', 'Tiffany Malone', 'Mary Nielsen', 'John Henderson', 'Jerry Bentley', 'Billy Peterson', 'Amanda Lyons', 'Rhonda Stone', 'Lindsay Hickman', 'Maria Hood', 'Dr. Mike Mitchell', 'Michael Gonzalez', 'Alexa Morrow MD', 'Samantha Collier', 'Mr. Richard Hinton MD', 'Heather Hunt', 'Brandon Jenkins', 'Melissa Bentley', 'Robert Brown', 'Susan Hill', 'Lisa Burke', 'Andrew Wang', 'Connie Henderson', 'Joseph Bass', 'Jennifer Cruz', 'Jennifer Richardson', 'Thomas Anderson', 'Daniel Tran', 'Mark Ramos', 'Susan Matthews', 'Jesse Fletcher', 'Noah Woods', 'Russell Odonnell', 'Katrina Rivers', 'Benjamin Solomon', 'Tiffany White', 'Angela Williams', 'Mark Ritter', 'James Jordan', 'Justin Jackson', 'Carrie Harris', 'Veronica Bernard', 'Matthew Herman', 'Janet Morgan', 'Emily Peck', 'Eric Simmons', 'Alexander Davis', 'Curtis Burnett', 'Danielle Jacobs', 'Peter Morales', 'Daniel Scott', 'Cheryl Allen', 'Amanda Griffin', 'Meghan Marks', 'James Bowman', 'Nicole Johnson', 'Jeffrey Sellers', 'Abigail Greer', 'Jonathan Zamora', 'Amanda Martinez', 'Tony Ellison', 'Austin Acosta', 'Richard Wilkinson', 'Donald Contreras', 'Jacqueline Lewis', 'Sharon Brown MD', 'Brian Rice', 'Mrs. Laura Scott MD', 'Lisa Hunter', 'Maurice Haas', 'Mr. Justin Garcia', 'Debra Obrien', 'Daniel Martin', 'Kim Byrd', 'Tyler Butler', 'Amanda Garrison', 'Thomas Arroyo', 'Michelle Holder', 'Robert Mcmillan', 'Maria Miller', 'David Howard', 'Linda Oliver', 'Robert Velazquez', 'Kayla Evans', 'Joshua Martinez', 'Andrew Webb', 'Patrick Bryant', 'Craig Maynard', 'Dawn Robinson', 'Antonio Brown', 'Christina Johnson', 'Lindsay Jennings', 'Micheal Mcdonald', 'Mr. David Smith', 'James Anderson', 'John Salazar', 'Frank Patterson', 'Samuel Fields', 'Charles Adams', 'Nathaniel Parker', 'Cameron Lynch', 'Brent Newman', 'Christopher Cunningham', 'Courtney Hernandez', 'Elijah Houston', 'Gregory White', 'Megan Turner', 'Matthew Griffin', 'Amanda Smith', 'Lindsey Anderson', 'Valerie Jones', 'Allison Foley', 'Paul Fox', 'Angela Johnson', 'Logan Fletcher', 'William Cline', 'Jeffrey Lee', 'Danny Johnson', 'Jonathan Baker', 'Traci Barrett', 'Daniel Carter', 'Justin Watkins', 'Julie Curry', 'Gregory Harris', 'Ronald Hicks', 'Sandra Gonzalez', 'Thomas Martinez', 'David Chan', 'Kenneth Woods PhD', 'Jeremy King', 'Jonathan Reyes', 'Kelsey Riddle', 'Brandon Mullins', 'William Bruce', 'Amy Lewis', 'James Sanchez', 'Jeremy Cole', 'Anthony Marshall', 'John Cooke', 'Alexandra Fuller', 'Jerry Bennett', 'Carla Howard', 'Melissa Mills', 'Carolyn Briggs', 'Charles Wilson', 'Matthew Schmidt', 'Rebecca Conrad', 'Katrina Daniel', 'Paul Davis', 'Laura Reyes', 'Keith Jones', 'Elizabeth Moore', 'Elizabeth Warner', 'Courtney Hayes', 'Brittany Scott', 'David Burns', 'Scott Cohen', 'Nancy Holland', 'Cheryl Guzman', 'Cassandra Anderson', 'Ricky Vaughn', 'Ryan Davidson', 'Noah Howell', 'Miss Alicia Williamson', 'Brandy Price', 'Joshua Williams', 'Julie Callahan', 'Christina Trujillo', 'Kathleen Ross', 'Kim Nielsen', 'Susan Andrade', 'Christine Wilson', 'Jill Snyder', 'Rhonda Williams', 'Joshua Wise', 'Pamela Bradley', 'Samantha Mccormick', 'Melanie Jones', 'Megan Barton', 'Charles Chan', 'Dalton Baird', 'Gregory Gibbs', 'Alfred Vega', 'Kevin Richards', 'Virginia Kim', 'Edward Robinson', 'Tammy Martinez DVM', 'Vanessa Brown', 'Kelli Garcia', 'James Bennett', 'Dr. Jennifer Gilbert', 'Lisa Heath', 'William Soto', 'Matthew Campbell', 'Margaret Foster', 'Julie Taylor', 'Rebekah Long', 'Jose Ramirez', 'Nicholas Watts', 'Douglas Moore', 'James Joseph', 'Julie Hayes', 'Daniel Miller', 'John Hogan', 'Annette Macias', 'Matthew Jones', 'Ryan Robinson', 'Joseph Gutierrez', 'Jessica Butler', 'Michael Crane', 'James Wilson', 'Beverly Hoffman', 'Sandra Wright', 'Robert Taylor', 'Andrew Mays DDS', 'Jonathan Joyce', 'Tammy Smith DDS', 'Kevin Sanchez', 'William Odom', 'Robin Davis', 'Virginia Payne', 'Erin Juarez', 'Samantha Bailey', 'Kathleen Martin', 'James Reynolds', 'Donna Sutton', 'Justin Gray', 'Jared Watts', 'Brian Boyd', 'Sean Gonzalez', 'John Bailey', 'Robin Donovan', 'Alex Adams', 'Jeffrey Richards', 'Ashley Good', 'Jennifer Edwards', 'Aaron Butler', 'Ashley Pittman', 'Deanna Keller', 'Brian Carroll', 'William Roberts', 'Christopher Shaffer', 'Christopher Bush', 'Sean Hernandez', 'Rebecca Graves', 'Susan Lindsey', 'James Gonzalez', 'Brenda Thompson', 'Tara Davis', 'James Quinn', 'Mary Chapman', 'Chelsea Weiss', 'Matthew Michael', 'Angela Arellano', 'Savannah Jones', 'Tina Mcbride', 'Carlos Osborn', 'Lindsay Jensen', 'Mark Dunn', 'Sabrina Valdez', 'Timothy Jenkins', 'Candace Smith', 'Amanda Evans', 'Brian Manning', 'David Jenkins', 'Ronald Miller', 'Laura Day', 'Renee Odom', 'David Love', 'Drew Jensen', 'Sylvia Wilson', 'Daniel Ramos', 'Rachel Wright', 'Ryan Madden', 'Laura Thomas', 'Lisa Gibbs', 'Eric Wiley', 'Aaron Lee', 'Shaun Perry DDS', 'Joshua Le', 'Jose Davidson MD', 'Shawn Richards', 'Jennifer Williams', 'Antonio Nguyen', 'Mary Mclean', 'Michael Daniels', 'Shaun Thomas', 'Michael Sparks', 'Frank Garza', 'Aaron Wagner', 'Rebecca Mercado', 'Frank Pearson', 'Steven Robertson', 'Paul Gibbs', 'Denise Adams', 'Kathleen Hood', 'Brenda Payne', 'Samantha Evans', 'Latoya Miller', 'Peter Fletcher', 'Jared Cooper', 'Bernard Gardner', 'Suzanne Saunders', 'Jo Murphy', 'Wendy Ward', 'Robert Martinez', 'Rebecca Villa', 'Jessica Hale', 'Sean Green', 'Melanie Woodard', 'Phillip Franklin', 'Jose Jones', 'Jennifer Rios', 'Lori Anderson', 'Susan Diaz', 'Tanya Bridges', 'Stephanie Murray', 'Chris Maldonado', 'Melissa Clarke', 'Megan Owens', 'Rebecca Lopez', 'Vincent Hamilton', 'Mark King', 'Evan Lewis', 'Anthony Spencer', 'Ronnie Olson', 'Melissa Randolph', 'Wesley Jenkins', 'Robert Shea', 'Adrian Richardson', 'John Rowland', 'Alice Rodriguez', 'Shawn Olson', 'Scott Payne', 'Marc Robbins', 'Martin Barton', 'Emily Jones', 'Andrew Gregory', 'Mary Bailey', 'Matthew Gray', 'Christine Nguyen', 'Cody Lewis', 'Meghan Horton', 'Courtney Mayer', 'Jerry Martin', 'Autumn Dean', 'Clifford Dougherty', 'Robert Bruce', 'Peter Coleman', 'Sarah Reed', 'Alyssa Hensley', 'Lawrence Strong', 'Sarah Rivas', 'Ian Brown', 'Christopher Romero', 'Lisa Delacruz', 'Michael Davis', 'Mr. Jose Medina', 'Heidi Kirk', 'Dwayne Guerrero', 'Aaron Tate', 'David Avila', 'Robert Oconnell', 'Jonathan Ferrell', 'Barbara Chen', 'Sandra Duncan', 'Sandra Kidd', 'Angie Ramirez', 'Chad Patel', 'Mr. Scott Huber PhD', 'Richard Ross', 'Brandi Schultz', 'Paul Quinn', 'Mr. Raymond Fisher Jr.', 'Zachary Rodriguez', 'Peter Brown', 'Teresa Clay', 'Frederick Kennedy', 'Sonia Robinson MD', 'Jamie Anderson', 'Wayne Payne', 'Paul Wilkinson', 'Laura Burton', 'Maria Dunn', 'Jessica Hernandez', 'Alexandra Blackwell', 'Lisa Lowery', 'Mr. Eric Mcdowell', 'James Cordova', 'Brian Mcgee', 'Rebecca Howell', 'Dana Davis', 'Joseph Castro', 'Gary Johnson', 'Allen Whitehead', 'Christopher Hall', 'Douglas Hill', 'Robert Parsons', 'Alex Harrison', 'Brittany Perez', 'Gina Russell']\n"
     ]
    }
   ],
   "source": [
    "#26. List customers that ordered a quantity more than 9000.\n",
    "# Filter the DataFrame to include only rows where Quantity is greater than 9000\n",
    "high_quantity_df = df[df['Quantity'] > 9000]\n",
    "\n",
    "# Get unique customers who ordered more than 9000\n",
    "high_quantity_customers = high_quantity_df['Customer'].unique()\n",
    "\n",
    "# Convert to list if needed\n",
    "high_quantity_customers_list = high_quantity_customers.tolist()\n",
    "\n",
    "print(\"Customers who ordered more than 9000 units:\")\n",
    "print(high_quantity_customers_list)"
   ]
  },
  {
   "cell_type": "code",
   "execution_count": 61,
   "id": "1b467b10-a607-4781-97c5-5d717e3e29ca",
   "metadata": {},
   "outputs": [
    {
     "name": "stdout",
     "output_type": "stream",
     "text": [
      "                Metric     Value\n",
      "0     Maximum Quantity  10000.00\n",
      "1     Minimum Quantity      1.00\n",
      "2  Maximum Order Value   9999.13\n",
      "3  Minimum Order Value    102.12\n",
      "4       Maximum Weight   4999.93\n",
      "5       Minimum Weight      0.57\n"
     ]
    }
   ],
   "source": [
    "# 27. Find \n",
    "# (a) the maximum and minimum order quantity. \n",
    "# (b) the maximum and minimum order value.\n",
    "# (c) maximum and minimum weight \n",
    "\n",
    "# Find the maximum and minimum values for each column\n",
    "max_quantity = df['Quantity'].max()\n",
    "min_quantity = df['Quantity'].min()\n",
    "\n",
    "max_order_value = df['Value'].max()\n",
    "min_order_value = df['Value'].min()\n",
    "\n",
    "max_weight = df['Weight'].max()\n",
    "min_weight = df['Weight'].min()\n",
    "\n",
    "# Create a DataFrame to display the results\n",
    "results = pd.DataFrame({\n",
    "    'Metric': ['Maximum Quantity', 'Minimum Quantity', 'Maximum Order Value', 'Minimum Order Value', 'Maximum Weight', 'Minimum Weight'],\n",
    "    'Value': [max_quantity, min_quantity, max_order_value, min_order_value, max_weight, min_weight]\n",
    "})\n",
    "\n",
    "print(results)"
   ]
  },
  {
   "cell_type": "code",
   "execution_count": 63,
   "id": "767804a9-91fe-4cb1-a47e-b1a0e6c257bb",
   "metadata": {},
   "outputs": [
    {
     "name": "stdout",
     "output_type": "stream",
     "text": [
      "Countries bifurcated by 'Import_Export' and 'Shipping_Method':\n",
      "  Import_Export Shipping_Method  \\\n",
      "0        Export             Air   \n",
      "1        Export            Land   \n",
      "2        Export             Sea   \n",
      "3        Import             Air   \n",
      "4        Import            Land   \n",
      "5        Import             Sea   \n",
      "\n",
      "                                             Country  Country_Count  \n",
      "0  [Colombia, Chile, Christmas Island, Finland, B...            242  \n",
      "1  [Falkland Islands (Malvinas), Cameroon, Maurit...            243  \n",
      "2  [New Zealand, Greece, Grenada, Bahamas, Poland...            243  \n",
      "3  [Turkey, Honduras, Somalia, Uruguay, Malawi, A...            243  \n",
      "4  [Nicaragua, United Kingdom, Estonia, Azerbaija...            243  \n",
      "5  [Italy, South Africa, Montserrat, Gabon, Indon...            243  \n"
     ]
    }
   ],
   "source": [
    "#28. Bifurcate countries based on 'Import_Export' and 'Shipping_Method'\n",
    "bifurcated_countries = df.groupby(['Import_Export', 'Shipping_Method'])['Country'].unique().reset_index()\n",
    "\n",
    "# To display each combination's list of countries and their counts\n",
    "bifurcated_countries['Country_Count'] = bifurcated_countries['Country'].apply(len)\n",
    "\n",
    "# Print the results\n",
    "print(\"Countries bifurcated by 'Import_Export' and 'Shipping_Method':\")\n",
    "print(bifurcated_countries)"
   ]
  },
  {
   "cell_type": "code",
   "execution_count": 65,
   "id": "d0a88b73-bf8a-4b9e-84fa-828ea1f1f25a",
   "metadata": {},
   "outputs": [
    {
     "name": "stdout",
     "output_type": "stream",
     "text": [
      "Count of unique countries bifurcated by 'Import_Export' and 'Shipping_Method':\n",
      "  Import_Export Shipping_Method  Unique_Country_Count\n",
      "0        Export             Air                   242\n",
      "1        Export            Land                   243\n",
      "2        Export             Sea                   243\n",
      "3        Import             Air                   243\n",
      "4        Import            Land                   243\n",
      "5        Import             Sea                   243\n"
     ]
    }
   ],
   "source": [
    "# Bifurcate countries based on 'Import_Export' and 'Shipping_Method'\n",
    "bifurcated_counts = df.groupby(['Import_Export', 'Shipping_Method'])['Country'].nunique().reset_index()\n",
    "\n",
    "# Rename columns for clarity\n",
    "bifurcated_counts.columns = ['Import_Export', 'Shipping_Method', 'Unique_Country_Count']\n",
    "\n",
    "# Print the results\n",
    "print(\"Count of unique countries bifurcated by 'Import_Export' and 'Shipping_Method':\")\n",
    "print(bifurcated_counts)"
   ]
  },
  {
   "cell_type": "code",
   "execution_count": 67,
   "id": "b3fe0061-c555-435c-b67f-2a2019ca57e4",
   "metadata": {},
   "outputs": [
    {
     "name": "stdout",
     "output_type": "stream",
     "text": [
      "Total number of unique countries: 243\n",
      "\n",
      "Count of unique countries for each shipping method:\n",
      "  Shipping Method  Count of Countries\n",
      "0             Air                 243\n",
      "1            Land                 243\n",
      "2             Sea                 243\n"
     ]
    }
   ],
   "source": [
    "#29. Give count of countries that used each SHIPPING METHOD.\n",
    "\n",
    "# Total count of unique countries mentioned in the DataFrame\n",
    "total_countries = df['Country'].nunique()\n",
    "\n",
    "# Count of unique countries for each shipping method\n",
    "countries_per_shipping_method = df.groupby('Shipping_Method')['Country'].nunique()\n",
    "\n",
    "# Create a DataFrame to display the results\n",
    "results = pd.DataFrame({\n",
    "    'Shipping Method': countries_per_shipping_method.index,\n",
    "    'Count of Countries': countries_per_shipping_method.values\n",
    "})\n",
    "\n",
    "# Print the results\n",
    "print(\"Total number of unique countries:\", total_countries)\n",
    "print(\"\\nCount of unique countries for each shipping method:\")\n",
    "print(results)"
   ]
  },
  {
   "cell_type": "code",
   "execution_count": 69,
   "id": "66f35623-8fd5-4ba6-8290-a26ace667cce",
   "metadata": {},
   "outputs": [
    {
     "name": "stdout",
     "output_type": "stream",
     "text": [
      "Total number of unique countries: 243\n"
     ]
    }
   ],
   "source": [
    "#30. Find the Total Number of Unique Countries in the Dataset.\n",
    "\n",
    "# Find the total number of unique countries\n",
    "total_countries = df['Country'].nunique()\n",
    "\n",
    "print(\"Total number of unique countries:\", total_countries)"
   ]
  },
  {
   "cell_type": "code",
   "execution_count": 71,
   "id": "afa955bf-92bc-48e9-8145-4d2f0ebba81c",
   "metadata": {},
   "outputs": [
    {
     "name": "stdout",
     "output_type": "stream",
     "text": [
      "Average order value for each shipping method:\n",
      "Shipping_Method\n",
      "Air     4972.595980\n",
      "Land    5052.055882\n",
      "Sea     5073.826911\n",
      "Name: Value, dtype: float64\n"
     ]
    }
   ],
   "source": [
    "#31. Find the Average Order Value for Each Shipping Method\n",
    "# Calculate the average order value for each shipping method\n",
    "avg_order_value_per_shipping = df.groupby('Shipping_Method')['Value'].mean()\n",
    "\n",
    "print(\"Average order value for each shipping method:\")\n",
    "print(avg_order_value_per_shipping)"
   ]
  },
  {
   "cell_type": "markdown",
   "id": "70087b3c-e9ea-438f-b404-4d09820a5603",
   "metadata": {},
   "source": [
    "### Country with most number of orders"
   ]
  },
  {
   "cell_type": "code",
   "execution_count": 73,
   "id": "9ca86aa5-5b06-4bb1-b688-2fe180c0660a",
   "metadata": {},
   "outputs": [
    {
     "name": "stdout",
     "output_type": "stream",
     "text": [
      "List of countries with the most number of orders:\n",
      "Country\n",
      "Congo               133\n",
      "Korea               113\n",
      "Pakistan             79\n",
      "Pitcairn Islands     79\n",
      "Israel               79\n",
      "                   ... \n",
      "Micronesia           45\n",
      "Reunion              44\n",
      "Liechtenstein        44\n",
      "Faroe Islands        43\n",
      "Palau                41\n",
      "Name: count, Length: 243, dtype: int64\n"
     ]
    }
   ],
   "source": [
    "#32. List of Countries with the Most Number of Orders\n",
    "\n",
    "# Count the number of orders per country\n",
    "orders_per_country = df['Country'].value_counts()\n",
    "\n",
    "print(\"List of countries with the most number of orders:\")\n",
    "print(orders_per_country)"
   ]
  },
  {
   "cell_type": "code",
   "execution_count": 75,
   "id": "f73fcb91-e0fd-4d56-95ff-40746310c49e",
   "metadata": {},
   "outputs": [
    {
     "name": "stdout",
     "output_type": "stream",
     "text": [
      "Count of orders by import/export types:\n",
      "Import_Export\n",
      "Import    7569\n",
      "Export    7431\n",
      "Name: count, dtype: int64\n"
     ]
    }
   ],
   "source": [
    "#33. Count of Orders by Import and Export Types\n",
    "\n",
    "# Count the number of orders for each import/export type\n",
    "orders_by_import_export = df['Import_Export'].value_counts()\n",
    "\n",
    "print(\"Count of orders by import/export types:\")\n",
    "print(orders_by_import_export)"
   ]
  },
  {
   "cell_type": "code",
   "execution_count": 77,
   "id": "73f3558f-459b-480f-a374-00c97d717a3e",
   "metadata": {},
   "outputs": [
    {
     "name": "stdout",
     "output_type": "stream",
     "text": [
      "Maximum and minimum weight for each shipping method:\n",
      "                     max   min\n",
      "Shipping_Method               \n",
      "Air              4999.93  1.64\n",
      "Land             4999.52  1.52\n",
      "Sea              4998.73  0.57\n"
     ]
    }
   ],
   "source": [
    "#34. Maximum and Minimum Weight for Each Shipping Method\n",
    "\n",
    "# Find maximum and minimum weight for each shipping method\n",
    "weight_stats_per_shipping = df.groupby('Shipping_Method')['Weight'].agg(['max', 'min'])\n",
    "\n",
    "print(\"Maximum and minimum weight for each shipping method:\")\n",
    "print(weight_stats_per_shipping)"
   ]
  },
  {
   "cell_type": "markdown",
   "id": "ca240163-155f-4ee2-b7e4-9731d7b3da86",
   "metadata": {},
   "source": [
    "### Country with the highest total transaction value"
   ]
  },
  {
   "cell_type": "code",
   "execution_count": 79,
   "id": "1b5b2b56-af80-4326-8930-69f695e46699",
   "metadata": {},
   "outputs": [
    {
     "name": "stdout",
     "output_type": "stream",
     "text": [
      "Congo\n"
     ]
    }
   ],
   "source": [
    "#35. Find the country with the highest total transaction value\n",
    "highest_value_country = df.groupby('Country')['Value'].sum().idxmax()\n",
    "print(highest_value_country)"
   ]
  },
  {
   "cell_type": "markdown",
   "id": "b5861985-fd5c-43d2-b07c-95f97e1e571c",
   "metadata": {},
   "source": [
    "### Product that is imported/exported the most by quantity"
   ]
  },
  {
   "cell_type": "code",
   "execution_count": 81,
   "id": "bfbd3b48-37a4-4934-a637-fff45ef56f2c",
   "metadata": {},
   "outputs": [
    {
     "data": {
      "text/plain": [
       "'paper'"
      ]
     },
     "execution_count": 81,
     "metadata": {},
     "output_type": "execute_result"
    }
   ],
   "source": [
    "#36. Find the product that is imported/exported the most by quantity\n",
    "# Group by 'Product' and sum the 'Quantity' column, then find the product with the highest quantity\n",
    "most_imported_exported_product = df.groupby('Product')['Quantity'].sum().idxmax()\n",
    "most_imported_exported_product"
   ]
  },
  {
   "cell_type": "code",
   "execution_count": 83,
   "id": "f2ebf25d-953d-4cb7-86f7-8903044edada",
   "metadata": {},
   "outputs": [
    {
     "data": {
      "text/plain": [
       "Customer\n",
       "Michael Miller         50768.17\n",
       "Michelle Smith         41806.98\n",
       "Jennifer Smith         40107.39\n",
       "James Jones            38612.44\n",
       "Christopher Johnson    38056.44\n",
       "Name: Value, dtype: float64"
      ]
     },
     "execution_count": 83,
     "metadata": {},
     "output_type": "execute_result"
    }
   ],
   "source": [
    "#37. Find the top 5 customers by total transaction value\n",
    "top_5_customers = df.groupby('Customer')['Value'].sum().nlargest(5)\n",
    "top_5_customers"
   ]
  },
  {
   "cell_type": "code",
   "execution_count": 85,
   "id": "092f5ccf-0d4c-40eb-8d79-c09812ff4dce",
   "metadata": {},
   "outputs": [
    {
     "data": {
      "text/plain": [
       "'Cash on Delivery'"
      ]
     },
     "execution_count": 85,
     "metadata": {},
     "output_type": "execute_result"
    }
   ],
   "source": [
    "#38. Find the most common payment term used\n",
    "# Find the mode (most common) of the 'Payment_Terms' column\n",
    "most_common_payment_term = df['Payment_Terms'].mode()[0]\n",
    "most_common_payment_term"
   ]
  },
  {
   "cell_type": "code",
   "execution_count": 87,
   "id": "2a940a6c-93ee-4834-b056-77ba2a54ea30",
   "metadata": {},
   "outputs": [
    {
     "data": {
      "text/html": [
       "<div>\n",
       "<style scoped>\n",
       "    .dataframe tbody tr th:only-of-type {\n",
       "        vertical-align: middle;\n",
       "    }\n",
       "\n",
       "    .dataframe tbody tr th {\n",
       "        vertical-align: top;\n",
       "    }\n",
       "\n",
       "    .dataframe thead th {\n",
       "        text-align: right;\n",
       "    }\n",
       "</style>\n",
       "<table border=\"1\" class=\"dataframe\">\n",
       "  <thead>\n",
       "    <tr style=\"text-align: right;\">\n",
       "      <th></th>\n",
       "      <th>count</th>\n",
       "      <th>mean</th>\n",
       "      <th>std</th>\n",
       "      <th>min</th>\n",
       "      <th>25%</th>\n",
       "      <th>50%</th>\n",
       "      <th>75%</th>\n",
       "      <th>max</th>\n",
       "    </tr>\n",
       "    <tr>\n",
       "      <th>Shipping_Method</th>\n",
       "      <th></th>\n",
       "      <th></th>\n",
       "      <th></th>\n",
       "      <th></th>\n",
       "      <th></th>\n",
       "      <th></th>\n",
       "      <th></th>\n",
       "      <th></th>\n",
       "    </tr>\n",
       "  </thead>\n",
       "  <tbody>\n",
       "    <tr>\n",
       "      <th>Air</th>\n",
       "      <td>4995.0</td>\n",
       "      <td>2513.395896</td>\n",
       "      <td>1446.257879</td>\n",
       "      <td>1.64</td>\n",
       "      <td>1275.7000</td>\n",
       "      <td>2509.950</td>\n",
       "      <td>3755.90</td>\n",
       "      <td>4999.93</td>\n",
       "    </tr>\n",
       "    <tr>\n",
       "      <th>Land</th>\n",
       "      <td>4951.0</td>\n",
       "      <td>2484.802381</td>\n",
       "      <td>1454.133917</td>\n",
       "      <td>1.52</td>\n",
       "      <td>1215.7800</td>\n",
       "      <td>2473.580</td>\n",
       "      <td>3735.10</td>\n",
       "      <td>4999.52</td>\n",
       "    </tr>\n",
       "    <tr>\n",
       "      <th>Sea</th>\n",
       "      <td>5054.0</td>\n",
       "      <td>2478.257576</td>\n",
       "      <td>1453.775422</td>\n",
       "      <td>0.57</td>\n",
       "      <td>1241.5775</td>\n",
       "      <td>2433.045</td>\n",
       "      <td>3748.95</td>\n",
       "      <td>4998.73</td>\n",
       "    </tr>\n",
       "  </tbody>\n",
       "</table>\n",
       "</div>"
      ],
      "text/plain": [
       "                  count         mean          std   min        25%       50%  \\\n",
       "Shipping_Method                                                                \n",
       "Air              4995.0  2513.395896  1446.257879  1.64  1275.7000  2509.950   \n",
       "Land             4951.0  2484.802381  1454.133917  1.52  1215.7800  2473.580   \n",
       "Sea              5054.0  2478.257576  1453.775422  0.57  1241.5775  2433.045   \n",
       "\n",
       "                     75%      max  \n",
       "Shipping_Method                    \n",
       "Air              3755.90  4999.93  \n",
       "Land             3735.10  4999.52  \n",
       "Sea              3748.95  4998.73  "
      ]
     },
     "execution_count": 87,
     "metadata": {},
     "output_type": "execute_result"
    }
   ],
   "source": [
    "#39. Find out how does transaction weight vary by shipping method\n",
    "weight_variation_by_shipping_method = df.groupby('Shipping_Method')['Weight'].describe()\n",
    "weight_variation_by_shipping_method"
   ]
  },
  {
   "cell_type": "code",
   "execution_count": 89,
   "id": "129d37e4-25fd-4fbc-b7c8-21ec8c6386c1",
   "metadata": {},
   "outputs": [
    {
     "data": {
      "text/plain": [
       "Date\n",
       "2019-09     986892.40\n",
       "2019-10    1219673.50\n",
       "2019-11    1198416.99\n",
       "2019-12    1216968.95\n",
       "2020-01    1302631.29\n",
       "              ...    \n",
       "2024-05    1115653.81\n",
       "2024-06    1177899.19\n",
       "2024-07    1291391.72\n",
       "2024-08    1385117.15\n",
       "2024-09     256049.47\n",
       "Freq: M, Name: Value, Length: 61, dtype: float64"
      ]
     },
     "execution_count": 89,
     "metadata": {},
     "output_type": "execute_result"
    }
   ],
   "source": [
    "#40. Find the total value of transactions per month\n",
    "# Ensure 'Date' column is in datetime format\n",
    "df['Date'] = pd.to_datetime(df['Date'], format='%d-%m-%Y')\n",
    "\n",
    "# Group by month and sum the 'Value' column\n",
    "total_value_per_month = df.groupby(df['Date'].dt.to_period('M'))['Value'].sum()\n",
    "total_value_per_month"
   ]
  },
  {
   "cell_type": "code",
   "execution_count": 91,
   "id": "a5514b47-bd82-4e63-b889-98a1a076a8ef",
   "metadata": {},
   "outputs": [
    {
     "data": {
      "text/html": [
       "<div>\n",
       "<style scoped>\n",
       "    .dataframe tbody tr th:only-of-type {\n",
       "        vertical-align: middle;\n",
       "    }\n",
       "\n",
       "    .dataframe tbody tr th {\n",
       "        vertical-align: top;\n",
       "    }\n",
       "\n",
       "    .dataframe thead th {\n",
       "        text-align: right;\n",
       "    }\n",
       "</style>\n",
       "<table border=\"1\" class=\"dataframe\">\n",
       "  <thead>\n",
       "    <tr style=\"text-align: right;\">\n",
       "      <th></th>\n",
       "      <th>Weight</th>\n",
       "      <th>Value</th>\n",
       "    </tr>\n",
       "  </thead>\n",
       "  <tbody>\n",
       "    <tr>\n",
       "      <th>Weight</th>\n",
       "      <td>1.000000</td>\n",
       "      <td>0.004527</td>\n",
       "    </tr>\n",
       "    <tr>\n",
       "      <th>Value</th>\n",
       "      <td>0.004527</td>\n",
       "      <td>1.000000</td>\n",
       "    </tr>\n",
       "  </tbody>\n",
       "</table>\n",
       "</div>"
      ],
      "text/plain": [
       "          Weight     Value\n",
       "Weight  1.000000  0.004527\n",
       "Value   0.004527  1.000000"
      ]
     },
     "execution_count": 91,
     "metadata": {},
     "output_type": "execute_result"
    }
   ],
   "source": [
    "#41. Find the correlation between transaction weight and value\n",
    "# Use the 'corr()' method to find the correlation between 'Weight' and 'Value'\n",
    "correlation_weight_value = df[['Weight', 'Value']].corr()\n",
    "correlation_weight_value"
   ]
  },
  {
   "cell_type": "code",
   "execution_count": 93,
   "id": "5c585bf6-521e-4d23-98c3-32581277ba59",
   "metadata": {},
   "outputs": [
    {
     "data": {
      "text/plain": [
       "Country\n",
       "Afghanistan          5462.184821\n",
       "Albania              4984.975424\n",
       "Algeria              4811.577042\n",
       "American Samoa       4717.955455\n",
       "Andorra              5157.139787\n",
       "                        ...     \n",
       "Wallis and Futuna    5340.817538\n",
       "Western Sahara       4930.552540\n",
       "Yemen                5412.766071\n",
       "Zambia               5319.667358\n",
       "Zimbabwe             5185.593725\n",
       "Name: Value, Length: 243, dtype: float64"
      ]
     },
     "execution_count": 93,
     "metadata": {},
     "output_type": "execute_result"
    }
   ],
   "source": [
    "#42. Find the average transaction value for each country\n",
    "avg_value_per_country = df.groupby('Country')['Value'].mean()\n",
    "avg_value_per_country"
   ]
  },
  {
   "cell_type": "markdown",
   "id": "f27b3310-d7ae-47a6-9389-d04a943ff123",
   "metadata": {},
   "source": [
    "### Product category has the highest total value of transactions"
   ]
  },
  {
   "cell_type": "code",
   "execution_count": 95,
   "id": "e5490649-0e61-4e75-bc42-4fd5c8d26407",
   "metadata": {},
   "outputs": [
    {
     "data": {
      "text/plain": [
       "'Electronics'"
      ]
     },
     "execution_count": 95,
     "metadata": {},
     "output_type": "execute_result"
    }
   ],
   "source": [
    "#43. Find product category has the highest total value of transactions\n",
    "highest_value_category = df.groupby('Category')['Value'].sum().idxmax()\n",
    "highest_value_category"
   ]
  },
  {
   "cell_type": "code",
   "execution_count": 97,
   "id": "8032f9e4-8788-46aa-9b27-04a75c1a8916",
   "metadata": {},
   "outputs": [
    {
     "data": {
      "text/plain": [
       "Shipping_Method\n",
       "Sea     5054\n",
       "Air     4995\n",
       "Land    4951\n",
       "Name: count, dtype: int64"
      ]
     },
     "execution_count": 97,
     "metadata": {},
     "output_type": "execute_result"
    }
   ],
   "source": [
    "#44. Find transactions occurred per shipping method\n",
    "transactions_per_shipping_method = df['Shipping_Method'].value_counts()\n",
    "transactions_per_shipping_method"
   ]
  },
  {
   "cell_type": "code",
   "execution_count": 99,
   "id": "af97549c-34d4-4b62-8749-2a4319e44ff1",
   "metadata": {},
   "outputs": [
    {
     "data": {
      "text/plain": [
       "Port\n",
       "West Michael    131006.93\n",
       "Port David      107401.25\n",
       "Lake Michael    102998.99\n",
       "Name: Value, dtype: float64"
      ]
     },
     "execution_count": 99,
     "metadata": {},
     "output_type": "execute_result"
    }
   ],
   "source": [
    "#45. Find the top 3 ports by transaction value\n",
    "top_3_ports_by_value = df.groupby('Port')['Value'].sum().nlargest(3)\n",
    "top_3_ports_by_value"
   ]
  },
  {
   "cell_type": "markdown",
   "id": "70136eec-13ce-4fb0-b73b-c42091853aea",
   "metadata": {},
   "source": [
    "### Most frequent product imported/exported per country"
   ]
  },
  {
   "cell_type": "code",
   "execution_count": 101,
   "id": "bd767562-eb85-4ad9-ae03-e2b4475dce25",
   "metadata": {},
   "outputs": [
    {
     "data": {
      "text/html": [
       "<div>\n",
       "<style scoped>\n",
       "    .dataframe tbody tr th:only-of-type {\n",
       "        vertical-align: middle;\n",
       "    }\n",
       "\n",
       "    .dataframe tbody tr th {\n",
       "        vertical-align: top;\n",
       "    }\n",
       "\n",
       "    .dataframe thead th {\n",
       "        text-align: right;\n",
       "    }\n",
       "</style>\n",
       "<table border=\"1\" class=\"dataframe\">\n",
       "  <thead>\n",
       "    <tr style=\"text-align: right;\">\n",
       "      <th></th>\n",
       "      <th>Country</th>\n",
       "      <th>Product</th>\n",
       "    </tr>\n",
       "  </thead>\n",
       "  <tbody>\n",
       "    <tr>\n",
       "      <th>7</th>\n",
       "      <td>Afghanistan</td>\n",
       "      <td>democratic</td>\n",
       "    </tr>\n",
       "    <tr>\n",
       "      <th>53</th>\n",
       "      <td>Albania</td>\n",
       "      <td>about</td>\n",
       "    </tr>\n",
       "    <tr>\n",
       "      <th>179</th>\n",
       "      <td>Algeria</td>\n",
       "      <td>whether</td>\n",
       "    </tr>\n",
       "    <tr>\n",
       "      <th>215</th>\n",
       "      <td>American Samoa</td>\n",
       "      <td>music</td>\n",
       "    </tr>\n",
       "    <tr>\n",
       "      <th>279</th>\n",
       "      <td>Andorra</td>\n",
       "      <td>statement</td>\n",
       "    </tr>\n",
       "    <tr>\n",
       "      <th>...</th>\n",
       "      <td>...</td>\n",
       "      <td>...</td>\n",
       "    </tr>\n",
       "    <tr>\n",
       "      <th>14275</th>\n",
       "      <td>Wallis and Futuna</td>\n",
       "      <td>center</td>\n",
       "    </tr>\n",
       "    <tr>\n",
       "      <th>14366</th>\n",
       "      <td>Western Sahara</td>\n",
       "      <td>onto</td>\n",
       "    </tr>\n",
       "    <tr>\n",
       "      <th>14440</th>\n",
       "      <td>Yemen</td>\n",
       "      <td>thought</td>\n",
       "    </tr>\n",
       "    <tr>\n",
       "      <th>14457</th>\n",
       "      <td>Zambia</td>\n",
       "      <td>exactly</td>\n",
       "    </tr>\n",
       "    <tr>\n",
       "      <th>14497</th>\n",
       "      <td>Zimbabwe</td>\n",
       "      <td>able</td>\n",
       "    </tr>\n",
       "  </tbody>\n",
       "</table>\n",
       "<p>243 rows × 2 columns</p>\n",
       "</div>"
      ],
      "text/plain": [
       "                 Country     Product\n",
       "7            Afghanistan  democratic\n",
       "53               Albania       about\n",
       "179              Algeria     whether\n",
       "215       American Samoa       music\n",
       "279              Andorra   statement\n",
       "...                  ...         ...\n",
       "14275  Wallis and Futuna      center\n",
       "14366     Western Sahara        onto\n",
       "14440              Yemen     thought\n",
       "14457             Zambia     exactly\n",
       "14497           Zimbabwe        able\n",
       "\n",
       "[243 rows x 2 columns]"
      ]
     },
     "execution_count": 101,
     "metadata": {},
     "output_type": "execute_result"
    }
   ],
   "source": [
    "#46. Find the most frequent product imported/exported per country\n",
    "# Count the occurrences of each Product within each Country\n",
    "product_counts = df.groupby(['Country', 'Product']).size().reset_index(name='counts')\n",
    "\n",
    "# For each Country, find the Product with the maximum count\n",
    "most_frequent_product_per_country = product_counts.loc[product_counts.groupby('Country')['counts'].idxmax(), ['Country', 'Product']]\n",
    "\n",
    "most_frequent_product_per_country"
   ]
  },
  {
   "cell_type": "markdown",
   "id": "a046138c-1f5f-47a0-a6af-280d9bbbef76",
   "metadata": {},
   "source": [
    "### Most frequent product imported/exported per country"
   ]
  },
  {
   "cell_type": "code",
   "execution_count": 105,
   "id": "f661af22-cfa2-4776-85d8-a8c3659278f0",
   "metadata": {},
   "outputs": [
    {
     "data": {
      "text/plain": [
       "Product\n",
       "American    1959.882857\n",
       "Congress    2432.906154\n",
       "Democrat    2452.091333\n",
       "I           2672.281429\n",
       "Mr          3129.037143\n",
       "               ...     \n",
       "yet         2853.948000\n",
       "you         3079.904545\n",
       "young       2416.869474\n",
       "your        2729.592143\n",
       "yourself    2129.196154\n",
       "Name: Weight, Length: 971, dtype: float64"
      ]
     },
     "execution_count": 105,
     "metadata": {},
     "output_type": "execute_result"
    }
   ],
   "source": [
    "#47. Find the most frequent product imported/exported per country\n",
    "avg_weight_per_product = df.groupby('Product')['Weight'].mean()\n",
    "avg_weight_per_product"
   ]
  },
  {
   "cell_type": "code",
   "execution_count": 107,
   "id": "3805f043-d7b8-4abf-b6da-553d5c4acfbf",
   "metadata": {},
   "outputs": [
    {
     "data": {
      "text/plain": [
       "Date\n",
       "2019-09    207\n",
       "2019-10    252\n",
       "2019-11    229\n",
       "2019-12    245\n",
       "2020-01    257\n",
       "          ... \n",
       "2024-05    233\n",
       "2024-06    235\n",
       "2024-07    258\n",
       "2024-08    270\n",
       "2024-09     49\n",
       "Freq: M, Name: Transaction_ID, Length: 61, dtype: int64"
      ]
     },
     "execution_count": 107,
     "metadata": {},
     "output_type": "execute_result"
    }
   ],
   "source": [
    "#48. Find the trend in the number of transactions over time\n",
    "transactions_per_month = df.groupby(df['Date'].dt.to_period('M'))['Transaction_ID'].count()\n",
    "transactions_per_month"
   ]
  },
  {
   "cell_type": "code",
   "execution_count": 109,
   "id": "e4efd654-5d20-43ba-b56d-30f419438f07",
   "metadata": {},
   "outputs": [
    {
     "data": {
      "text/plain": [
       "'Blake, Becker and Stein'"
      ]
     },
     "execution_count": 109,
     "metadata": {},
     "output_type": "execute_result"
    }
   ],
   "source": [
    "#49. Find supplier has the highest average transaction value\n",
    "highest_avg_value_supplier = df.groupby('Supplier')['Value'].mean().idxmax()\n",
    "highest_avg_value_supplier"
   ]
  },
  {
   "cell_type": "code",
   "execution_count": 111,
   "id": "ecadbfd6-acf9-4cad-9d7b-da04e301ee83",
   "metadata": {},
   "outputs": [
    {
     "data": {
      "text/plain": [
       "Import_Export\n",
       "Export    2492.712082\n",
       "Import    2491.536451\n",
       "Name: Weight, dtype: float64"
      ]
     },
     "execution_count": 111,
     "metadata": {},
     "output_type": "execute_result"
    }
   ],
   "source": [
    "#50. Find how the average weight of transactions vary by import/export type\n",
    "avg_weight_import_export = df.groupby('Import_Export')['Weight'].mean()\n",
    "avg_weight_import_export"
   ]
  },
  {
   "cell_type": "code",
   "execution_count": 113,
   "id": "b47929e8-d956-4c00-b03b-7a45fa52a4b0",
   "metadata": {},
   "outputs": [
    {
     "data": {
      "text/plain": [
       "Customs_Code\n",
       "100041    2871\n",
       "100147    9825\n",
       "100171    4652\n",
       "100229    8319\n",
       "100287    1131\n",
       "          ... \n",
       "999752    3347\n",
       "999768    6087\n",
       "999783    2279\n",
       "999953     858\n",
       "999964    4448\n",
       "Name: Quantity, Length: 14881, dtype: int64"
      ]
     },
     "execution_count": 113,
     "metadata": {},
     "output_type": "execute_result"
    }
   ],
   "source": [
    "#51. Find the total quantity of products handled per customs code\n",
    "total_quantity_per_customs_code = df.groupby('Customs_Code')['Quantity'].sum()\n",
    "total_quantity_per_customs_code"
   ]
  },
  {
   "cell_type": "markdown",
   "id": "8514455c-547a-4014-b2b7-44cfb0c54108",
   "metadata": {},
   "source": [
    "### How does the average transaction value vary by product category?"
   ]
  },
  {
   "cell_type": "code",
   "execution_count": 115,
   "id": "26b5badc-7a43-4045-bee9-c7c711b48069",
   "metadata": {},
   "outputs": [
    {
     "data": {
      "text/plain": [
       "Category\n",
       "Clothing       5007.352123\n",
       "Electronics    5161.383952\n",
       "Furniture      5059.013211\n",
       "Machinery      4974.067146\n",
       "Toys           4959.826907\n",
       "Name: Value, dtype: float64"
      ]
     },
     "execution_count": 115,
     "metadata": {},
     "output_type": "execute_result"
    }
   ],
   "source": [
    "#52. Find How does the average transaction value vary by product category\n",
    "avg_value_per_category = df.groupby('Category')['Value'].mean()\n",
    "avg_value_per_category"
   ]
  },
  {
   "cell_type": "code",
   "execution_count": 117,
   "id": "d6e36734-912e-45bd-b3e6-1bbc190a81bb",
   "metadata": {},
   "outputs": [
    {
     "data": {
      "text/plain": [
       "(12581, 13753)"
      ]
     },
     "execution_count": 117,
     "metadata": {},
     "output_type": "execute_result"
    }
   ],
   "source": [
    "#53. Find how many unique suppliers and customers are involved in the dataset\n",
    "unique_suppliers = df['Supplier'].nunique()\n",
    "unique_customers = df['Customer'].nunique()\n",
    "\n",
    "unique_suppliers, unique_customers"
   ]
  },
  {
   "cell_type": "code",
   "execution_count": 119,
   "id": "5f775b1b-ae72-46c8-a45f-989ce014a04a",
   "metadata": {},
   "outputs": [
    {
     "data": {
      "text/plain": [
       "count    15000.000000\n",
       "mean      4980.554733\n",
       "std       2866.166690\n",
       "min          1.000000\n",
       "25%       2517.000000\n",
       "50%       4958.500000\n",
       "75%       7458.250000\n",
       "max      10000.000000\n",
       "Name: Quantity, dtype: float64"
      ]
     },
     "execution_count": 119,
     "metadata": {},
     "output_type": "execute_result"
    }
   ],
   "source": [
    "#54. Define the distribution of transaction quantities\n",
    "quantity_distribution = df['Quantity'].describe()\n",
    "quantity_distribution"
   ]
  },
  {
   "cell_type": "code",
   "execution_count": 121,
   "id": "d775ed4d-4c55-4257-812f-59c0b2414a6c",
   "metadata": {},
   "outputs": [
    {
     "data": {
      "text/html": [
       "<div>\n",
       "<style scoped>\n",
       "    .dataframe tbody tr th:only-of-type {\n",
       "        vertical-align: middle;\n",
       "    }\n",
       "\n",
       "    .dataframe tbody tr th {\n",
       "        vertical-align: top;\n",
       "    }\n",
       "\n",
       "    .dataframe thead th {\n",
       "        text-align: right;\n",
       "    }\n",
       "</style>\n",
       "<table border=\"1\" class=\"dataframe\">\n",
       "  <thead>\n",
       "    <tr style=\"text-align: right;\">\n",
       "      <th></th>\n",
       "      <th>Quantity</th>\n",
       "      <th>Value</th>\n",
       "    </tr>\n",
       "  </thead>\n",
       "  <tbody>\n",
       "    <tr>\n",
       "      <th>Quantity</th>\n",
       "      <td>1.000000</td>\n",
       "      <td>-0.002876</td>\n",
       "    </tr>\n",
       "    <tr>\n",
       "      <th>Value</th>\n",
       "      <td>-0.002876</td>\n",
       "      <td>1.000000</td>\n",
       "    </tr>\n",
       "  </tbody>\n",
       "</table>\n",
       "</div>"
      ],
      "text/plain": [
       "          Quantity     Value\n",
       "Quantity  1.000000 -0.002876\n",
       "Value    -0.002876  1.000000"
      ]
     },
     "execution_count": 121,
     "metadata": {},
     "output_type": "execute_result"
    }
   ],
   "source": [
    "# 55. Define the correlation between transaction quantity and value\n",
    "correlation_quantity_value = df[['Quantity', 'Value']].corr()\n",
    "correlation_quantity_value"
   ]
  },
  {
   "cell_type": "code",
   "execution_count": 123,
   "id": "4131f3ff-bf05-4f89-a57a-3e95f8af334e",
   "metadata": {},
   "outputs": [
    {
     "data": {
      "text/plain": [
       "Port\n",
       "Aaronborough      13171.82\n",
       "Aaronfurt          2448.81\n",
       "Aaronland          6195.02\n",
       "Aaronmouth        35282.84\n",
       "Aaronport          3105.81\n",
       "                    ...   \n",
       "Zavalashire        3012.12\n",
       "Zhangborough       9851.27\n",
       "Zhangtown          6630.67\n",
       "Zimmermanmouth     8596.28\n",
       "Zoeton             6287.93\n",
       "Name: Value, Length: 10657, dtype: float64"
      ]
     },
     "execution_count": 123,
     "metadata": {},
     "output_type": "execute_result"
    }
   ],
   "source": [
    "#56. Describe the total value of transactions vary by port\n",
    "total_value_per_port = df.groupby('Port')['Value'].sum()\n",
    "total_value_per_port"
   ]
  },
  {
   "cell_type": "code",
   "execution_count": 125,
   "id": "979e1470-2183-4933-9cbb-0ac4da7eca66",
   "metadata": {},
   "outputs": [
    {
     "data": {
      "text/plain": [
       "Import_Export\n",
       "Import    50.46\n",
       "Export    49.54\n",
       "Name: proportion, dtype: float64"
      ]
     },
     "execution_count": 125,
     "metadata": {},
     "output_type": "execute_result"
    }
   ],
   "source": [
    "#57. Find the percentage of total transactions are exports vs imports\n",
    "import_export_percentage = df['Import_Export'].value_counts(normalize=True) * 100\n",
    "import_export_percentage"
   ]
  },
  {
   "cell_type": "code",
   "execution_count": 127,
   "id": "747d690b-dd04-48c2-984e-185839622ebe",
   "metadata": {},
   "outputs": [
    {
     "data": {
      "text/plain": [
       "Customer\n",
       "Aaron Ayers         7472.65\n",
       "Aaron Baker         6155.52\n",
       "Aaron Banks         9927.69\n",
       "Aaron Barnes        3815.94\n",
       "Aaron Brown         7777.69\n",
       "                     ...   \n",
       "Zachary Whitaker    9133.40\n",
       "Zachary Wilson      1642.95\n",
       "Zachary Wise         531.06\n",
       "Zoe Ferguson        2391.13\n",
       "Zoe Martin          4827.67\n",
       "Name: Value, Length: 13753, dtype: float64"
      ]
     },
     "execution_count": 127,
     "metadata": {},
     "output_type": "execute_result"
    }
   ],
   "source": [
    "#58. Find the average transaction value per customer\n",
    "avg_value_per_customer = df.groupby('Customer')['Value'].mean()\n",
    "avg_value_per_customer"
   ]
  },
  {
   "cell_type": "code",
   "execution_count": 129,
   "id": "4126f91b-be31-4aff-a7dd-5eb3a01ddd8c",
   "metadata": {},
   "outputs": [
    {
     "data": {
      "text/plain": [
       "'Air'"
      ]
     },
     "execution_count": 129,
     "metadata": {},
     "output_type": "execute_result"
    }
   ],
   "source": [
    "#59. Find shipping method has the highest average transaction weight\n",
    "\n",
    "highest_avg_weight_shipping_method = df.groupby('Shipping_Method')['Weight'].mean().idxmax()\n",
    "highest_avg_weight_shipping_method"
   ]
  },
  {
   "cell_type": "code",
   "execution_count": 131,
   "id": "34c0129f-021c-4bdb-8109-d65d8c929a55",
   "metadata": {},
   "outputs": [
    {
     "data": {
      "text/plain": [
       "Payment_Terms\n",
       "Cash on Delivery    3831\n",
       "Net 60              3758\n",
       "Prepaid             3754\n",
       "Net 30              3657\n",
       "Name: count, dtype: int64"
      ]
     },
     "execution_count": 131,
     "metadata": {},
     "output_type": "execute_result"
    }
   ],
   "source": [
    "#60. Find the distribution of payment terms used across transactions\n",
    "payment_terms_distribution = df['Payment_Terms'].value_counts()\n",
    "payment_terms_distribution"
   ]
  },
  {
   "cell_type": "code",
   "execution_count": 133,
   "id": "ef9b3154-9ffa-4191-b215-5d5677ebf751",
   "metadata": {},
   "outputs": [
    {
     "data": {
      "text/plain": [
       "Category\n",
       "Clothing       4997.08\n",
       "Electronics    4996.43\n",
       "Furniture      4999.52\n",
       "Machinery      4998.01\n",
       "Toys           4999.93\n",
       "Name: Weight, dtype: float64"
      ]
     },
     "execution_count": 133,
     "metadata": {},
     "output_type": "execute_result"
    }
   ],
   "source": [
    "#61. Find the maximum weight of a transaction for each product category\n",
    "max_weight_per_category = df.groupby('Category')['Weight'].max()\n",
    "max_weight_per_category"
   ]
  },
  {
   "cell_type": "code",
   "execution_count": 135,
   "id": "275093d2-d0b9-4b5d-94e6-e71d88a56089",
   "metadata": {},
   "outputs": [
    {
     "name": "stdout",
     "output_type": "stream",
     "text": [
      "Non-categorical variables and their types (Integer or Decimal):\n",
      "Quantity            int64\n",
      "Value             float64\n",
      "Weight            float64\n",
      "Invoice_Number      int64\n",
      "dtype: object\n"
     ]
    }
   ],
   "source": [
    "#62. (a) Find the types of the non-categorical variables (integer, decimal).\n",
    "# (b) Find how many unique values exist in each categorical column.\n",
    "\n",
    "# Find the types of non-categorical (numeric) variables\n",
    "numeric_columns = df.select_dtypes(include=['int64', 'float64']).dtypes\n",
    "print(\"Non-categorical variables and their types (Integer or Decimal):\")\n",
    "print(numeric_columns)\n"
   ]
  },
  {
   "cell_type": "code",
   "execution_count": 137,
   "id": "64ecddb9-6332-4a4f-b44f-3df132cda95b",
   "metadata": {},
   "outputs": [
    {
     "name": "stdout",
     "output_type": "stream",
     "text": [
      "Total quantity of products imported/exported by each country:\n",
      "Country\n",
      "Afghanistan          251149\n",
      "Albania              284688\n",
      "Algeria              347605\n",
      "American Samoa       299511\n",
      "Andorra              251000\n",
      "                      ...  \n",
      "Wallis and Futuna    322276\n",
      "Western Sahara       326268\n",
      "Yemen                246629\n",
      "Zambia               267878\n",
      "Zimbabwe             245847\n",
      "Name: Quantity, Length: 243, dtype: int64\n"
     ]
    }
   ],
   "source": [
    "#63. Find the total quantity of products imported/exported by each country\n",
    "total_quantity_per_country = df.groupby('Country')['Quantity'].sum()\n",
    "print(\"Total quantity of products imported/exported by each country:\")\n",
    "print(total_quantity_per_country)"
   ]
  },
  {
   "cell_type": "code",
   "execution_count": 139,
   "id": "8ac1b6eb-c5f4-4085-bdbc-daf9a0a9325b",
   "metadata": {},
   "outputs": [
    {
     "name": "stdout",
     "output_type": "stream",
     "text": [
      "Average value of transactions by product category:\n",
      "Category\n",
      "Clothing       5007.352123\n",
      "Electronics    5161.383952\n",
      "Furniture      5059.013211\n",
      "Machinery      4974.067146\n",
      "Toys           4959.826907\n",
      "Name: Value, dtype: float64\n"
     ]
    }
   ],
   "source": [
    "#64. Find the average value of transactions by product category\n",
    "avg_value_per_category = df.groupby('Category')['Value'].mean()\n",
    "print(\"Average value of transactions by product category:\")\n",
    "print(avg_value_per_category)"
   ]
  },
  {
   "cell_type": "code",
   "execution_count": 141,
   "id": "60d366f5-76f4-482f-9779-4b5f4ba42867",
   "metadata": {},
   "outputs": [
    {
     "name": "stdout",
     "output_type": "stream",
     "text": [
      "Supplier that handles the most unique products: Johnson PLC\n"
     ]
    }
   ],
   "source": [
    "#65. Find supplier handles the most unique products\n",
    "unique_products_per_supplier = df.groupby('Supplier')['Product'].nunique().idxmax()\n",
    "print(f\"Supplier that handles the most unique products: {unique_products_per_supplier}\")"
   ]
  },
  {
   "cell_type": "code",
   "execution_count": 143,
   "id": "531ba152-c2ca-4901-b0b5-e16c863550b9",
   "metadata": {},
   "outputs": [
    {
     "name": "stdout",
     "output_type": "stream",
     "text": [
      "Minimum and Maximum transaction weight by shipping method:\n",
      "                  min      max\n",
      "Shipping_Method               \n",
      "Air              1.64  4999.93\n",
      "Land             1.52  4999.52\n",
      "Sea              0.57  4998.73\n"
     ]
    }
   ],
   "source": [
    "#66. Find the minimum and maximum transaction weight by shipping method.\n",
    "min_max_weight_by_shipping_method = df.groupby('Shipping_Method')['Weight'].agg(['min', 'max'])\n",
    "print(\"Minimum and Maximum transaction weight by shipping method:\")\n",
    "print(min_max_weight_by_shipping_method)"
   ]
  },
  {
   "cell_type": "code",
   "execution_count": 145,
   "id": "67eb1ea6-be6c-49c6-8223-1cf0937c4551",
   "metadata": {},
   "outputs": [
    {
     "name": "stdout",
     "output_type": "stream",
     "text": [
      "Median transaction value for each port:\n",
      "Port\n",
      "Aaronborough      6585.910\n",
      "Aaronfurt         2448.810\n",
      "Aaronland         6195.020\n",
      "Aaronmouth        7252.095\n",
      "Aaronport         3105.810\n",
      "                    ...   \n",
      "Zavalashire       3012.120\n",
      "Zhangborough      9851.270\n",
      "Zhangtown         6630.670\n",
      "Zimmermanmouth    8596.280\n",
      "Zoeton            6287.930\n",
      "Name: Value, Length: 10657, dtype: float64\n"
     ]
    }
   ],
   "source": [
    "#67. Find the median transaction value for each port.\n",
    "\n",
    "median_value_per_port = df.groupby('Port')['Value'].median()\n",
    "print(\"Median transaction value for each port:\")\n",
    "print(median_value_per_port)"
   ]
  },
  {
   "cell_type": "code",
   "execution_count": 147,
   "id": "2e808cd0-857e-4e4c-9be6-61f88b74133d",
   "metadata": {},
   "outputs": [
    {
     "name": "stdout",
     "output_type": "stream",
     "text": [
      "Customer with the highest average transaction value: Tracy Davis\n"
     ]
    }
   ],
   "source": [
    "#68. Find the customer has the highest average transaction value\n",
    "highest_avg_value_customer = df.groupby('Customer')['Value'].mean().idxmax()\n",
    "print(f\"Customer with the highest average transaction value: {highest_avg_value_customer}\")\n"
   ]
  },
  {
   "cell_type": "code",
   "execution_count": 149,
   "id": "4803acfc-64fa-4244-aab5-0e4f6a0fb4e7",
   "metadata": {},
   "outputs": [
    {
     "name": "stdout",
     "output_type": "stream",
     "text": [
      "Distribution of transaction quantities per product:\n",
      "          count         mean          std     min      25%     50%     75%  \\\n",
      "Product                                                                      \n",
      "American   14.0  3994.571429  2509.193640   740.0  2698.00  3487.5  4547.0   \n",
      "Congress   13.0  5270.384615  3207.914783   491.0  2653.00  5997.0  7483.0   \n",
      "Democrat   15.0  5227.466667  2420.928006  1101.0  3158.50  5900.0  6705.5   \n",
      "I           7.0  4342.857143  2936.881704  1013.0  2534.00  3053.0  5872.5   \n",
      "Mr         21.0  5025.190476  3037.026862   131.0  3453.00  4359.0  7333.0   \n",
      "...         ...          ...          ...     ...      ...     ...     ...   \n",
      "yet        15.0  5091.133333  2312.219647   898.0  3907.50  5337.0  6791.5   \n",
      "you        11.0  5567.636364  2879.000183  1493.0  3059.50  5583.0  8162.0   \n",
      "young      19.0  5142.368421  3014.019247   193.0  3250.00  5702.0  7060.0   \n",
      "your       14.0  4652.428571  3107.915545   633.0  1919.75  4421.0  7186.5   \n",
      "yourself   26.0  4390.153846  2793.244589   264.0  1993.25  4234.0  6490.0   \n",
      "\n",
      "             max  \n",
      "Product           \n",
      "American  9324.0  \n",
      "Congress  9834.0  \n",
      "Democrat  9492.0  \n",
      "I         9521.0  \n",
      "Mr        9959.0  \n",
      "...          ...  \n",
      "yet       8247.0  \n",
      "you       9275.0  \n",
      "young     9658.0  \n",
      "your      9822.0  \n",
      "yourself  9700.0  \n",
      "\n",
      "[971 rows x 8 columns]\n"
     ]
    }
   ],
   "source": [
    "#69. Find the distribution of transaction quantities per product\n",
    "quantity_distribution_per_product = df.groupby('Product')['Quantity'].describe()\n",
    "print(\"Distribution of transaction quantities per product:\")\n",
    "print(quantity_distribution_per_product)\n"
   ]
  },
  {
   "cell_type": "code",
   "execution_count": 151,
   "id": "878635b4-5574-42dd-b6e2-dbc2330ba409",
   "metadata": {},
   "outputs": [
    {
     "name": "stdout",
     "output_type": "stream",
     "text": [
      "Number of transactions made using each payment term:\n",
      "Payment_Terms\n",
      "Cash on Delivery    3831\n",
      "Net 60              3758\n",
      "Prepaid             3754\n",
      "Net 30              3657\n",
      "Name: count, dtype: int64\n"
     ]
    }
   ],
   "source": [
    "#70. Find how many transactions were made using each payment term\n",
    "transactions_per_payment_term = df['Payment_Terms'].value_counts()\n",
    "print(\"Number of transactions made using each payment term:\")\n",
    "print(transactions_per_payment_term)"
   ]
  },
  {
   "cell_type": "markdown",
   "id": "e59cc52a-b6dd-42a6-8f33-4c24d2298789",
   "metadata": {},
   "source": [
    "### Customer with most transactions"
   ]
  },
  {
   "cell_type": "code",
   "execution_count": 153,
   "id": "aa666688-e147-44ac-9c01-3f9b1d30aaa6",
   "metadata": {},
   "outputs": [
    {
     "name": "stdout",
     "output_type": "stream",
     "text": [
      "Customer with the most transactions: Michael Miller\n"
     ]
    }
   ],
   "source": [
    "#71. Find customer has made the most transactions\n",
    "most_transactions_customer = df['Customer'].value_counts().idxmax()\n",
    "print(f\"Customer with the most transactions: {most_transactions_customer}\")"
   ]
  },
  {
   "cell_type": "code",
   "execution_count": 155,
   "id": "5e1d4237-4ec8-4dc6-8643-387ee905af77",
   "metadata": {},
   "outputs": [
    {
     "name": "stdout",
     "output_type": "stream",
     "text": [
      "Total transaction value for each supplier:\n",
      "Supplier\n",
      "Abbott LLC                     6647.98\n",
      "Abbott and Sons                4343.55\n",
      "Abbott, Olson and Allen        6441.73\n",
      "Abbott, Taylor and Moreno       770.31\n",
      "Abbott-Oconnell                6848.02\n",
      "                                ...   \n",
      "Zuniga and Sons                8484.63\n",
      "Zuniga, King and Marquez       5041.52\n",
      "Zuniga, Perez and Martin       8760.87\n",
      "Zuniga, Schwartz and Butler    7283.53\n",
      "Zuniga-Brown                   4728.87\n",
      "Name: Value, Length: 12581, dtype: float64\n"
     ]
    }
   ],
   "source": [
    "#72. Find the total transaction value for each supplier\n",
    "total_value_per_supplier = df.groupby('Supplier')['Value'].sum()\n",
    "print(\"Total transaction value for each supplier:\")\n",
    "print(total_value_per_supplier)"
   ]
  },
  {
   "cell_type": "markdown",
   "id": "adb70c5f-a5e2-40d3-8163-541528c86886",
   "metadata": {},
   "source": [
    "### Total transaction quantity by product "
   ]
  },
  {
   "cell_type": "code",
   "execution_count": 157,
   "id": "cdd1bdbd-4f90-4927-8cdd-2055b187fc1b",
   "metadata": {},
   "outputs": [
    {
     "name": "stdout",
     "output_type": "stream",
     "text": [
      "Total transaction quantity by product:\n",
      "Product\n",
      "American     55924\n",
      "Congress     68515\n",
      "Democrat     78412\n",
      "I            30400\n",
      "Mr          105529\n",
      "             ...  \n",
      "yet          76367\n",
      "you          61244\n",
      "young        97705\n",
      "your         65134\n",
      "yourself    114144\n",
      "Name: Quantity, Length: 971, dtype: int64\n"
     ]
    }
   ],
   "source": [
    "#73. Find the total transaction quantity vary by product\n",
    "total_quantity_per_product = df.groupby('Product')['Quantity'].sum()\n",
    "print(\"Total transaction quantity by product:\")\n",
    "print(total_quantity_per_product)\n"
   ]
  },
  {
   "cell_type": "code",
   "execution_count": 159,
   "id": "ef931fed-5877-4d88-a7b2-9063c4edd7b6",
   "metadata": {},
   "outputs": [
    {
     "name": "stdout",
     "output_type": "stream",
     "text": [
      "Range of transaction values by product category:\n",
      "Category\n",
      "Clothing       9894.60\n",
      "Electronics    9879.31\n",
      "Furniture      9887.43\n",
      "Machinery      9896.10\n",
      "Toys           9890.57\n",
      "dtype: float64\n"
     ]
    }
   ],
   "source": [
    "#74. Find the range of transaction values by product category\n",
    "# Calculate the maximum and minimum transaction value for each Category\n",
    "min_max_value_per_category = df.groupby('Category')['Value'].agg(['max', 'min'])\n",
    "\n",
    "# Calculate the range (max - min)\n",
    "range_value_per_category = min_max_value_per_category['max'] - min_max_value_per_category['min']\n",
    "\n",
    "print(\"Range of transaction values by product category:\")\n",
    "print(range_value_per_category)"
   ]
  },
  {
   "cell_type": "code",
   "execution_count": 161,
   "id": "d2fa6b98-86ac-49df-be37-1653620e6a63",
   "metadata": {},
   "outputs": [
    {
     "name": "stdout",
     "output_type": "stream",
     "text": [
      "Shipping method handling the most transactions: Sea\n"
     ]
    }
   ],
   "source": [
    "# 75. Find the shipping method handles the most transactions.\n",
    "most_transactions_shipping_method = df['Shipping_Method'].value_counts().idxmax()\n",
    "print(f\"Shipping method handling the most transactions: {most_transactions_shipping_method}\")"
   ]
  },
  {
   "cell_type": "code",
   "execution_count": 163,
   "id": "abeb2557-fafd-48d9-a87f-04130c56ed9d",
   "metadata": {},
   "outputs": [
    {
     "name": "stdout",
     "output_type": "stream",
     "text": [
      "Top 3 suppliers by total transaction weight:\n",
      "Supplier\n",
      "Johnson PLC    55884.73\n",
      "Jones LLC      48873.43\n",
      "Smith Inc      48645.77\n",
      "Name: Weight, dtype: float64\n"
     ]
    }
   ],
   "source": [
    "#76. Find the top 3 suppliers by total transaction weight\n",
    "top_3_suppliers_by_weight = df.groupby('Supplier')['Weight'].sum().nlargest(3)\n",
    "print(\"Top 3 suppliers by total transaction weight:\")\n",
    "print(top_3_suppliers_by_weight)"
   ]
  },
  {
   "cell_type": "markdown",
   "id": "bd21e040-41db-4f18-87a3-a3e3102262ba",
   "metadata": {},
   "source": [
    "### Port-wise most common product category"
   ]
  },
  {
   "cell_type": "code",
   "execution_count": 165,
   "id": "49411982-58a2-4a01-bccb-1e143466228c",
   "metadata": {},
   "outputs": [
    {
     "name": "stdout",
     "output_type": "stream",
     "text": [
      "Most common product category handled by each port:\n",
      "                 Port     Category\n",
      "0        Aaronborough    Furniture\n",
      "2           Aaronfurt         Toys\n",
      "3           Aaronland  Electronics\n",
      "5          Aaronmouth  Electronics\n",
      "8           Aaronport    Machinery\n",
      "...               ...          ...\n",
      "13536     Zavalashire    Machinery\n",
      "13537    Zhangborough    Furniture\n",
      "13538       Zhangtown    Furniture\n",
      "13539  Zimmermanmouth    Machinery\n",
      "13540          Zoeton    Machinery\n",
      "\n",
      "[10657 rows x 2 columns]\n"
     ]
    }
   ],
   "source": [
    "#77. Find the most common product category handled by each port\n",
    "# Count the occurrences of each Category within each Port\n",
    "category_counts_per_port = df.groupby(['Port', 'Category']).size().reset_index(name='counts')\n",
    "\n",
    "# For each Port, find the Category with the maximum count\n",
    "most_common_category_per_port = category_counts_per_port.loc[category_counts_per_port.groupby('Port')['counts'].idxmax(), ['Port', 'Category']]\n",
    "\n",
    "print(\"Most common product category handled by each port:\")\n",
    "print(most_common_category_per_port)"
   ]
  },
  {
   "cell_type": "markdown",
   "id": "17d25a9d-0c07-41b5-ac2d-7bd76aadc4ec",
   "metadata": {},
   "source": [
    "### How does transaction value vary by country and import/export type"
   ]
  },
  {
   "cell_type": "code",
   "execution_count": 167,
   "id": "eac1a50f-1692-4ff1-84a8-66bad0a9c698",
   "metadata": {},
   "outputs": [
    {
     "name": "stdout",
     "output_type": "stream",
     "text": [
      "Transaction value by country and import/export type:\n",
      "Country      Import_Export\n",
      "Afghanistan  Export           134234.20\n",
      "             Import           171648.15\n",
      "Albania      Export           184614.79\n",
      "             Import           109498.76\n",
      "Algeria      Export           151002.11\n",
      "                                ...    \n",
      "Yemen        Import           154970.96\n",
      "Zambia       Export           149048.89\n",
      "             Import           132893.48\n",
      "Zimbabwe     Export           104172.33\n",
      "             Import           160292.95\n",
      "Name: Value, Length: 486, dtype: float64\n"
     ]
    }
   ],
   "source": [
    "#78. Find how does transaction value vary by country and import/export type\n",
    "value_by_country_and_import_export = df.groupby(['Country', 'Import_Export'])['Value'].sum()\n",
    "print(\"Transaction value by country and import/export type:\")\n",
    "print(value_by_country_and_import_export)"
   ]
  },
  {
   "cell_type": "code",
   "execution_count": 169,
   "id": "82dcd79b-b514-4b51-9aa8-2cd3920648c8",
   "metadata": {},
   "outputs": [
    {
     "name": "stdout",
     "output_type": "stream",
     "text": [
      "Percentage of total transactions for each shipping method:\n",
      "Shipping_Method\n",
      "Sea     33.693333\n",
      "Air     33.300000\n",
      "Land    33.006667\n",
      "Name: proportion, dtype: float64\n"
     ]
    }
   ],
   "source": [
    "#79.Find the percentage of total transactions for each shipping method\n",
    "percentage_transactions_shipping_method = df['Shipping_Method'].value_counts(normalize=True) * 100\n",
    "print(\"Percentage of total transactions for each shipping method:\")\n",
    "print(percentage_transactions_shipping_method)\n"
   ]
  },
  {
   "cell_type": "code",
   "execution_count": 171,
   "id": "03a4a829-5a47-4ab6-9c88-69a3463a21c7",
   "metadata": {},
   "outputs": [
    {
     "name": "stdout",
     "output_type": "stream",
     "text": [
      "Customs code with the highest total transaction value: 992366\n"
     ]
    }
   ],
   "source": [
    "#80. Find customs code has the highest total transaction value\n",
    "highest_value_customs_code = df.groupby('Customs_Code')['Value'].sum().idxmax()\n",
    "print(f\"Customs code with the highest total transaction value: {highest_value_customs_code}\")"
   ]
  },
  {
   "cell_type": "code",
   "execution_count": 173,
   "id": "a7023f91-fb92-4206-bb6c-4b512526dc0c",
   "metadata": {},
   "outputs": [
    {
     "name": "stdout",
     "output_type": "stream",
     "text": [
      "Mean of numerical columns:\n",
      "Quantity          4.980555e+03\n",
      "Value             5.032931e+03\n",
      "Weight            2.492119e+03\n",
      "Invoice_Number    5.020677e+07\n",
      "dtype: float64\n",
      "\n",
      "Median of numerical columns:\n",
      "Quantity          4.958500e+03\n",
      "Value             5.045705e+03\n",
      "Weight            2.476135e+03\n",
      "Invoice_Number    5.026745e+07\n",
      "dtype: float64\n",
      "\n",
      "Mode of numerical columns:\n",
      "Quantity           3132.00\n",
      "Value               154.70\n",
      "Weight             1086.54\n",
      "Invoice_Number    42026.00\n",
      "Name: 0, dtype: float64\n"
     ]
    }
   ],
   "source": [
    "#Descriptive Analysis for Non-Categorical Data\n",
    "#81. Find the measures of Central Tendency (Mean, Median, Mode)\n",
    "# Mean for numerical columns\n",
    "mean_values = df.select_dtypes(include=['int64', 'float64']).mean()\n",
    "\n",
    "# Median for numerical columns\n",
    "median_values = df.select_dtypes(include=['int64', 'float64']).median()\n",
    "\n",
    "# Mode for numerical columns (for each column)\n",
    "mode_values = df.select_dtypes(include=['int64', 'float64']).mode().iloc[0]  # Taking the first mode\n",
    "\n",
    "print(\"Mean of numerical columns:\")\n",
    "print(mean_values)\n",
    "print(\"\\nMedian of numerical columns:\")\n",
    "print(median_values)\n",
    "print(\"\\nMode of numerical columns:\")\n",
    "print(mode_values)"
   ]
  },
  {
   "cell_type": "code",
   "execution_count": 175,
   "id": "bab781ab-946b-444e-8991-8ca18b31b3ed",
   "metadata": {},
   "outputs": [
    {
     "name": "stdout",
     "output_type": "stream",
     "text": [
      "Percentiles (25th, 50th, 75th) for numerical columns:\n",
      "      Quantity     Value     Weight  Invoice_Number\n",
      "0.25   2517.00  2552.750  1243.4825      25277424.5\n",
      "0.50   4958.50  5045.705  2476.1350      50267448.5\n",
      "0.75   7458.25  7504.700  3747.3925      75100451.5\n"
     ]
    }
   ],
   "source": [
    "#82. Find Percentiles (25th, 50th, 75th)\n",
    "# Percentiles for numerical columns\n",
    "percentiles = df.select_dtypes(include=['int64', 'float64']).quantile([0.25, 0.50, 0.75])\n",
    "\n",
    "print(\"Percentiles (25th, 50th, 75th) for numerical columns:\")\n",
    "print(percentiles)"
   ]
  },
  {
   "cell_type": "code",
   "execution_count": 177,
   "id": "201d0ca1-0725-4d40-a4b1-0005f79bae54",
   "metadata": {},
   "outputs": [
    {
     "name": "stdout",
     "output_type": "stream",
     "text": [
      "Range of numerical columns:\n",
      "Quantity              9999.00\n",
      "Value                 9897.01\n",
      "Weight                4999.36\n",
      "Invoice_Number    99955968.00\n",
      "dtype: float64\n"
     ]
    }
   ],
   "source": [
    "#83. Find the range of the Numerical Columns.\n",
    "# Range (max - min) for numerical columns\n",
    "range_values = df.select_dtypes(include=['int64', 'float64']).max() - df.select_dtypes(include=['int64', 'float64']).min()\n",
    "\n",
    "print(\"Range of numerical columns:\")\n",
    "print(range_values)"
   ]
  },
  {
   "cell_type": "code",
   "execution_count": 179,
   "id": "4008a6a6-5063-4c13-973e-4aeafba66b6a",
   "metadata": {},
   "outputs": [
    {
     "name": "stdout",
     "output_type": "stream",
     "text": [
      "Standard deviation of numerical columns:\n",
      "Quantity          2.866167e+03\n",
      "Value             2.857594e+03\n",
      "Weight            1.451379e+03\n",
      "Invoice_Number    2.889888e+07\n",
      "dtype: float64\n"
     ]
    }
   ],
   "source": [
    "#84. Find the Standard Deviation of the Numerical Columns\n",
    "# Standard deviation for numerical columns\n",
    "std_dev_values = df.select_dtypes(include=['int64', 'float64']).std()\n",
    "\n",
    "print(\"Standard deviation of numerical columns:\")\n",
    "print(std_dev_values)"
   ]
  },
  {
   "cell_type": "code",
   "execution_count": 181,
   "id": "42bf180b-f228-49a9-8f19-d4403ca5dff2",
   "metadata": {},
   "outputs": [
    {
     "name": "stdout",
     "output_type": "stream",
     "text": [
      "Skewness of numerical columns:\n",
      "Quantity          0.019183\n",
      "Value             0.008283\n",
      "Weight            0.025247\n",
      "Invoice_Number   -0.007783\n",
      "dtype: float64\n"
     ]
    }
   ],
   "source": [
    "#85. Skewness of the Numerical Columns\n",
    "# Skewness for numerical columns\n",
    "skewness_values = df.select_dtypes(include=['int64', 'float64']).skew()\n",
    "\n",
    "print(\"Skewness of numerical columns:\")\n",
    "print(skewness_values)"
   ]
  },
  {
   "cell_type": "code",
   "execution_count": 183,
   "id": "ee8e1060-e05c-4604-9585-20cc611f6809",
   "metadata": {},
   "outputs": [
    {
     "name": "stdout",
     "output_type": "stream",
     "text": [
      "Kurtosis of numerical columns:\n",
      "Quantity         -1.182017\n",
      "Value            -1.193535\n",
      "Weight           -1.208368\n",
      "Invoice_Number   -1.194853\n",
      "dtype: float64\n"
     ]
    }
   ],
   "source": [
    "#86. Kurtosis of the Numerical Columns\n",
    "# Kurtosis for numerical columns\n",
    "kurtosis_values = df.select_dtypes(include=['int64', 'float64']).kurt()\n",
    "\n",
    "print(\"Kurtosis of numerical columns:\")\n",
    "print(kurtosis_values)"
   ]
  },
  {
   "cell_type": "code",
   "execution_count": 185,
   "id": "4c7cf867-73d1-463d-b328-d668c88fcc2e",
   "metadata": {},
   "outputs": [
    {
     "name": "stdout",
     "output_type": "stream",
     "text": [
      "Correlation between numerical columns:\n",
      "                Quantity     Value    Weight  Invoice_Number\n",
      "Quantity        1.000000 -0.002876  0.006786       -0.010562\n",
      "Value          -0.002876  1.000000  0.004527        0.014180\n",
      "Weight          0.006786  0.004527  1.000000        0.011721\n",
      "Invoice_Number -0.010562  0.014180  0.011721        1.000000\n",
      "Correlation between numerical columns:\n",
      "                Quantity     Value    Weight  Invoice_Number\n",
      "Quantity        1.000000 -0.002876  0.006786       -0.010562\n",
      "Value          -0.002876  1.000000  0.004527        0.014180\n",
      "Weight          0.006786  0.004527  1.000000        0.011721\n",
      "Invoice_Number -0.010562  0.014180  0.011721        1.000000\n"
     ]
    }
   ],
   "source": [
    "#87. Find Correlation Between the Numerical Columns\n",
    "# Correlation matrix for numerical columns\n",
    "correlation_matrix = df.select_dtypes(include=['int64', 'float64']).corr()\n",
    "\n",
    "print(\"Correlation between numerical columns:\")\n",
    "print(correlation_matrix)\n",
    "# Correlation matrix for numerical columns\n",
    "correlation_matrix = df.select_dtypes(include=['int64', 'float64']).corr()\n",
    "\n",
    "print(\"Correlation between numerical columns:\")\n",
    "print(correlation_matrix)\n"
   ]
  },
  {
   "cell_type": "code",
   "execution_count": 187,
   "id": "9b100e29-c996-430b-90eb-8ccecdb3f656",
   "metadata": {},
   "outputs": [
    {
     "name": "stdout",
     "output_type": "stream",
     "text": [
      "Coefficient of variation for numerical columns:\n",
      "Quantity          0.575471\n",
      "Value             0.567779\n",
      "Weight            0.582387\n",
      "Invoice_Number    0.575597\n",
      "dtype: float64\n"
     ]
    }
   ],
   "source": [
    "#88. Find Coefficient of Variation for Each Numerical Column\n",
    "# Coefficient of variation for numerical columns\n",
    "coeff_variation = df.select_dtypes(include=['int64', 'float64']).std() / df.select_dtypes(include=['int64', 'float64']).mean()\n",
    "\n",
    "print(\"Coefficient of variation for numerical columns:\")\n",
    "print(coeff_variation)"
   ]
  },
  {
   "cell_type": "code",
   "execution_count": 189,
   "id": "8ba94477-9a34-42ce-ac9a-a56b7e6afbb4",
   "metadata": {},
   "outputs": [
    {
     "name": "stdout",
     "output_type": "stream",
     "text": [
      "95% Confidence Intervals for numerical columns:\n",
      "Lower bounds:\n",
      " Quantity          4.934687e+03\n",
      "Value             4.987200e+03\n",
      "Weight            2.468892e+03\n",
      "Invoice_Number    4.974430e+07\n",
      "dtype: float64\n",
      "Upper bounds:\n",
      " Quantity          5.026423e+03\n",
      "Value             5.078662e+03\n",
      "Weight            2.515346e+03\n",
      "Invoice_Number    5.066925e+07\n",
      "dtype: float64\n"
     ]
    }
   ],
   "source": [
    "#89.Find  95% Confidence Interval for Each Numerical Column\n",
    "import numpy as np\n",
    "\n",
    "# 95% confidence interval for numerical columns\n",
    "confidence_level = 0.95\n",
    "z_score = 1.96\n",
    "\n",
    "# Calculate confidence intervals for each numerical column\n",
    "means = df.select_dtypes(include=['int64', 'float64']).mean()\n",
    "stds = df.select_dtypes(include=['int64', 'float64']).std()\n",
    "n = df.select_dtypes(include=['int64', 'float64']).count()\n",
    "\n",
    "# Lower and upper bounds\n",
    "ci_lower = means - z_score * (stds / np.sqrt(n))\n",
    "ci_upper = means + z_score * (stds / np.sqrt(n))\n",
    "\n",
    "print(\"95% Confidence Intervals for numerical columns:\")\n",
    "print(\"Lower bounds:\\n\", ci_lower)\n",
    "print(\"Upper bounds:\\n\", ci_upper)\n"
   ]
  },
  {
   "cell_type": "code",
   "execution_count": 191,
   "id": "eae3053f-25dd-47d8-b10a-127b322e8d96",
   "metadata": {},
   "outputs": [
    {
     "name": "stdout",
     "output_type": "stream",
     "text": [
      "T-test: t-statistic = 94.86424308614403, p-value = 0.0\n"
     ]
    }
   ],
   "source": [
    "#Inferential Analysis for Non-Categorical Data\n",
    "#90. Perform a t-test to Compare the Means of Two Numerical Columns\n",
    "from scipy.stats import ttest_ind\n",
    "\n",
    "# Ensure 'Quantity' and 'Weight' columns exist and drop NaN values\n",
    "if 'Quantity' in df.columns and 'Weight' in df.columns:\n",
    "    quantity = df['Quantity'].dropna()\n",
    "    weight = df['Weight'].dropna()\n",
    "    \n",
    "    if len(quantity) > 1 and len(weight) > 1:\n",
    "        # Perform the t-test\n",
    "        t_stat, p_value = ttest_ind(quantity, weight)\n",
    "        print(f\"T-test: t-statistic = {t_stat}, p-value = {p_value}\")\n",
    "    else:\n",
    "        print(\"Not enough data in 'Quantity' or 'Weight' to perform the t-test.\")\n",
    "else:\n",
    "    print(\"'Quantity' or 'Weight' column does not exist in the DataFrame.\")\n"
   ]
  },
  {
   "cell_type": "code",
   "execution_count": 193,
   "id": "d1811549-f223-4897-a3c9-f8bc2b85878b",
   "metadata": {},
   "outputs": [
    {
     "name": "stdout",
     "output_type": "stream",
     "text": [
      "ANOVA: F-statistic = 2.444353404318705, p-value = 0.044395446683047735\n"
     ]
    }
   ],
   "source": [
    "#91. Perform an ANOVA Test to Compare the Means Across Multiple Groups\n",
    "from scipy.stats import f_oneway\n",
    "\n",
    "# Ensure 'Category' and 'Value' columns exist\n",
    "if 'Category' in df.columns and 'Value' in df.columns:\n",
    "    groups = [df[df['Category'] == group]['Value'].dropna() for group in df['Category'].unique()]\n",
    "    \n",
    "    # Ensure there are more than one group and enough observations\n",
    "    if all(len(group) > 1 for group in groups) and len(groups) > 1:\n",
    "        # Perform ANOVA\n",
    "        anova_result = f_oneway(*groups)\n",
    "        print(f\"ANOVA: F-statistic = {anova_result.statistic}, p-value = {anova_result.pvalue}\")\n",
    "    else:\n",
    "        print(\"Not enough groups or observations to perform ANOVA.\")\n",
    "else:\n",
    "    print(\"'Category' or 'Value' column does not exist in the DataFrame.\")"
   ]
  },
  {
   "cell_type": "code",
   "execution_count": 195,
   "id": "4948b900-97cd-483b-ab97-c22ebb41c4cb",
   "metadata": {},
   "outputs": [
    {
     "name": "stdout",
     "output_type": "stream",
     "text": [
      "Bartlett's Test: statistic = 2.4473978006578947, p-value = 0.6540791439393289\n"
     ]
    }
   ],
   "source": [
    "#92.  Test the Variance Using Bartlett's Test\n",
    "from scipy.stats import bartlett\n",
    "\n",
    "# Ensure 'Category' and 'Value' columns exist\n",
    "if 'Category' in df.columns and 'Value' in df.columns:\n",
    "    groups = [df[df['Category'] == group]['Value'].dropna() for group in df['Category'].unique()]\n",
    "    \n",
    "    # Ensure groups have enough observations\n",
    "    if all(len(group) > 1 for group in groups):\n",
    "        # Perform Bartlett's test\n",
    "        bartlett_result = bartlett(*groups)\n",
    "        print(f\"Bartlett's Test: statistic = {bartlett_result.statistic}, p-value = {bartlett_result.pvalue}\")\n",
    "    else:\n",
    "        print(\"Not enough observations in groups for Bartlett's test.\")\n",
    "else:\n",
    "    print(\"'Category' or 'Value' column does not exist in the DataFrame.\")\n"
   ]
  },
  {
   "cell_type": "code",
   "execution_count": 197,
   "id": "339b7be4-1e34-4abe-a626-1a087f32bb48",
   "metadata": {},
   "outputs": [
    {
     "name": "stdout",
     "output_type": "stream",
     "text": [
      "Shapiro-Wilk Test: statistic = 0.955196815999813, p-value = 6.494273019856624e-55\n"
     ]
    },
    {
     "name": "stderr",
     "output_type": "stream",
     "text": [
      "C:\\Users\\khush\\anaconda3\\Lib\\site-packages\\scipy\\stats\\_axis_nan_policy.py:531: UserWarning: scipy.stats.shapiro: For N > 5000, computed p-value may not be accurate. Current N is 15000.\n",
      "  res = hypotest_fun_out(*samples, **kwds)\n"
     ]
    }
   ],
   "source": [
    "#93. Test for Normality Using the Shapiro-Wilk Test\n",
    "from scipy.stats import shapiro\n",
    "\n",
    "# Ensure 'Value' column exists\n",
    "if 'Value' in df.columns:\n",
    "    value_column = df['Value'].dropna()\n",
    "    \n",
    "    if len(value_column) > 2:  # Shapiro-Wilk test requires more than 2 samples\n",
    "        # Perform the Shapiro-Wilk test\n",
    "        shapiro_test = shapiro(value_column)\n",
    "        print(f\"Shapiro-Wilk Test: statistic = {shapiro_test.statistic}, p-value = {shapiro_test.pvalue}\")\n",
    "    else:\n",
    "        print(\"Not enough data to perform Shapiro-Wilk test.\")\n",
    "else:\n",
    "    print(\"'Value' column does not exist in the DataFrame.\")"
   ]
  },
  {
   "cell_type": "code",
   "execution_count": 199,
   "id": "afc38a6c-03c9-4cbd-a0ca-a3e3a1c3a047",
   "metadata": {},
   "outputs": [
    {
     "name": "stdout",
     "output_type": "stream",
     "text": [
      "Kolmogorov-Smirnov Test: statistic = 0.0581615533750201, p-value = 1.5070700237127113e-44\n"
     ]
    }
   ],
   "source": [
    "#94. Test for Normality Using the Kolmogorov-Smirnov Test\n",
    "from scipy.stats import kstest\n",
    "import numpy as np\n",
    "\n",
    "# Ensure 'Value' column exists\n",
    "if 'Value' in df.columns:\n",
    "    value_column = df['Value'].dropna()\n",
    "    \n",
    "    if len(value_column) > 2:\n",
    "        # Normalize the data for KS test (optional)\n",
    "        norm_value_column = (value_column - np.mean(value_column)) / np.std(value_column)\n",
    "        \n",
    "        # Perform the Kolmogorov-Smirnov test\n",
    "        kstest_result = kstest(norm_value_column, 'norm')\n",
    "        print(f\"Kolmogorov-Smirnov Test: statistic = {kstest_result.statistic}, p-value = {kstest_result.pvalue}\")\n",
    "    else:\n",
    "        print(\"Not enough data to perform Kolmogorov-Smirnov test.\")\n",
    "else:\n",
    "    print(\"'Value' column does not exist in the DataFrame.\")\n"
   ]
  },
  {
   "cell_type": "code",
   "execution_count": 201,
   "id": "1f65a329-3980-4704-8856-2e4e3a32422e",
   "metadata": {},
   "outputs": [
    {
     "name": "stdout",
     "output_type": "stream",
     "text": [
      "Pearson Correlation: correlation = 0.006786488181775154, p-value = 0.40591038261835144\n"
     ]
    }
   ],
   "source": [
    "#95. Test for Correlation Using a t-test\n",
    "from scipy.stats import pearsonr\n",
    "\n",
    "# Ensure 'Quantity' and 'Weight' columns exist\n",
    "if 'Quantity' in df.columns and 'Weight' in df.columns:\n",
    "    quantity = df['Quantity'].dropna()\n",
    "    weight = df['Weight'].dropna()\n",
    "    \n",
    "    if len(quantity) > 2 and len(weight) > 2:\n",
    "        # Perform the Pearson correlation\n",
    "        correlation, p_value = pearsonr(quantity, weight)\n",
    "        print(f\"Pearson Correlation: correlation = {correlation}, p-value = {p_value}\")\n",
    "    else:\n",
    "        print(\"Not enough data to perform Pearson correlation test.\")\n",
    "else:\n",
    "    print(\"'Quantity' or 'Weight' column does not exist in the DataFrame.\")\n"
   ]
  },
  {
   "cell_type": "code",
   "execution_count": 203,
   "id": "9ebfd797-1763-449c-968f-26c2c42e826c",
   "metadata": {},
   "outputs": [
    {
     "name": "stdout",
     "output_type": "stream",
     "text": [
      "Simple Linear Regression:\n",
      "Coefficient: 0.0034365632397441574\n",
      "Intercept: 2475.0028673565594\n",
      "Mean Squared Error: 2106262.126176336\n",
      "R^2 Score: 4.6056421841300654e-05\n"
     ]
    }
   ],
   "source": [
    "#Causal Analysis for Non-Categorical Data\n",
    "#96. Perform Simple Linear Regression\n",
    "import pandas as pd\n",
    "from sklearn.linear_model import LinearRegression\n",
    "from sklearn.metrics import mean_squared_error, r2_score\n",
    "\n",
    "# Example DataFrame\n",
    "# df = pd.read_csv('your_data.csv')  # Replace with your actual data source\n",
    "\n",
    "# Ensure 'Quantity' and 'Weight' columns exist\n",
    "if 'Quantity' in df.columns and 'Weight' in df.columns:\n",
    "    df_clean = df[['Quantity', 'Weight']].dropna()  # Drop rows where any of the specified columns have NaN values\n",
    "    X = df_clean[['Quantity']]\n",
    "    y = df_clean['Weight']\n",
    "    \n",
    "    if len(X) > 1 and len(y) > 1:\n",
    "        # Initialize and fit the model\n",
    "        model = LinearRegression()\n",
    "        model.fit(X, y)\n",
    "\n",
    "        # Predict and evaluate\n",
    "        y_pred = model.predict(X)\n",
    "        mse = mean_squared_error(y, y_pred)\n",
    "        r2 = r2_score(y, y_pred)\n",
    "\n",
    "        print(f\"Simple Linear Regression:\")\n",
    "        print(f\"Coefficient: {model.coef_[0]}\")\n",
    "        print(f\"Intercept: {model.intercept_}\")\n",
    "        print(f\"Mean Squared Error: {mse}\")\n",
    "        print(f\"R^2 Score: {r2}\")\n",
    "    else:\n",
    "        print(\"Not enough data in 'Quantity' or 'Weight' to perform the regression.\")\n",
    "else:\n",
    "    print(\"'Quantity' or 'Weight' column does not exist in the DataFrame.\")"
   ]
  },
  {
   "cell_type": "code",
   "execution_count": 205,
   "id": "85b420ea-4f8f-4a64-aadf-44fe2cfb5876",
   "metadata": {},
   "outputs": [
    {
     "name": "stdout",
     "output_type": "stream",
     "text": [
      "Polynomial Regression (Degree 2):\n",
      "Coefficients: [ 0.00000000e+00  7.35953173e-03 -3.91666892e-07]\n",
      "Intercept: 2468.3972621761377\n",
      "Mean Squared Error: 2106253.6631229655\n",
      "R^2 Score: 5.0074280533940474e-05\n"
     ]
    }
   ],
   "source": [
    "#96. Polynomial Regression\n",
    "import pandas as pd\n",
    "from sklearn.preprocessing import PolynomialFeatures\n",
    "from sklearn.linear_model import LinearRegression\n",
    "from sklearn.metrics import mean_squared_error, r2_score\n",
    "\n",
    "# Example DataFrame\n",
    "# df = pd.read_csv('your_data.csv')  # Replace with your actual data source\n",
    "\n",
    "# Ensure 'Quantity' and 'Weight' columns exist\n",
    "if 'Quantity' in df.columns and 'Weight' in df.columns:\n",
    "    df_clean = df[['Quantity', 'Weight']].dropna()  # Drop rows where any of the specified columns have NaN values\n",
    "    X = df_clean[['Quantity']]\n",
    "    y = df_clean['Weight']\n",
    "    \n",
    "    if len(X) > 1 and len(y) > 1:\n",
    "        # Polynomial transformation\n",
    "        poly = PolynomialFeatures(degree=2)  # Degree of the polynomial\n",
    "        X_poly = poly.fit_transform(X)\n",
    "\n",
    "        # Initialize and fit the model\n",
    "        model = LinearRegression()\n",
    "        model.fit(X_poly, y)\n",
    "\n",
    "        # Predict and evaluate\n",
    "        y_pred = model.predict(X_poly)\n",
    "        mse = mean_squared_error(y, y_pred)\n",
    "        r2 = r2_score(y, y_pred)\n",
    "\n",
    "        print(f\"Polynomial Regression (Degree 2):\")\n",
    "        print(f\"Coefficients: {model.coef_}\")\n",
    "        print(f\"Intercept: {model.intercept_}\")\n",
    "        print(f\"Mean Squared Error: {mse}\")\n",
    "        print(f\"R^2 Score: {r2}\")\n",
    "    else:\n",
    "        print(\"Not enough data in 'Quantity' or 'Weight' to perform the regression.\")\n",
    "else:\n",
    "    print(\"'Quantity' or 'Weight' column does not exist in the DataFrame.\")\n"
   ]
  },
  {
   "cell_type": "code",
   "execution_count": 207,
   "id": "b778fefa-ab87-4e4a-82b8-97b0a802cbcb",
   "metadata": {},
   "outputs": [
    {
     "name": "stdout",
     "output_type": "stream",
     "text": [
      "Linear Regression (Value over Time):\n",
      "Coefficient: -0.19622392391996768\n",
      "Intercept: 5068.957884758087\n",
      "Mean Squared Error: 8164873.991794712\n",
      "R^2 Score: 5.1988233933486505e-05\n",
      "Polynomial Regression (Value over Time, Degree 2):\n",
      "Coefficients: [ 0.         -0.51962233  0.00088439]\n",
      "Intercept: 5088.771846200136\n",
      "Mean Squared Error: 8164797.17270777\n",
      "R^2 Score: 6.139622888001739e-05\n"
     ]
    }
   ],
   "source": [
    "#97. Conduct Trend Analysis of Value over Time\n",
    "import pandas as pd\n",
    "from sklearn.linear_model import LinearRegression\n",
    "from sklearn.preprocessing import PolynomialFeatures\n",
    "from sklearn.metrics import mean_squared_error, r2_score\n",
    "\n",
    "# Convert 'Date' to numerical format (e.g., day of the year)\n",
    "df['Date'] = pd.to_datetime(df['Date'])\n",
    "df['Day_of_Year'] = df['Date'].dt.dayofyear\n",
    "\n",
    "# Ensure 'Day_of_Year' and 'Value' columns exist\n",
    "if 'Day_of_Year' in df.columns and 'Value' in df.columns:\n",
    "    df_clean = df[['Day_of_Year', 'Value']].dropna()\n",
    "    X = df_clean[['Day_of_Year']]\n",
    "    y = df_clean['Value']\n",
    "    \n",
    "    if len(X) > 1 and len(y) > 1:\n",
    "        # Simple Linear Regression\n",
    "        model_linear = LinearRegression()\n",
    "        model_linear.fit(X, y)\n",
    "        y_pred_linear = model_linear.predict(X)\n",
    "        mse_linear = mean_squared_error(y, y_pred_linear)\n",
    "        r2_linear = r2_score(y, y_pred_linear)\n",
    "        \n",
    "        # Polynomial Regression\n",
    "        poly = PolynomialFeatures(degree=2)\n",
    "        X_poly = poly.fit_transform(X)\n",
    "        model_poly = LinearRegression()\n",
    "        model_poly.fit(X_poly, y)\n",
    "        y_pred_poly = model_poly.predict(X_poly)\n",
    "        mse_poly = mean_squared_error(y, y_pred_poly)\n",
    "        r2_poly = r2_score(y, y_pred_poly)\n",
    "\n",
    "        print(f\"Linear Regression (Value over Time):\")\n",
    "        print(f\"Coefficient: {model_linear.coef_[0]}\")\n",
    "        print(f\"Intercept: {model_linear.intercept_}\")\n",
    "        print(f\"Mean Squared Error: {mse_linear}\")\n",
    "        print(f\"R^2 Score: {r2_linear}\")\n",
    "\n",
    "        print(f\"Polynomial Regression (Value over Time, Degree 2):\")\n",
    "        print(f\"Coefficients: {model_poly.coef_}\")\n",
    "        print(f\"Intercept: {model_poly.intercept_}\")\n",
    "        print(f\"Mean Squared Error: {mse_poly}\")\n",
    "        print(f\"R^2 Score: {r2_poly}\")\n",
    "    else:\n",
    "        print(\"Not enough data in 'Day_of_Year' or 'Value' to perform the regression.\")\n",
    "else:\n",
    "    print(\"'Day_of_Year' or 'Value' column does not exist in the DataFrame.\")\n"
   ]
  },
  {
   "cell_type": "code",
   "execution_count": 209,
   "id": "b145cf9d-6c02-4827-a2b0-d67d2e140caf",
   "metadata": {},
   "outputs": [
    {
     "name": "stdout",
     "output_type": "stream",
     "text": [
      "Polynomial Regression (Weight vs Value, Degree 2):\n",
      "Coefficients: [ 0.00000000e+00 -1.04058921e-02  3.84781691e-06]\n",
      "Intercept: 5026.8614869802195\n",
      "Mean Squared Error: 8165079.179453511\n",
      "R^2 Score: 2.685900454668655e-05\n"
     ]
    }
   ],
   "source": [
    "#98. Polynomial Regression for Weight vs. Value\n",
    "\n",
    "import pandas as pd\n",
    "from sklearn.preprocessing import PolynomialFeatures\n",
    "from sklearn.linear_model import LinearRegression\n",
    "from sklearn.metrics import mean_squared_error, r2_score\n",
    "\n",
    "# Example DataFrame\n",
    "# df = pd.read_csv('your_data.csv')  # Replace with your actual data source\n",
    "\n",
    "# Ensure 'Weight' and 'Value' columns exist\n",
    "if 'Weight' in df.columns and 'Value' in df.columns:\n",
    "    df_clean = df[['Weight', 'Value']].dropna()\n",
    "    X = df_clean[['Weight']]\n",
    "    y = df_clean['Value']\n",
    "    \n",
    "    if len(X) > 1 and len(y) > 1:\n",
    "        poly = PolynomialFeatures(degree=2)\n",
    "        X_poly = poly.fit_transform(X)\n",
    "\n",
    "        model = LinearRegression()\n",
    "        model.fit(X_poly, y)\n",
    "\n",
    "        y_pred = model.predict(X_poly)\n",
    "        mse = mean_squared_error(y, y_pred)\n",
    "        r2 = r2_score(y, y_pred)\n",
    "\n",
    "        print(f\"Polynomial Regression (Weight vs Value, Degree 2):\")\n",
    "        print(f\"Coefficients: {model.coef_}\")\n",
    "        print(f\"Intercept: {model.intercept_}\")\n",
    "        print(f\"Mean Squared Error: {mse}\")\n",
    "        print(f\"R^2 Score: {r2}\")\n",
    "    else:\n",
    "        print(\"Not enough data in 'Weight' or 'Value' to perform the regression.\")\n",
    "else:\n",
    "    print(\"'Weight' or 'Value' column does not exist in the DataFrame.\")\n"
   ]
  },
  {
   "cell_type": "code",
   "execution_count": 211,
   "id": "9f53cce5-4390-47cd-950d-e6e45677c4a0",
   "metadata": {},
   "outputs": [
    {
     "name": "stdout",
     "output_type": "stream",
     "text": [
      "Polynomial Regression with Interaction Terms (Degree 2):\n",
      "Coefficients: [ 0.00000000e+00 -2.68100474e-02 -6.90666355e+01  2.41512288e-02]\n",
      "Intercept: 5115.711299805555\n",
      "Mean Squared Error: 8160315.922344049\n",
      "R^2 Score: 0.0006102127073623898\n"
     ]
    }
   ],
   "source": [
    "# 99. Polynomial Regression with Interaction Terms\n",
    "\n",
    "\n",
    "import pandas as pd\n",
    "from sklearn.preprocessing import PolynomialFeatures, LabelEncoder\n",
    "from sklearn.linear_model import LinearRegression\n",
    "from sklearn.metrics import mean_squared_error, r2_score\n",
    "\n",
    "# Encode 'Shipping_Method' as numeric\n",
    "if 'Shipping_Method' in df.columns:\n",
    "    label_encoder = LabelEncoder()\n",
    "    df['Shipping_Method'] = label_encoder.fit_transform(df['Shipping_Method'])\n",
    "\n",
    "# Ensure 'Quantity', 'Shipping_Method', and 'Value' columns exist\n",
    "if 'Quantity' in df.columns and 'Shipping_Method' in df.columns and 'Value' in df.columns:\n",
    "    df_clean = df[['Quantity', 'Shipping_Method', 'Value']].dropna()\n",
    "    X = df_clean[['Quantity', 'Shipping_Method']]\n",
    "    y = df_clean['Value']\n",
    "    \n",
    "    if len(X) > 1 and len(y) > 1:\n",
    "        # Polynomial transformation with interaction terms\n",
    "        poly = PolynomialFeatures(degree=2, interaction_only=True)\n",
    "        X_poly = poly.fit_transform(X)\n",
    "\n",
    "        # Initialize and fit the model\n",
    "        model = LinearRegression()\n",
    "        model.fit(X_poly, y)\n",
    "\n",
    "        # Predict and evaluate\n",
    "        y_pred = model.predict(X_poly)\n",
    "        mse = mean_squared_error(y, y_pred)\n",
    "        r2 = r2_score(y, y_pred)\n",
    "\n",
    "        print(f\"Polynomial Regression with Interaction Terms (Degree 2):\")\n",
    "        print(f\"Coefficients: {model.coef_}\")\n",
    "        print(f\"Intercept: {model.intercept_}\")\n",
    "        print(f\"Mean Squared Error: {mse}\")\n",
    "        print(f\"R^2 Score: {r2}\")\n",
    "    else:\n",
    "        print(\"Not enough data in 'Quantity', 'Shipping_Method', or 'Value' to perform the regression.\")\n",
    "else:\n",
    "    print(\"'Quantity', 'Shipping_Method', or 'Value' column does not exist in the DataFrame.\")\n"
   ]
  },
  {
   "cell_type": "code",
   "execution_count": 213,
   "id": "5ce0f094-e55f-4ce8-a7b9-27770d34136b",
   "metadata": {},
   "outputs": [
    {
     "name": "stdout",
     "output_type": "stream",
     "text": [
      "Count of each category in 'Category':\n",
      "Category\n",
      "Clothing       3048\n",
      "Furniture      3024\n",
      "Electronics    3021\n",
      "Machinery      3010\n",
      "Toys           2897\n",
      "Name: count, dtype: int64\n",
      "\n",
      "Proportion of each category in 'Category':\n",
      "Category\n",
      "Clothing       0.203200\n",
      "Furniture      0.201600\n",
      "Electronics    0.201400\n",
      "Machinery      0.200667\n",
      "Toys           0.193133\n",
      "Name: proportion, dtype: float64\n"
     ]
    }
   ],
   "source": [
    "#. Descriptive Analysis for Categorical Data\n",
    "#100. Find the count and proportion of each category in a categorical column\n",
    "import pandas as pd\n",
    "\n",
    "# Ensure the column exists\n",
    "if 'Category' in df.columns:\n",
    "    # Count and proportion of each category\n",
    "    count = df['Category'].value_counts()\n",
    "    proportion = df['Category'].value_counts(normalize=True)\n",
    "    \n",
    "    print(f\"Count of each category in 'Category':\")\n",
    "    print(count)\n",
    "    print(f\"\\nProportion of each category in 'Category':\")\n",
    "    print(proportion)\n",
    "else:\n",
    "    print(\"'Category' does not exist in the DataFrame.\")"
   ]
  },
  {
   "cell_type": "code",
   "execution_count": 215,
   "id": "a6354120-a6e1-4519-bb8d-c0258fe37577",
   "metadata": {},
   "outputs": [
    {
     "name": "stdout",
     "output_type": "stream",
     "text": [
      "Mode of 'Category':\n",
      "['Clothing']\n"
     ]
    }
   ],
   "source": [
    "#101. Find the mode of the categorical columns\n",
    "\n",
    "import pandas as pd\n",
    "\n",
    "\n",
    "# Ensure the column exists\n",
    "if 'Category' in df.columns:\n",
    "    mode = df['Category'].mode()\n",
    "    \n",
    "    print(f\"Mode of 'Category':\")\n",
    "    print(mode.values)\n",
    "else:\n",
    "    print(\"'Category' does not exist in the DataFrame.\")"
   ]
  },
  {
   "cell_type": "code",
   "execution_count": 217,
   "id": "a0c74034-d2aa-4d5f-9f5d-d6d983949367",
   "metadata": {},
   "outputs": [
    {
     "name": "stdout",
     "output_type": "stream",
     "text": [
      "Rank of each category in 'Category':\n",
      "Category\n",
      "Clothing       1\n",
      "Furniture      2\n",
      "Electronics    3\n",
      "Machinery      4\n",
      "Toys           5\n",
      "Name: count, dtype: int32\n"
     ]
    }
   ],
   "source": [
    "#102. Find the rank of each category in a categorical column.\n",
    "import pandas as pd\n",
    "\n",
    "# Ensure the column exists\n",
    "if 'Category' in df.columns:\n",
    "    # Count of each category\n",
    "    count = df['Category'].value_counts()\n",
    "    \n",
    "    # Rank categories based on count\n",
    "    rank = count.rank(method='min', ascending=False).astype(int)\n",
    "    \n",
    "    print(f\"Rank of each category in 'Category':\")\n",
    "    print(rank)\n",
    "else:\n",
    "    print(\"'Category' does not exist in the DataFrame.\")\n"
   ]
  },
  {
   "cell_type": "code",
   "execution_count": 219,
   "id": "b9f18ece-4e0c-493f-8817-947a1eb27302",
   "metadata": {},
   "outputs": [
    {
     "name": "stdout",
     "output_type": "stream",
     "text": [
      "Cramér's V correlation between 'Category' and 'Product':\n",
      "0.25222343767747046\n"
     ]
    }
   ],
   "source": [
    "#103. Find the correlation between two categorical variables\n",
    "import pandas as pd\n",
    "import numpy as np\n",
    "from scipy.stats import chi2_contingency\n",
    "\n",
    "def cramers_v(x, y):\n",
    "    crosstab = pd.crosstab(x, y)\n",
    "    chi2_stat = chi2_contingency(crosstab)[0]\n",
    "    n = crosstab.sum().sum()\n",
    "    k = min(crosstab.shape) - 1\n",
    "    return np.sqrt(chi2_stat / (n * k))\n",
    "\n",
    "# Ensure the columns exist\n",
    "if 'Category' in df.columns and 'Product' in df.columns:\n",
    "    correlation = cramers_v(df['Category'], df['Product'])\n",
    "    \n",
    "    print(f\"Cramér's V correlation between 'Category' and 'Product':\")\n",
    "    print(correlation)\n",
    "else:\n",
    "    print(\"'Category' or 'Product' does not exist in the DataFrame.\")"
   ]
  },
  {
   "cell_type": "code",
   "execution_count": 221,
   "id": "42509e56-dcce-4cf9-9646-3e80cbd00dfb",
   "metadata": {},
   "outputs": [
    {
     "name": "stdout",
     "output_type": "stream",
     "text": [
      "Chi-Square Test of Independence:\n",
      "Chi-Square Statistic: 3816.9997508304505\n",
      "P-Value: 0.7616137163711594\n",
      "Degrees of Freedom: 3880\n",
      "Expected Frequencies Table:\n",
      "[[2.8448     2.6416     3.048      ... 3.8608     2.8448     5.2832    ]\n",
      " [2.8196     2.6182     3.021      ... 3.8266     2.8196     5.2364    ]\n",
      " [2.8224     2.6208     3.024      ... 3.8304     2.8224     5.2416    ]\n",
      " [2.80933333 2.60866667 3.01       ... 3.81266667 2.80933333 5.21733333]\n",
      " [2.70386667 2.51073333 2.897      ... 3.66953333 2.70386667 5.02146667]]\n"
     ]
    }
   ],
   "source": [
    "# Inferential Analysis for Categorical Data\n",
    "#104. Perform a Chi-Square Test of Independence.\n",
    "import pandas as pd\n",
    "from scipy.stats import chi2_contingency\n",
    "\n",
    "# Ensure the columns exist\n",
    "if 'Category' in df.columns and 'Product' in df.columns:\n",
    "    # Create a contingency table\n",
    "    contingency_table = pd.crosstab(df['Category'], df['Product'])\n",
    "    \n",
    "    # Perform Chi-Square Test of Independence\n",
    "    chi2_stat, p_value, dof, expected = chi2_contingency(contingency_table)\n",
    "    \n",
    "    print(f\"Chi-Square Test of Independence:\")\n",
    "    print(f\"Chi-Square Statistic: {chi2_stat}\")\n",
    "    print(f\"P-Value: {p_value}\")\n",
    "    print(f\"Degrees of Freedom: {dof}\")\n",
    "    print(f\"Expected Frequencies Table:\\n{expected}\")\n",
    "else:\n",
    "    print(\"'Category' or 'Product' does not exist in the DataFrame.\")\n"
   ]
  },
  {
   "cell_type": "code",
   "execution_count": 223,
   "id": "18204e6f-a277-4755-ad5a-c5564258c523",
   "metadata": {},
   "outputs": [
    {
     "name": "stdout",
     "output_type": "stream",
     "text": [
      "Chi-Square Test of Independence:\n",
      "Chi-Square Statistic: 3816.9997508304505\n",
      "P-Value: 0.7616137163711594\n",
      "Degrees of Freedom: 3880\n",
      "Expected Frequencies Table:\n",
      "[[2.8448     2.6416     3.048      ... 3.8608     2.8448     5.2832    ]\n",
      " [2.8196     2.6182     3.021      ... 3.8266     2.8196     5.2364    ]\n",
      " [2.8224     2.6208     3.024      ... 3.8304     2.8224     5.2416    ]\n",
      " [2.80933333 2.60866667 3.01       ... 3.81266667 2.80933333 5.21733333]\n",
      " [2.70386667 2.51073333 2.897      ... 3.66953333 2.70386667 5.02146667]]\n"
     ]
    }
   ],
   "source": [
    "#105. Perform a Chi-Square Goodness of Fit Test.\n",
    "import pandas as pd\n",
    "from scipy.stats import chi2_contingency\n",
    "\n",
    "# Example DataFrame\n",
    "# df = pd.read_csv('your_data.csv')  # Replace with your actual data source\n",
    "\n",
    "# Ensure the columns exist\n",
    "if 'Category' in df.columns and 'Product' in df.columns:\n",
    "    # Create a contingency table\n",
    "    contingency_table = pd.crosstab(df['Category'], df['Product'])\n",
    "    \n",
    "    # Perform the Chi-Square Test of Independence\n",
    "    chi2_stat, p_value, dof, expected = chi2_contingency(contingency_table)\n",
    "    \n",
    "    print(f\"Chi-Square Test of Independence:\")\n",
    "    print(f\"Chi-Square Statistic: {chi2_stat}\")\n",
    "    print(f\"P-Value: {p_value}\")\n",
    "    print(f\"Degrees of Freedom: {dof}\")\n",
    "    print(f\"Expected Frequencies Table:\")\n",
    "    print(expected)\n",
    "else:\n",
    "    print(\"'Category' or 'Product' does not exist in the DataFrame.\")\n"
   ]
  },
  {
   "cell_type": "code",
   "execution_count": 271,
   "id": "a1216d1f-aff5-4486-bc1f-10b193716b80",
   "metadata": {},
   "outputs": [
    {
     "name": "stdout",
     "output_type": "stream",
     "text": [
      "Columns in DataFrame: Index(['Transaction_ID', 'Country', 'Product', 'Import_Export', 'Quantity',\n",
      "       'Value', 'Date', 'Category', 'Port', 'Weight', 'Shipping_Method',\n",
      "       'Supplier', 'Customer', 'Invoice_Number', 'Payment_Terms',\n",
      "       'Day_of_Year'],\n",
      "      dtype='object')\n",
      "Group1 (Clothing) size: 3048\n",
      "Group2 (Electronics) size: 3021\n",
      "Statistic: 4642293.0\n",
      "P-Value: 0.5747808605503562\n",
      "There is no significant difference between Clothing and Electronics.\n"
     ]
    }
   ],
   "source": [
    "#106. Advanced Statistical Analysis (inferential for categorical data)\n",
    "#Perform a Mann-Whitney U Test for non-parametric data.\n",
    "\n",
    "import pandas as pd\n",
    "from scipy.stats import mannwhitneyu\n",
    "\n",
    "# Print the columns to verify\n",
    "print(\"Columns in DataFrame:\", df.columns)\n",
    "\n",
    "# Define the two categories to compare\n",
    "category1 = 'Clothing'  # Replace with one of the actual categories\n",
    "category2 = 'Electronics'  # Replace with another actual category\n",
    "\n",
    "# Extract numerical data for the two categories\n",
    "group1 = df[df['Category'] == category1]['Quantity']\n",
    "group2 = df[df['Category'] == category2]['Quantity']\n",
    "\n",
    "# Debugging: Check if groups have data\n",
    "print(f\"Group1 ({category1}) size: {len(group1)}\")\n",
    "print(f\"Group2 ({category2}) size: {len(group2)}\")\n",
    "\n",
    "# Perform Mann-Whitney U Test if both groups have data\n",
    "if len(group1) > 0 and len(group2) > 0:\n",
    "    stat, p_value = mannwhitneyu(group1, group2)\n",
    "\n",
    "    # Print the results\n",
    "    print(f\"Statistic: {stat}\")\n",
    "    print(f\"P-Value: {p_value}\")\n",
    "\n",
    "    # Interpret the result\n",
    "    alpha = 0.05\n",
    "    if p_value < alpha:\n",
    "        print(f\"There is a significant difference between {category1} and {category2}.\")\n",
    "    else:\n",
    "        print(f\"There is no significant difference between {category1} and {category2}.\")\n",
    "else:\n",
    "    print(\"One or both groups are empty. Cannot perform Mann-Whitney U Test.\")\n"
   ]
  },
  {
   "cell_type": "code",
   "execution_count": 255,
   "id": "dc2ddac3-5fe1-4f91-b6af-78842f68d2bc",
   "metadata": {},
   "outputs": [
    {
     "name": "stdout",
     "output_type": "stream",
     "text": [
      "Columns in DataFrame: Index(['Transaction_ID', 'Country', 'Product', 'Import_Export', 'Quantity',\n",
      "       'Value', 'Date', 'Category', 'Port', 'Weight', 'Shipping_Method',\n",
      "       'Supplier', 'Customer', 'Invoice_Number', 'Payment_Terms',\n",
      "       'Day_of_Year'],\n",
      "      dtype='object')\n",
      "Unique groups in 'Category': [4 3 1 2 0]\n",
      "Number of entries per group:\n",
      " Category\n",
      "0    286\n",
      "1    297\n",
      "2    346\n",
      "3    281\n",
      "4    290\n",
      "dtype: int64\n",
      "Data for group '4': [9156, 301, 905, 691, 6016, 5841, 6261, 9817, 2742, 4954, 6026, 9658, 3651, 7299, 7524, 4743, 3376, 4436, 3126, 9826, 4827, 9467, 4527, 5315, 4402, 3796, 3592, 9016, 2477, 2013, 112, 8680, 4299, 8966, 5986, 7264, 4956, 2083, 6810, 5740, 5002, 2218, 1541, 5645, 2327, 8614, 1700, 9020, 1795, 1752, 305, 4771, 9618, 1852, 2825, 1700, 7758, 5956, 1196, 472, 6802, 7567, 3235, 8444, 9611, 2161, 1888, 4736, 3276, 7769, 9032, 7993, 7293, 5510, 708, 6788, 9572, 8751, 6723, 1910, 9372, 5012, 6299, 9925, 1871, 9750, 9164, 3132, 5047, 1248, 6495, 8310, 3122, 7125, 6998, 4055, 9868, 9960, 5037, 7852, 2634, 9826, 7948, 4621, 6041, 677, 1913, 8524, 7787, 7492, 4055, 9190, 3883, 8742, 7147, 8374, 1046, 3095, 5381, 6211, 148, 7096, 8786, 4464, 9302, 1634, 4818, 1203, 1381, 8173, 1229, 2251, 94, 9794, 9286, 9509, 1791, 8432, 2494, 5461, 2197, 7166, 7551, 1708, 825, 3343, 3263, 2513, 3936, 6772, 5731, 3785, 8533, 4059, 105, 7859, 1544, 7711, 3295, 2651, 1438, 7159, 4243, 6054, 1455, 8712, 524, 3114, 7370, 3836, 9026, 3980, 3649, 9740, 786, 4545, 4434, 8961, 1928, 9517, 7920, 1482, 6748, 1696, 1214, 8530, 6219, 2381, 7047, 8295, 44, 880, 1502, 6734, 7128, 5508, 1239, 1774, 9279, 8034, 5386, 3577, 4913, 4799, 9875, 4830, 4353, 2841, 3612, 1143, 9920, 2568, 592, 6289, 9136, 4130, 6079, 7070, 4538, 9034, 743, 2682, 5594, 2633, 7022, 8045, 2601, 7513, 8352, 1698, 8921, 3842, 4855, 5482, 9028, 5436, 5356, 9834, 1108, 976, 7095, 4229, 613, 2920, 4673, 7212, 6920, 3851, 7585, 8797, 9285, 6534, 9967, 4591, 2024, 3426, 3513, 442, 5788, 2026, 1115, 3267, 6093, 1160, 2193, 4097, 7403, 717, 9704, 6293, 8970, 1299, 9718, 3387, 4427, 6648, 6333, 7801, 9269, 3066, 3847, 4080, 2926, 6091, 8156, 3304, 4470, 9841, 7349, 5339]\n",
      "Data for group '3': [5206, 9376, 1155, 7718, 8602, 5711, 8946, 4941, 1511, 2382, 7625, 5602, 2467, 4040, 104, 4184, 1939, 8336, 501, 8365, 3521, 4187, 7706, 7078, 1320, 5173, 519, 1435, 4152, 4794, 4387, 5163, 760, 4475, 8409, 7522, 2932, 6118, 4034, 5902, 6454, 8549, 3830, 12, 7553, 7552, 2605, 9977, 6030, 3420, 137, 1590, 8276, 9448, 8443, 8601, 4851, 6725, 1883, 101, 3011, 8704, 5400, 648, 5914, 1803, 5533, 6554, 5700, 8396, 9488, 1624, 852, 3498, 3814, 9654, 3801, 3681, 2493, 8271, 1510, 2455, 4264, 5615, 3683, 8714, 5493, 3815, 9741, 1125, 7690, 6109, 6665, 1161, 2448, 5842, 9207, 7889, 1800, 3509, 5498, 5065, 8397, 2346, 8798, 456, 4583, 9251, 1696, 3132, 908, 1954, 3038, 9243, 5064, 7244, 727, 6900, 9218, 7311, 2654, 913, 2700, 3487, 7700, 2373, 8365, 7550, 8604, 7735, 9855, 8557, 753, 3048, 3549, 3410, 4954, 8776, 1465, 486, 1557, 1675, 5656, 8171, 5123, 5534, 231, 5307, 6106, 8272, 899, 2373, 3468, 4876, 7583, 756, 6456, 7245, 4226, 7979, 9341, 4698, 569, 1916, 8977, 9868, 3804, 6800, 564, 5852, 2597, 1000, 1967, 1650, 7687, 1583, 3171, 4607, 4171, 5265, 3051, 3225, 8244, 8782, 6534, 7076, 9599, 8394, 4453, 1262, 3350, 6066, 131, 1089, 1899, 8840, 4234, 1867, 3827, 9968, 3378, 9035, 1392, 8116, 1479, 8201, 9977, 1448, 1129, 5540, 6710, 213, 1127, 2669, 4118, 2513, 3137, 9881, 28, 1256, 8402, 2617, 6724, 9059, 2848, 2612, 2151, 7098, 234, 910, 3358, 9364, 4493, 294, 4786, 3557, 1637, 6852, 331, 8505, 4802, 6475, 4008, 6814, 8622, 5613, 8075, 7664, 661, 2526, 7444, 4960, 7699, 823, 3804, 2029, 8890, 6645, 3980, 5376, 1842, 4595, 8401, 2575, 8309, 3690, 9479, 4559, 3684, 1171, 883, 4197, 5204, 596, 5, 8307, 8383, 4715, 169, 6332, 2582]\n",
      "Data for group '1': [7305, 2251, 1958, 6287, 6762, 7391, 4512, 858, 6948, 2999, 5895, 2065, 5170, 2099, 7267, 9966, 5990, 8606, 7273, 3425, 3213, 7929, 8215, 2885, 9948, 4358, 6472, 2709, 7109, 4821, 4246, 5128, 917, 2016, 4393, 6117, 1236, 672, 758, 7170, 3174, 7709, 9693, 9371, 1421, 461, 4290, 9899, 4172, 2712, 7714, 9913, 9259, 9820, 2063, 8440, 6840, 991, 7172, 4934, 7921, 2400, 4795, 5532, 3155, 6897, 8945, 6112, 68, 694, 8936, 2785, 8235, 1179, 477, 8012, 7299, 339, 7711, 3239, 6870, 2522, 4952, 7016, 8365, 8203, 5682, 1697, 8300, 2351, 2422, 2581, 9282, 2550, 4573, 7458, 163, 1919, 8661, 4084, 8840, 3859, 1521, 7042, 2347, 5061, 1745, 3154, 4062, 783, 1633, 5583, 1105, 6410, 1218, 5497, 7358, 9744, 2624, 3389, 8984, 4545, 2684, 598, 604, 7417, 8872, 6238, 7078, 6616, 5489, 3163, 5657, 7076, 8841, 6690, 8208, 4308, 1310, 249, 4110, 3061, 7237, 4258, 996, 7428, 8124, 8774, 6267, 9816, 7266, 1498, 4382, 8660, 9136, 1483, 8450, 4126, 8725, 2752, 3141, 2425, 6118, 330, 5896, 1450, 6946, 9692, 3340, 1475, 9973, 493, 7220, 9870, 1422, 6617, 5860, 9444, 8945, 5769, 3575, 9182, 3828, 2547, 8983, 5404, 1286, 8602, 8846, 6758, 4592, 9386, 1772, 2664, 3901, 2058, 3431, 7549, 7321, 6086, 588, 5429, 9668, 4491, 5880, 5736, 2698, 137, 4142, 2585, 4962, 4101, 1485, 4208, 7528, 5061, 6846, 9743, 8964, 5025, 7089, 597, 5961, 6362, 9981, 9272, 9349, 588, 2223, 5588, 9639, 9616, 6468, 8652, 5936, 333, 5746, 7891, 527, 4169, 5891, 1851, 6773, 5116, 5570, 7047, 5131, 8768, 5745, 18, 8079, 7222, 2321, 6252, 177, 6304, 5365, 9940, 6390, 2976, 9771, 6495, 8119, 8864, 5753, 6154, 5420, 549, 3263, 3378, 2107, 9957, 4062, 3320, 7464, 5016, 8885, 8736, 7155, 2944, 3571, 5242, 6105, 3409, 5845, 7577, 9326, 5770, 9524, 6170, 2766, 1431, 1984, 2698, 3119, 5132, 6997]\n",
      "Data for group '2': [2169, 9755, 8017, 2455, 10000, 7168, 3130, 8308, 912, 7706, 601, 9859, 8007, 959, 6613, 871, 7220, 8200, 6358, 3034, 9867, 8380, 2179, 640, 2735, 4020, 1416, 766, 544, 1691, 6789, 7801, 463, 3744, 6168, 9665, 1499, 76, 166, 236, 4947, 8667, 3723, 7827, 2503, 7180, 597, 259, 612, 1744, 1311, 9514, 7853, 1205, 5305, 8693, 3247, 3997, 6470, 3680, 5986, 6032, 3999, 1531, 2808, 8496, 4008, 5041, 7156, 5770, 5314, 923, 6276, 3246, 2820, 7651, 1904, 7638, 8482, 7054, 7359, 6339, 6681, 2019, 4775, 2235, 43, 6343, 9431, 6898, 3477, 1210, 702, 104, 694, 2107, 4603, 6524, 856, 8937, 4331, 2147, 7586, 3322, 4369, 963, 2083, 9985, 141, 6297, 5952, 7322, 762, 3707, 6667, 806, 3558, 9468, 8663, 9016, 7535, 2862, 2203, 1456, 8121, 3508, 7252, 453, 3261, 4577, 4418, 4624, 3188, 8611, 2548, 2861, 9140, 694, 2908, 1715, 2332, 9100, 9071, 4676, 5918, 8806, 965, 3459, 9536, 5881, 5928, 4566, 6322, 5099, 1517, 9309, 1487, 8933, 7990, 8001, 5018, 1294, 5479, 1130, 862, 9119, 8248, 4010, 8445, 4583, 8913, 9580, 9572, 9995, 1966, 2291, 7118, 2390, 4697, 386, 3445, 8324, 7158, 6940, 6459, 1665, 3908, 4225, 3401, 8236, 1055, 5282, 794, 1873, 625, 4995, 2824, 2041, 5688, 6124, 7974, 57, 1685, 8917, 4508, 4359, 6508, 6751, 272, 2037, 5178, 5871, 388, 5284, 7383, 2297, 7670, 1228, 5666, 7517, 8641, 3366, 949, 2868, 9220, 5678, 8855, 3578, 6006, 8598, 9535, 9816, 7290, 2256, 4437, 2532, 5664, 8959, 2599, 6505, 7280, 5907, 4955, 3342, 4871, 4102, 9445, 4584, 196, 3652, 1979, 3293, 1730, 7850, 3650, 573, 8470, 8503, 8517, 5887, 4638, 7827, 2033, 2969, 6079, 6292, 8287, 9020, 1501, 4264, 1249, 3365, 8445, 1144, 4154, 1460, 9209, 7485, 3674, 6247, 8303, 7013, 9426, 1733, 7391, 7510, 4912, 3122, 3102, 1106, 16, 9836, 3347, 8069, 1579, 6055, 9954, 6783, 5889, 654, 5172, 160, 7000, 7310, 5288, 2628, 6115, 9544, 9050, 4728, 6518, 7121, 5613, 3274, 7505, 25, 6141, 63, 647, 5525, 1013, 2640, 7487, 1219, 5101, 2384, 511, 524, 4342, 7532, 5278, 42, 438, 6816, 8054, 5633, 5026, 4796, 180, 8329, 502, 9326, 3113, 8869, 1346, 1284]\n",
      "Data for group '0': [7658, 3522, 5546, 497, 9646, 491, 6629, 820, 4216, 4059, 5981, 9867, 7021, 9410, 7905, 929, 371, 1022, 2667, 1050, 8112, 7635, 3669, 6635, 4402, 124, 5338, 6733, 870, 2198, 4558, 6484, 6076, 2440, 1627, 1417, 2771, 683, 1238, 9930, 2427, 9884, 5756, 7201, 9831, 4823, 2226, 5983, 9686, 5208, 5422, 5734, 348, 9754, 9988, 1710, 5259, 9174, 5751, 8943, 2452, 5100, 70, 6885, 4460, 3563, 4241, 7014, 6459, 9803, 2700, 3667, 1168, 4289, 2337, 2174, 5828, 2774, 5835, 4832, 4947, 7253, 1470, 89, 8436, 261, 2225, 6863, 7641, 3999, 1978, 7993, 9253, 8976, 8246, 7939, 2012, 516, 114, 8423, 708, 9418, 5597, 4333, 9466, 4752, 5659, 9065, 705, 454, 7848, 9444, 577, 2348, 7978, 4774, 8361, 6106, 5972, 2132, 4962, 9766, 1380, 9252, 629, 9220, 7277, 4537, 3011, 1562, 7862, 6479, 9486, 3002, 4419, 5179, 8593, 7741, 1631, 518, 8849, 2191, 4486, 7157, 1560, 939, 6586, 7686, 3850, 5766, 9195, 2045, 3368, 7538, 271, 6685, 2064, 6123, 1024, 7136, 3495, 7250, 5967, 180, 174, 5712, 3170, 2162, 341, 8455, 5547, 4717, 7043, 865, 6301, 6882, 4662, 1415, 7240, 9728, 8643, 4475, 2118, 7375, 5557, 6666, 4463, 8597, 2067, 5183, 2659, 5822, 5645, 3327, 6861, 2120, 6793, 4291, 4983, 1029, 2640, 1101, 4059, 1190, 2022, 3718, 4818, 198, 4812, 6322, 299, 5232, 7458, 7153, 5438, 1088, 5234, 4980, 265, 4294, 1458, 7320, 6511, 1632, 7481, 839, 2729, 7532, 677, 6770, 5875, 1085, 8106, 5656, 6677, 8519, 8039, 7708, 3505, 3219, 5855, 749, 5997, 7563, 4518, 210, 8221, 3875, 3555, 7752, 7378, 7512, 1785, 3077, 2237, 7061, 3783, 1724, 5075, 6793, 2789, 8846, 6752, 2218, 7971, 5105, 9525, 7887, 4823, 2390, 928, 8500, 8489, 542, 6373, 1887, 1566, 9762, 5163, 2904, 4385, 6237, 4161, 7887, 2274, 3660]\n",
      "Statistic: 7.082818852124772\n",
      "P-Value: 0.13157581995478992\n",
      "There is no significant difference between the groups in 'Category'.\n"
     ]
    }
   ],
   "source": [
    "#107.  Perform a Kruskal-Wallis Test for non-parametric data\n",
    "\n",
    "import pandas as pd\n",
    "from scipy.stats import kruskal\n",
    "\n",
    "# Print the columns to verify\n",
    "print(\"Columns in DataFrame:\", df_sample.columns)\n",
    "\n",
    "# Define columns\n",
    "group_column = 'Category'  # Column with categorical groups\n",
    "numerical_column = 'Quantity'  # Column with numerical data\n",
    "\n",
    "# Drop rows where either group_column or numerical_column is NaN\n",
    "df_sample = df_sample.dropna(subset=[group_column, numerical_column])\n",
    "\n",
    "# Get unique groups\n",
    "groups = df_sample[group_column].unique()\n",
    "print(f\"Unique groups in '{group_column}':\", groups)\n",
    "\n",
    "# Check the number of entries per group\n",
    "group_counts = df_sample.groupby(group_column).size()\n",
    "print(\"Number of entries per group:\\n\", group_counts)\n",
    "\n",
    "# Prepare data for Kruskal-Wallis test\n",
    "group_data = []\n",
    "for group in groups:\n",
    "    data_for_group = df_sample[df_sample[group_column] == group][numerical_column]\n",
    "    print(f\"Data for group '{group}':\", data_for_group.tolist())  # Print data for each group\n",
    "    if len(data_for_group) > 0:\n",
    "        group_data.append(data_for_group)\n",
    "    else:\n",
    "        print(f\"Group '{group}' has no data.\")\n",
    "\n",
    "# Check if there are at least two groups with data\n",
    "if len(group_data) < 2:\n",
    "    raise ValueError(\"Need at least two groups with data to perform the Kruskal-Wallis test.\")\n",
    "\n",
    "# Perform Kruskal-Wallis H-test\n",
    "stat, p_value = kruskal(*group_data)\n",
    "\n",
    "# Print the results\n",
    "print(f\"Statistic: {stat}\")\n",
    "print(f\"P-Value: {p_value}\")\n",
    "\n",
    "# Interpret the result\n",
    "alpha = 0.05\n",
    "if p_value < alpha:\n",
    "    print(f\"There is a significant difference between the groups in '{group_column}'.\")\n",
    "else:\n",
    "    print(f\"There is no significant difference between the groups in '{group_column}'.\")\n"
   ]
  },
  {
   "cell_type": "code",
   "execution_count": 265,
   "id": "5541cbfb-326e-4ea9-9d41-f7e977a8fe0f",
   "metadata": {},
   "outputs": [
    {
     "name": "stdout",
     "output_type": "stream",
     "text": [
      "Columns in DataFrame: Index(['Transaction_ID', 'Country', 'Product', 'Import_Export', 'Quantity',\n",
      "       'Value', 'Date', 'Category', 'Port', 'Weight', 'Shipping_Method',\n",
      "       'Supplier', 'Customer', 'Invoice_Number', 'Payment_Terms',\n",
      "       'Day_of_Year'],\n",
      "      dtype='object')\n",
      "Statistic: 0.0\n",
      "P-Value: 1.0088901630414764e-246\n",
      "There is a significant difference between the paired samples.\n"
     ]
    }
   ],
   "source": [
    "#108. Perform a Wilcoxon signed-rank test.\n",
    "\n",
    "import pandas as pd\n",
    "from scipy.stats import wilcoxon\n",
    "\n",
    "# Print the columns to verify\n",
    "print(\"Columns in DataFrame:\", df_sample.columns)\n",
    "\n",
    "# Define columns for paired comparison\n",
    "column1 = 'Category'  # Update this with the actual column name\n",
    "column2 = 'Quantity'   # Update this with the actual column name\n",
    "\n",
    "# Ensure the columns exist\n",
    "if column1 not in df_sample.columns or column2 not in df_sample.columns:\n",
    "    raise ValueError(f\"One or both of the specified columns '{column1}' and '{column2}' do not exist in the DataFrame.\")\n",
    "\n",
    "# Drop rows with NaN values in either column\n",
    "df_sample = df_sample.dropna(subset=[column1, column2])\n",
    "\n",
    "# Extract data for each condition\n",
    "data_before = df_sample[column1]\n",
    "data_after = df_sample[column2]\n",
    "\n",
    "# Perform Wilcoxon signed-rank test\n",
    "stat, p_value = wilcoxon(data_before, data_after)\n",
    "\n",
    "# Print the results\n",
    "print(f\"Statistic: {stat}\")\n",
    "print(f\"P-Value: {p_value}\")\n",
    "\n",
    "# Interpret the result\n",
    "alpha = 0.05\n",
    "if p_value < alpha:\n",
    "    print(\"There is a significant difference between the paired samples.\")\n",
    "else:\n",
    "    print(\"There is no significant difference between the paired samples.\")\n"
   ]
  },
  {
   "cell_type": "code",
   "execution_count": 239,
   "id": "2bd37bbe-9032-42fc-b9c7-2c4ce39a8844",
   "metadata": {},
   "outputs": [
    {
     "name": "stdout",
     "output_type": "stream",
     "text": [
      "Accuracy:  0.52\n",
      "Confusion Matrix:\n",
      " [[143  83]\n",
      " [133  91]]\n",
      "Classification Report:\n",
      "               precision    recall  f1-score   support\n",
      "\n",
      "           0       0.52      0.63      0.57       226\n",
      "           1       0.52      0.41      0.46       224\n",
      "\n",
      "    accuracy                           0.52       450\n",
      "   macro avg       0.52      0.52      0.51       450\n",
      "weighted avg       0.52      0.52      0.51       450\n",
      "\n",
      "Optimization terminated successfully.\n",
      "         Current function value: 0.691760\n",
      "         Iterations 3\n",
      "                           Logit Regression Results                           \n",
      "==============================================================================\n",
      "Dep. Variable:          Import_Export   No. Observations:                 1050\n",
      "Model:                          Logit   Df Residuals:                     1044\n",
      "Method:                           MLE   Df Model:                            5\n",
      "Date:                Sat, 14 Sep 2024   Pseudo R-squ.:                0.001834\n",
      "Time:                        15:47:13   Log-Likelihood:                -726.35\n",
      "converged:                       True   LL-Null:                       -727.68\n",
      "Covariance Type:            nonrobust   LLR p-value:                    0.7509\n",
      "===================================================================================\n",
      "                      coef    std err          z      P>|z|      [0.025      0.975]\n",
      "-----------------------------------------------------------------------------------\n",
      "const               0.1746      0.240      0.727      0.467      -0.296       0.645\n",
      "Country            -0.0010      0.001     -1.196      0.232      -0.003       0.001\n",
      "Product          2.173e-05      0.000      0.076      0.940      -0.001       0.001\n",
      "Category           -0.0314      0.044     -0.707      0.479      -0.118       0.056\n",
      "Port             6.606e-05      0.000      0.437      0.662      -0.000       0.000\n",
      "Shipping_Method    -0.0660      0.076     -0.863      0.388      -0.216       0.084\n",
      "===================================================================================\n"
     ]
    }
   ],
   "source": [
    "# Causal Analysis for Categorical Data\n",
    "#109. Perform logistic regression with a categorical variable.\n",
    "\n",
    "import pandas as pd\n",
    "import numpy as np\n",
    "import statsmodels.api as sm\n",
    "from sklearn.model_selection import train_test_split\n",
    "from sklearn.linear_model import LogisticRegression\n",
    "from sklearn.metrics import accuracy_score, confusion_matrix, classification_report\n",
    "from sklearn.preprocessing import LabelEncoder\n",
    "\n",
    "\n",
    "df_sample = df.sample(frac=0.1, random_state=5502158)  # Adjust frac to the appropriate sample size\n",
    "\n",
    "# Encode Nominal categorical variables\n",
    "nominal_vars = ['Country', 'Product', 'Import_Export', 'Category', 'Port', 'Shipping_Method', 'Supplier', 'Customer', 'Payment_Terms']\n",
    "\n",
    "le = LabelEncoder()\n",
    "for var in nominal_vars:\n",
    "    df_sample[var] = le.fit_transform(df_sample[var])\n",
    "\n",
    "# Assume Ordinal variables are already numerically encoded\n",
    "# Define target (dependent) variable\n",
    "y = df_sample['Import_Export']\n",
    "\n",
    "# Define the feature set (independent variables)\n",
    "X = df_sample[['Country', 'Product', 'Category', 'Port', 'Shipping_Method']]\n",
    "\n",
    "# Adding a constant to the model for intercept\n",
    "X = sm.add_constant(X)\n",
    "\n",
    "# Split the data into train and test sets\n",
    "X_train, X_test, y_train, y_test = train_test_split(X, y, test_size=0.3, random_state=42)\n",
    "\n",
    "# Initialize and train the logistic regression model\n",
    "log_reg = LogisticRegression()\n",
    "log_reg.fit(X_train, y_train)\n",
    "\n",
    "# Make predictions on the test set\n",
    "y_pred = log_reg.predict(X_test)\n",
    "\n",
    "# Evaluate the model\n",
    "accuracy = accuracy_score(y_test, y_pred)\n",
    "conf_matrix = confusion_matrix(y_test, y_pred)\n",
    "class_report = classification_report(y_test, y_pred)\n",
    "\n",
    "print(\"Accuracy: \", accuracy)\n",
    "print(\"Confusion Matrix:\\n\", conf_matrix)\n",
    "print(\"Classification Report:\\n\", class_report)\n",
    "\n",
    "# Logistic regression summary using statsmodels (optional)\n",
    "logit_model = sm.Logit(y_train, X_train)\n",
    "result = logit_model.fit()\n",
    "\n",
    "# Print the summary\n",
    "print(result.summary())\n"
   ]
  },
  {
   "cell_type": "code",
   "execution_count": 241,
   "id": "cc807cc8-35d0-4b80-a8cf-682f3272c50f",
   "metadata": {},
   "outputs": [
    {
     "data": {
      "image/png": "[encoded data removed]",
      "text/plain": [
       "<Figure size 1000x600 with 1 Axes>"
      ]
     },
     "metadata": {},
     "output_type": "display_data"
    }
   ],
   "source": [
    "# Visualization for Non-Categorical Data\n",
    "#110. Create a scatter plot of two numerical columns.\n",
    "\n",
    "import matplotlib.pyplot as plt\n",
    "import seaborn as sns\n",
    "\n",
    "\n",
    "# Scatter plot of 'Quantity' vs 'Value'\n",
    "plt.figure(figsize=(10, 6))\n",
    "sns.scatterplot(x='Quantity', y='Value', data=df_sample)\n",
    "\n",
    "# Adding labels and title\n",
    "plt.title('Scatter Plot of Quantity vs Value')\n",
    "plt.xlabel('Quantity')\n",
    "plt.ylabel('Value')\n",
    "\n",
    "# Display the plot\n",
    "plt.show()\n"
   ]
  },
  {
   "cell_type": "code",
   "execution_count": 243,
   "id": "1978c249-47e6-4537-a18b-ca75be725ca3",
   "metadata": {},
   "outputs": [
    {
     "data": {
      "image/png": "[encoded data removed]",
      "text/plain": [
       "<Figure size 1000x600 with 1 Axes>"
      ]
     },
     "metadata": {},
     "output_type": "display_data"
    }
   ],
   "source": [
    "#111. Create a line plot for a numerical column over time.\n",
    "import matplotlib.pyplot as plt\n",
    "import seaborn as sns\n",
    "import pandas as pd\n",
    "\n",
    "# Ensure 'Date' is in datetime format\n",
    "df_sample['Date'] = pd.to_datetime(df_sample['Date'])\n",
    "\n",
    "# Sort values by 'Date' to ensure proper line plot order\n",
    "df_sample = df_sample.sort_values('Date')\n",
    "\n",
    "# Line plot of 'Value' over time ('Date')\n",
    "plt.figure(figsize=(10, 6))\n",
    "sns.lineplot(x='Date', y='Value', data=df_sample)\n",
    "\n",
    "# Adding labels and title\n",
    "plt.title('Line Plot of Value Over Time')\n",
    "plt.xlabel('Date')\n",
    "plt.ylabel('Value')\n",
    "\n",
    "# Display the plot\n",
    "plt.show()\n"
   ]
  },
  {
   "cell_type": "code",
   "execution_count": 245,
   "id": "c793f18d-bd46-49fe-95d9-f80df7b7db09",
   "metadata": {},
   "outputs": [
    {
     "data": {
      "image/png": "[encoded data removed]",
      "text/plain": [
       "<Figure size 800x600 with 1 Axes>"
      ]
     },
     "metadata": {},
     "output_type": "display_data"
    }
   ],
   "source": [
    "# 112. Create a box-whisker plot for a numerical column.\n",
    "\n",
    "import matplotlib.pyplot as plt\n",
    "import seaborn as sns\n",
    "\n",
    "\n",
    "# Box-whisker plot for 'Value'\n",
    "plt.figure(figsize=(8, 6))\n",
    "sns.boxplot(y='Value', data=df_sample)\n",
    "\n",
    "# Adding title and labels\n",
    "plt.title('Box-Whisker Plot for Value')\n",
    "plt.ylabel('Value')\n",
    "\n",
    "# Display the plot\n",
    "plt.show()\n"
   ]
  },
  {
   "cell_type": "code",
   "execution_count": 247,
   "id": "356cb346-2060-46c9-9f3a-7ad50a013d3c",
   "metadata": {},
   "outputs": [
    {
     "data": {
      "image/png": "[encoded data removed]",
      "text/plain": [
       "<Figure size 640x480 with 1 Axes>"
      ]
     },
     "metadata": {},
     "output_type": "display_data"
    }
   ],
   "source": [
    "#Visualization for Categorical Data\n",
    "#113. Create a bar plot for a categorical column.\n",
    "\n",
    "import pandas as pd\n",
    "import matplotlib.pyplot as plt\n",
    "\n",
    "# Count occurrences of each category\n",
    "category_counts = df['Category'].value_counts()\n",
    "\n",
    "# Create bar plot\n",
    "category_counts.plot(kind='bar')\n",
    "plt.xlabel('Category')\n",
    "plt.ylabel('Frequency')\n",
    "plt.title('Bar Plot of Category Frequencies')\n",
    "plt.show()\n"
   ]
  },
  {
   "cell_type": "code",
   "execution_count": 249,
   "id": "c94382e1-cefa-4ce3-af4b-dfda446c5dc7",
   "metadata": {},
   "outputs": [
    {
     "data": {
      "image/png": "[encoded data removed]",
      "text/plain": [
       "<Figure size 1000x600 with 1 Axes>"
      ]
     },
     "metadata": {},
     "output_type": "display_data"
    }
   ],
   "source": [
    "#114.Create a histogram for a categorical column\n",
    "\n",
    "import pandas as pd\n",
    "import matplotlib.pyplot as plt\n",
    "import seaborn as sns\n",
    "\n",
    "\n",
    "# Create histogram-like plot using seaborn\n",
    "plt.figure(figsize=(10, 6))\n",
    "sns.countplot(data=df, x='Payment_Terms')\n",
    "plt.xlabel('Payment Terms')\n",
    "plt.ylabel('Count')\n",
    "plt.title('Histogram of Payment Terms Frequencies')\n",
    "plt.xticks(rotation=45)  # Rotate x-axis labels for better readability\n",
    "plt.show()\n"
   ]
  },
  {
   "cell_type": "code",
   "execution_count": 251,
   "id": "15b46f92-fda2-4010-a706-b321a877a8a2",
   "metadata": {},
   "outputs": [
    {
     "data": {
      "image/png": "[encoded data removed]",
      "text/plain": [
       "<Figure size 800x800 with 1 Axes>"
      ]
     },
     "metadata": {},
     "output_type": "display_data"
    }
   ],
   "source": [
    "# 115. Create a pie chart for a categorical column.\n",
    "\n",
    "# Count occurrences of each category\n",
    "category_counts = df['Category'].value_counts()\n",
    "\n",
    "# Create pie chart\n",
    "plt.figure(figsize=(8, 8))\n",
    "plt.pie(category_counts, labels=category_counts.index, autopct='%1.1f%%', startangle=140)\n",
    "plt.title('Pie Chart of Category Frequencies')\n",
    "plt.show()\n"
   ]
  }
 ],
 "metadata": {
  "kernelspec": {
   "display_name": "Python 3 (ipykernel)",
   "language": "python",
   "name": "python3"
  },
  "language_info": {
   "codemirror_mode": {
    "name": "ipython",
    "version": 3
   },
   "file_extension": ".py",
   "mimetype": "text/x-python",
   "name": "python",
   "nbconvert_exporter": "python",
   "pygments_lexer": "ipython3",
   "version": "3.12.4"
  }
 },
 "nbformat": 4,
 "nbformat_minor": 5
}
